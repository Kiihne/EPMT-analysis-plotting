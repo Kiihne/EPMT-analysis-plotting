{
 "cells": [
  {
   "cell_type": "markdown",
   "metadata": {},
   "source": [
    "# EPMT Query API\n",
    "\n",
    "This workbook will illustrate the usage of the EPMT Query API. \n",
    "\n",
    "`EPMT` stores job/process/thread data and metadata in a database, be that a local file\n",
    "or a database server. Access to the database is provided by the EPMT Query API, which\n",
    "provides functions specifically tailored to the needs of a performance analyst. \n",
    "\n",
    "Data from the query functions can be returned in a variety of formats. The most\n",
    "useful and recommended option is the `pandas` format, which returns a Pandas\n",
    "dataframe. Other formats include, `terse`, which provides a concise listing, and\n",
    "`dict`, which returns collections a lists of python dictionaries. We also have a\n",
    "powerful `orm` return format, that provides an ORM object, which provides for\n",
    "lazy execution of SQL queries.\n",
    "\n",
    "The result of this notebook will walk you through the API calls, starting with\n",
    "the highest-level job queries, followed by more granular operation-level queries,\n",
    "followed by low-level process and thread queries. As you analyze your data, you will\n",
    "likely find this hierarchial approach useful in analyzing performance issues.\n",
    "\n",
    "## Table of Contents\n",
    "\n",
    " * [Getting documentation](#getting-docs)\n",
    " * [Importing data for the study](#import-data)\n",
    " * [Import module](#import-module)\n",
    " * [API function categories](#api-categories)\n",
    " * [Job Queries](#job-query)\n",
    "   * [Output format and converting between formats](#output-formats)\n",
    "   * [Working with ORM objects](#orm-objects)\n",
    "   * [Job tags](#job-tags)\n",
    "   * [Job status](#job-status)\n",
    "   * [Ordering and filtering jobs](#jobs-order-filter)\n",
    "   * [Failed jobs](#failed-jobs)\n",
    "   * [Process sums](#proc-sums-field)\n",
    "   \n",
    " * [Operations](#ops)\n",
    "   * [Selecting processes in an operation](#select-op-procs)\n",
    "   * [Operation primitive](#operation-primitive)\n",
    "   * [`get_ops` API call](#get-ops)\n",
    "   * [Aggregating operation metrics](#op-metrics)\n",
    "   * [Data-movement v. useful work](#dm-ops)\n",
    "   * [`get_op_metrics` grouped by tag](#group-by-tag)\n",
    "   * [CPU-time v. duration](#cpu-time-v-duration)\n",
    "   * [Operation costs v. total time](#ops-costs)\n",
    "   * [Operation root(s) (ADVANCED TOPIC)](#op-roots)\n",
    "\n",
    " * [Process Queries](#process-query)\n",
    "   * [Process tags](#process-tags)\n",
    "     * [Unique process tags in job (ADVANCED TOPIC)](#job-proc-tags)\n",
    "   * [Filter and ordering](#filter-processes)\n",
    "   * [Thread metrics aggregation (ADVANCED TOPIC)](#thread-metrics-aggregation)\n",
    "   * [Process tree and depth (ADVANCED TOPIC)](#proc-tree)\n",
    "     * [Process tree walk](#process-tree-walk)\n",
    "   * [Process roots](#proc-roots)\n",
    "   * [Process histogram](#procs-histogram)\n",
    "   * [Process Timeline](#timeline)\n",
    " * [Thread Query](#thread-query) \n",
    " * [Useful Attributes of Job/Process/Threads](#useful-attributes)\n",
    " * [Case Study](#case-study)\n",
    " * [Modifying Job Metadata](#modify-job-metadata)\n",
    "   * [Annotate jobs](#annotate-jobs)\n",
    "   * [Analyze jobs](#analyze-jobs) \n",
    " * [Deleting Jobs](#delete-jobs)\n",
    "   * [Delete jobs based on their start/finish times](#delete-jobs-time-based)\n"
   ]
  },
  {
   "cell_type": "markdown",
   "metadata": {},
   "source": [
    "## <a name=\"getting-docs\">Getting to the docs</a>\n",
    "\n",
    "The module functions have embedded documentation in the form of docstrings. You can access it, \n",
    "as you would do for any Python module/function:\n",
    "\n",
    "To get help for all functions in the module, do `help(<module-name)`:\n",
    "```\n",
    "help(eq)\n",
    "```\n",
    "\n",
    "To get documentation for a specific function, do something like:\n",
    "```\n",
    "help(eq.get_jobs)\n",
    "```\n",
    "\n",
    "On the command-line you can get a listing of API functions, by doing:\n",
    "```\n",
    "$ epmt help api\n",
    "```\n",
    "\n",
    "And, details on an individual function, by doing:\n",
    "```\n",
    "$ epmt help api <function-name>   # for example \"epmt help api get_jobs\"\n",
    "```"
   ]
  },
  {
   "cell_type": "markdown",
   "metadata": {},
   "source": [
    "<!-- ## <a name=\"import-data\">Importing the data for this study</a>\n",
    "\n",
    "This workbook relies on importing the following data. We use an sqlite database \n",
    "in this study, but you can use another database such as `postgresql`.\n",
    "See the `preset_settings` folder to pick up a template of your choice and edit it\n",
    "if needed. Save the template in the `epmt` folder as `settings.py`\n",
    "\n",
    "While not required to do so, it's recommended that you start in a fresh database\n",
    "so as not to affect your existing data. The sqlite database path is controlled\n",
    "in `settings.py`, and is typically a file in the user `HOME`.\n",
    "\n",
    "The tar files we need to import are in the `epmt` install area. \n",
    "```\n",
    "# pick the database settings file of your choice\n",
    "$ cp ../preset_settings/settings_sqlite_localfile.py settings.py\n",
    "\n",
    "# backup your existing database\n",
    "# The path might vary depending on your settings.py\n",
    "# mv ~/EPMT_DB.sqlite ~/EPMT_DB.sqlite.backup\n",
    "\n",
    "# now import the data\n",
    "# First we figure out the EPMT install directory, and then import the .tgz from under it\n",
    "$ EPMT_INSTALL_DIR=\"`epmt help| grep install_prefix| sed 's/papiex-//'| awk '{print $2}'`epmt\"\n",
    "$ epmt submit $EPMT_INSTALL_DIR/test/data/query_notebook/*.tgz\n",
    "\n",
    "# check the list of imported jobs\n",
    "$ epmt list\n",
    "['625172', '627922', jobid_choice_1, '633144', '676007', '680181', '685000', '685016', '692544', '693147', '696127', '802954', '804285']\n",
    "```\n",
    "\n",
    "<a name=\"import-module\"></a> -->"
   ]
  },
  {
   "cell_type": "markdown",
   "metadata": {},
   "source": [
    "## <a name=\"api-categories\">API Function Categories</a>\n",
    "\n",
    "The API functions can be broadly put into a few categories based on the hierarchy of data they operate on: \n",
    "\n",
    "**Job-level queries**\n",
    "\n",
    "These functions operate on individual jobs or a collections of jobs. A job can be thought of\n",
    "as what we submit to a batch system to execute. It's a collection of processes. Job-level\n",
    "queries include `get_jobs`, `get_job_tags`, `are_jobs_comparable`, and `comparable_job_partitions`.\n",
    "\n",
    "\n",
    "**Operation-level queries**\n",
    "\n",
    "These functions operate on the level of operations. An operation can be considered as a collection of processes that share some common tags. A tag is a collection of key/value pairs (a dictionary, if you will), and we associate these tags with processes at the time of execution using the environment variable `PAPIEX_TAGS`.\n",
    "\n",
    "Consider, a process tagged with `'op:hsmget;op_instance:1;op_sequence:2'`\n",
    "and another process tagged, with `'op:hsmget;op_instance:2;op_sequence:5'`. Then in terms of the \n",
    "most granular operation, the two processes belong to different operations. However, if we consider the\n",
    "higher-level operation `'op:hsmget'`, then the two processes belong to the same high-level operation.\n",
    "So an operation is intimately tied to the tag defining it.\n",
    "\n",
    "Example of operation queries include, `get_ops`, and `get_op_metrics`.\n",
    "\n",
    "\n",
    "**Process-level queries**\n",
    "\n",
    "These functions operate on individual processes. A process constitutes of one or more threads. If a process\n",
    "consists of a single thread, then the thread data is the process data. For multithreaded runs, the process\n",
    "data is obtained by summation over the inidividual threads. Process-level tend to be more time-consuming, as the number of processes are many orders of magnitude more than the number of jobs. Example of process-level queries include `get_procs`, `job_proc_tags`, `conv_procs`, `rank_proc_tags_keys` and `timeline`.\n",
    "\n",
    "\n",
    "**Thread-level queries**\n",
    "\n",
    "At present we have only a single API call for this category: `get_thread_metrics`.\n",
    "\n",
    "\n",
    "**Reference model calls**\n",
    "\n",
    "A reference model is a collection of a limited number of jobs or operations. It is used to\n",
    "serve as reference when determining whether other jobs or operations are inliers or outliers.\n",
    "Example of such calls include `create_refmodel`, `delete_refmodels` and `get_refmodels`. We\n",
    "won't be discussing reference model API calls in this notebook. They will be discussed in detail\n",
    "in the Outliers notebook.\n"
   ]
  },
  {
   "cell_type": "markdown",
   "metadata": {},
   "source": [
    "## <a name=\"job-query\">Job Queries</a>\n",
    "\n",
    "`get_jobs` is the most often used job-level query. It is used to query the database to find jobs\n",
    "matching some criteria. It usually takes a `tag` and returns a collection of jobs in the format specified by `fmt`. The returned list can be pruned and/or ordered using `fltr`, `limit` and `order`.\n",
    "\n",
    "You can also pass in one or more jobs as a `jobs` parameter, most often for format conversion.\n",
    "\n",
    "Let's get started! Import the required modules:"
   ]
  },
  {
   "cell_type": "code",
   "execution_count": 1,
   "metadata": {},
   "outputs": [],
   "source": [
    "# import the query api module\n",
    "import epmt_query as eq\n",
    "\n",
    "# pandas and numpy modules will be needed in the examples below\n",
    "import pandas as pd\n",
    "import numpy as np"
   ]
  },
  {
   "cell_type": "markdown",
   "metadata": {},
   "source": [
    "Now lets grab some data to play with."
   ]
  },
  {
   "cell_type": "code",
   "execution_count": 2,
   "metadata": {},
   "outputs": [
    {
     "data": {
      "text/plain": [
       "1000"
      ]
     },
     "execution_count": 2,
     "metadata": {},
     "output_type": "execute_result"
    }
   ],
   "source": [
    "# let's get jobs, we use the job tag to select the jobs\n",
    "# jobs = eq.get_jobs(tags='exp_name:ESM4_historical_D151;exp_component:ocean_month_rho2_1x1deg',fmt='terse')\n",
    "jobs = eq.get_jobs(limit=1000,before=-30,after=-35,fmt='terse')\n",
    "len(jobs)\n",
    "#jobs = eq.get_jobs(limit=1000,fmt='terse',before=-20)\n",
    "#jobs=eq.get_jobs(before=-10,after=-13,fmt='orm')\n",
    "#jobs.count()"
   ]
  },
  {
   "cell_type": "markdown",
   "metadata": {},
   "source": [
    "<a name=\"output-formats\"></a>`fmt` can take one of the following values:\n",
    " * `terse` -- this returns a list of job ids, no data\n",
    " * `pandas` -- this returns a pandas dataframe, with each row representing a job\n",
    " * `dict` -- for a list of python dictionaries, with each dict represeting a job\n",
    " * `orm` -- EPMT's database layer object for maximum flexibility and speediest queries\n",
    " \n",
    "`terse` and `orm` queries are the fastest, and should be used if you just want to count\n",
    "the number of items, for instance. `pandas` and `dict` take longer, and contain a lot\n",
    "more data. If you expect to do computations or vector operatons, then you will prefer `pandas`.\n",
    "If you want to iterate over a list, and deal only with ordinary python dicts, then choose\n",
    "`dict`."
   ]
  },
  {
   "cell_type": "code",
   "execution_count": 3,
   "metadata": {},
   "outputs": [
    {
     "data": {
      "text/plain": [
       "array(['updated_at', 'env_dict', 'tags', 'info_dict', 'env_changes_dict',\n",
       "       'cpu_time', 'annotations', 'submit', 'analyses', 'jobid', 'start',\n",
       "       'jobname', 'created_at', 'end', 'exitcode', 'duration', 'user',\n",
       "       'rchar', 'syscr', 'syscw', 'wchar', 'cstime', 'cutime', 'majflt',\n",
       "       'minflt', 'rssmax', 'cmajflt', 'cminflt', 'inblock', 'outblock',\n",
       "       'usertime', 'num_procs', 'processor', 'starttime', 'vol_ctxsw',\n",
       "       'guest_time', 'read_bytes', 'systemtime', 'time_oncpu',\n",
       "       'timeslices', 'invol_ctxsw', 'num_threads', 'write_bytes',\n",
       "       'time_waiting', 'all_proc_tags', 'delayacct_blkio_time',\n",
       "       'cancelled_write_bytes'], dtype=object)"
      ]
     },
     "metadata": {},
     "output_type": "display_data"
    },
    {
     "name": "stdout",
     "output_type": "stream",
     "text": [
      "1000 jobs\n"
     ]
    },
    {
     "data": {
      "text/html": [
       "<div>\n",
       "<style scoped>\n",
       "    .dataframe tbody tr th:only-of-type {\n",
       "        vertical-align: middle;\n",
       "    }\n",
       "\n",
       "    .dataframe tbody tr th {\n",
       "        vertical-align: top;\n",
       "    }\n",
       "\n",
       "    .dataframe thead th {\n",
       "        text-align: right;\n",
       "    }\n",
       "</style>\n",
       "<table border=\"1\" class=\"dataframe\">\n",
       "  <thead>\n",
       "    <tr style=\"text-align: right;\">\n",
       "      <th></th>\n",
       "      <th>updated_at</th>\n",
       "      <th>env_dict</th>\n",
       "      <th>tags</th>\n",
       "      <th>info_dict</th>\n",
       "      <th>env_changes_dict</th>\n",
       "      <th>cpu_time</th>\n",
       "      <th>annotations</th>\n",
       "      <th>submit</th>\n",
       "      <th>analyses</th>\n",
       "      <th>jobid</th>\n",
       "      <th>...</th>\n",
       "      <th>systemtime</th>\n",
       "      <th>time_oncpu</th>\n",
       "      <th>timeslices</th>\n",
       "      <th>invol_ctxsw</th>\n",
       "      <th>num_threads</th>\n",
       "      <th>write_bytes</th>\n",
       "      <th>time_waiting</th>\n",
       "      <th>all_proc_tags</th>\n",
       "      <th>delayacct_blkio_time</th>\n",
       "      <th>cancelled_write_bytes</th>\n",
       "    </tr>\n",
       "  </thead>\n",
       "  <tbody>\n",
       "    <tr>\n",
       "      <td>0</td>\n",
       "      <td>2023-05-06 01:06:03.986347</td>\n",
       "      <td>{'ENV': '/usr/local/Modules/5.1.1/init/profile...</td>\n",
       "      <td>{'exp_name': 'SPEAR_c96_o1_Hist_AllForc_IC1851...</td>\n",
       "      <td>{'tz': 'EDT', 'status': {'exit_code': 0, 'exit...</td>\n",
       "      <td>{'PWD': '/xtmp/Fanrong.Zeng', 'OLDPWD': '/home...</td>\n",
       "      <td>64739707.0</td>\n",
       "      <td>{'EPMT_JOB_TAGS': 'exp_component:refineDiag;ex...</td>\n",
       "      <td>2023-05-04 14:04:00.799760</td>\n",
       "      <td>{'outlier_detection': [{'results': {'cpu_time'...</td>\n",
       "      <td>30459261</td>\n",
       "      <td>...</td>\n",
       "      <td>23239224</td>\n",
       "      <td>64801389023</td>\n",
       "      <td>239923</td>\n",
       "      <td>4816</td>\n",
       "      <td>0</td>\n",
       "      <td>112414720</td>\n",
       "      <td>6075555312</td>\n",
       "      <td>[{'op': 'hsmget', 'op_instance': '1'}, {'op': ...</td>\n",
       "      <td>0</td>\n",
       "      <td>16384</td>\n",
       "    </tr>\n",
       "    <tr>\n",
       "      <td>1</td>\n",
       "      <td>2023-05-11 23:21:07.030482</td>\n",
       "      <td>{'ENV': '/usr/local/Modules/5.1.1/init/profile...</td>\n",
       "      <td>{'exp_name': 'SM4p2_piControl_lamresoff_J', 'e...</td>\n",
       "      <td>{'tz': 'EDT', 'status': {'exit_code': 0, 'exit...</td>\n",
       "      <td>{'PWD': '/vftmp/Lori.Sentman', 'OLDPWD': '/hom...</td>\n",
       "      <td>383078321.0</td>\n",
       "      <td>{'EPMT_JOB_TAGS': 'exp_component:refineDiag;ex...</td>\n",
       "      <td>2023-05-04 14:08:00.584077</td>\n",
       "      <td>{'outlier_detection': [{'results': {'cpu_time'...</td>\n",
       "      <td>30459289</td>\n",
       "      <td>...</td>\n",
       "      <td>83746700</td>\n",
       "      <td>383165327651</td>\n",
       "      <td>452591</td>\n",
       "      <td>68473</td>\n",
       "      <td>0</td>\n",
       "      <td>33883619328</td>\n",
       "      <td>5684986583</td>\n",
       "      <td>[{'op': 'hsmget', 'op_instance': '1'}, {'op': ...</td>\n",
       "      <td>0</td>\n",
       "      <td>2384990208</td>\n",
       "    </tr>\n",
       "    <tr>\n",
       "      <td>2</td>\n",
       "      <td>2023-05-06 01:06:02.627630</td>\n",
       "      <td>{'ENV': '/usr/local/Modules/5.1.1/init/profile...</td>\n",
       "      <td>{'exp_name': 'SPEAR_c96_o1_Hist_AllForc_IC1851...</td>\n",
       "      <td>{'tz': 'EDT', 'status': {'exit_code': 0, 'exit...</td>\n",
       "      <td>{'PWD': '/xtmp/Fanrong.Zeng', 'OLDPWD': '/home...</td>\n",
       "      <td>65771016.0</td>\n",
       "      <td>{'EPMT_JOB_TAGS': 'exp_component:refineDiag;ex...</td>\n",
       "      <td>2023-05-04 14:10:55.343172</td>\n",
       "      <td>{'outlier_detection': [{'results': {'cpu_time'...</td>\n",
       "      <td>30459292</td>\n",
       "      <td>...</td>\n",
       "      <td>23072353</td>\n",
       "      <td>65835092952</td>\n",
       "      <td>239892</td>\n",
       "      <td>4746</td>\n",
       "      <td>0</td>\n",
       "      <td>112414720</td>\n",
       "      <td>5993332319</td>\n",
       "      <td>[{'op': 'hsmget', 'op_instance': '1'}, {'op': ...</td>\n",
       "      <td>0</td>\n",
       "      <td>16384</td>\n",
       "    </tr>\n",
       "  </tbody>\n",
       "</table>\n",
       "<p>3 rows × 47 columns</p>\n",
       "</div>"
      ],
      "text/plain": [
       "                  updated_at  \\\n",
       "0 2023-05-06 01:06:03.986347   \n",
       "1 2023-05-11 23:21:07.030482   \n",
       "2 2023-05-06 01:06:02.627630   \n",
       "\n",
       "                                            env_dict  \\\n",
       "0  {'ENV': '/usr/local/Modules/5.1.1/init/profile...   \n",
       "1  {'ENV': '/usr/local/Modules/5.1.1/init/profile...   \n",
       "2  {'ENV': '/usr/local/Modules/5.1.1/init/profile...   \n",
       "\n",
       "                                                tags  \\\n",
       "0  {'exp_name': 'SPEAR_c96_o1_Hist_AllForc_IC1851...   \n",
       "1  {'exp_name': 'SM4p2_piControl_lamresoff_J', 'e...   \n",
       "2  {'exp_name': 'SPEAR_c96_o1_Hist_AllForc_IC1851...   \n",
       "\n",
       "                                           info_dict  \\\n",
       "0  {'tz': 'EDT', 'status': {'exit_code': 0, 'exit...   \n",
       "1  {'tz': 'EDT', 'status': {'exit_code': 0, 'exit...   \n",
       "2  {'tz': 'EDT', 'status': {'exit_code': 0, 'exit...   \n",
       "\n",
       "                                    env_changes_dict     cpu_time  \\\n",
       "0  {'PWD': '/xtmp/Fanrong.Zeng', 'OLDPWD': '/home...   64739707.0   \n",
       "1  {'PWD': '/vftmp/Lori.Sentman', 'OLDPWD': '/hom...  383078321.0   \n",
       "2  {'PWD': '/xtmp/Fanrong.Zeng', 'OLDPWD': '/home...   65771016.0   \n",
       "\n",
       "                                         annotations  \\\n",
       "0  {'EPMT_JOB_TAGS': 'exp_component:refineDiag;ex...   \n",
       "1  {'EPMT_JOB_TAGS': 'exp_component:refineDiag;ex...   \n",
       "2  {'EPMT_JOB_TAGS': 'exp_component:refineDiag;ex...   \n",
       "\n",
       "                      submit  \\\n",
       "0 2023-05-04 14:04:00.799760   \n",
       "1 2023-05-04 14:08:00.584077   \n",
       "2 2023-05-04 14:10:55.343172   \n",
       "\n",
       "                                            analyses     jobid  ...  \\\n",
       "0  {'outlier_detection': [{'results': {'cpu_time'...  30459261  ...   \n",
       "1  {'outlier_detection': [{'results': {'cpu_time'...  30459289  ...   \n",
       "2  {'outlier_detection': [{'results': {'cpu_time'...  30459292  ...   \n",
       "\n",
       "  systemtime    time_oncpu timeslices invol_ctxsw  num_threads  write_bytes  \\\n",
       "0   23239224   64801389023     239923        4816            0    112414720   \n",
       "1   83746700  383165327651     452591       68473            0  33883619328   \n",
       "2   23072353   65835092952     239892        4746            0    112414720   \n",
       "\n",
       "  time_waiting                                      all_proc_tags  \\\n",
       "0   6075555312  [{'op': 'hsmget', 'op_instance': '1'}, {'op': ...   \n",
       "1   5684986583  [{'op': 'hsmget', 'op_instance': '1'}, {'op': ...   \n",
       "2   5993332319  [{'op': 'hsmget', 'op_instance': '1'}, {'op': ...   \n",
       "\n",
       "   delayacct_blkio_time  cancelled_write_bytes  \n",
       "0                     0                  16384  \n",
       "1                     0             2384990208  \n",
       "2                     0                  16384  \n",
       "\n",
       "[3 rows x 47 columns]"
      ]
     },
     "execution_count": 3,
     "metadata": {},
     "output_type": "execute_result"
    }
   ],
   "source": [
    "# above we got a list of job ids. sometimes we want to see more details\n",
    "# than just the job id. We can use `conv_jobs` to convert between formats\n",
    "# Or use `get_jobs` to get the specified format directly.\n",
    "jobs_df = eq.conv_jobs(jobs, fmt='pandas')\n",
    "display(jobs_df.columns.values)\n",
    "print(len(jobs_df), 'jobs')\n",
    "# show the first three rows\n",
    "jobs_df[:3]"
   ]
  },
  {
   "cell_type": "code",
   "execution_count": 4,
   "metadata": {},
   "outputs": [
    {
     "data": {
      "text/plain": [
       "[{'updated_at': datetime.datetime(2023, 5, 6, 1, 6, 3, 986347),\n",
       "  'env_dict': {'ENV': '/usr/local/Modules/5.1.1/init/profile.sh',\n",
       "   'PWD': '/home/Fanrong.Zeng',\n",
       "   'HOME': '/home/Fanrong.Zeng',\n",
       "   'HOST': 'pp031',\n",
       "   'LANG': 'en_US',\n",
       "   'PATH': '/home/fms/local/opt/../epmt/4.9.2-centos-7/epmt-install/epmt:/usr/local/Modules/5.1.1/bin:/home/gfdl/an+pp/bin:/app/slurm/default/bin:/bin:/usr/bin',\n",
       "   'USER': 'Fanrong.Zeng',\n",
       "   'GROUP': 'sd',\n",
       "   'SHELL': '/bin/tcsh',\n",
       "   'SHLVL': '2',\n",
       "   'OSTYPE': 'linux',\n",
       "   'TMPDIR': '/xtmp/Fanrong.Zeng/job30459261',\n",
       "   'VENDOR': 'unknown',\n",
       "   'ARCHIVE': '/archive/Fanrong.Zeng',\n",
       "   'ATW_BIN': '/home/atw/bin',\n",
       "   'ATW_LIB': '/home/atw/lib',\n",
       "   'LC_TIME': 'C',\n",
       "   'LOGNAME': 'Fanrong.Zeng',\n",
       "   'MANPATH': '/usr/local/Modules/5.1.1/share/man:/home/gfdl/man:/usr/local/man:/usr/share/man',\n",
       "   'ATW_HOME': '/home/atw',\n",
       "   'ATW_UTIL': '/home/atw/util',\n",
       "   'BASH_ENV': '/usr/local/Modules/5.1.1/init/bash',\n",
       "   'HOSTNAME': 'pp031',\n",
       "   'HOSTTYPE': 'x86_64-linux',\n",
       "   'MACHTYPE': 'x86_64',\n",
       "   'ATW_DIAGS': '/home/atw/fms/diags',\n",
       "   'ATW_FERRET': '/home/atw/ferret',\n",
       "   'ATW_FTOOLS': '/home/atw/ftools',\n",
       "   'MODULEPATH': '/app/conda/modulefiles:/app/spack/2023.01/modulefiles/linux-rhel7-x86_64:/app/spack/2022.01.01/modulefiles/linux-rhel7-x86_64:/usr/local/Modules/default/modulefiles:/usr/local/Modules/modulefiles:/home/fms/local/modulefiles',\n",
       "   'SLURM_CONF': '/app/slurm/22.05.8_el7/etc/slurm.conf',\n",
       "   'ENVIRONMENT': 'BATCH',\n",
       "   'MODULESHOME': '/usr/local/Modules/5.1.1',\n",
       "   'MODULES_CMD': '/usr/local/Modules/5.1.1/libexec/modulecmd.tcl',\n",
       "   'SLURM_GTIDS': '0',\n",
       "   'SLURM_JOBID': '30459261',\n",
       "   'SLURM_JOB_ID': '30459261',\n",
       "   'SLURM_NNODES': '1',\n",
       "   'SLURM_NODEID': '0',\n",
       "   'SLURM_NPROCS': '1',\n",
       "   'SLURM_NTASKS': '1',\n",
       "   'SLURM_PROCID': '0',\n",
       "   'LOADEDMODULES': 'epmt/4.9.2',\n",
       "   'SBATCH_EXPORT': 'NONE',\n",
       "   'SLURM_JOB_GID': '518',\n",
       "   'SLURM_JOB_QOS': 'Added as default',\n",
       "   'SLURM_JOB_UID': '3104',\n",
       "   'SLURM_LOCALID': '0',\n",
       "   'ATW_OS_RELEASE': 'rhel7',\n",
       "   'BASH_FUNC_ml()': '() {  module ml \"$@\"\\n}',\n",
       "   'MODULE_VERSION': '5.1.1',\n",
       "   'SLURM_JOB_NAME': 'SPEAR_c96_o1_Hist_AllForc_IC1851_Q50_jhl_bbl_no_submeso_refineDiag_18650101',\n",
       "   'SLURM_JOB_USER': 'Fanrong.Zeng',\n",
       "   'SLURM_NODELIST': 'pp031',\n",
       "   'SLURM_TASK_PID': '17133',\n",
       "   'XDG_SESSION_ID': 'c11378',\n",
       "   'LD_LIBRARY_PATH': '/home/fms/local/epmt/4.9.2-centos-7/epmt-install/epmt',\n",
       "   'OMP_NUM_THREADS': '1',\n",
       "   'SLURMD_NODENAME': 'pp031',\n",
       "   'SLURM_RLIMIT_AS': '18446744073709551615',\n",
       "   'XDG_RUNTIME_DIR': '/run/user/3104',\n",
       "   'ATW_FERRET_CLASS': 'single',\n",
       "   'ATW_FRE_ANALYSIS': '/home/atw/fms/fre-analysis/test',\n",
       "   'ATW_MACHINE_TYPE': 'x86_64',\n",
       "   'SLURM_EXPORT_ENV': 'NONE',\n",
       "   'SLURM_RLIMIT_CPU': '18446744073709551615',\n",
       "   'SLURM_RLIMIT_RSS': '4294967296',\n",
       "   'SLURM_SUBMIT_DIR': '/home/Fanrong.Zeng/SPEAR/SPEAR_c96_o1_Hist_AllForc_IC1851_Q50_jhl_bbl_no_submeso/gfdl.ncrc4-intel18-repro-openmp/stdout/postProcess',\n",
       "   'SLURM_JOB_ACCOUNT': 'gfdl_sd',\n",
       "   'SLURM_MEM_PER_CPU': '4096',\n",
       "   'SLURM_RLIMIT_CORE': '18446744073709551615',\n",
       "   'SLURM_RLIMIT_DATA': '18446744073709551615',\n",
       "   'SLURM_SUBMIT_HOST': 'pp032',\n",
       "   'BASH_FUNC_module()': '() {  local _mlredir=0;\\n if [ -n \"${MODULES_REDIRECT_OUTPUT+x}\" ]; then\\n if [ \"$MODULES_REDIRECT_OUTPUT\" = \\'0\\' ]; then\\n _mlredir=0;\\n else\\n if [ \"$MODULES_REDIRECT_OUTPUT\" = \\'1\\' ]; then\\n _mlredir=1;\\n fi;\\n fi;\\n fi;\\n case \" $@ \" in \\n *\\' --no-redirect \\'*)\\n _mlredir=0\\n ;;\\n *\\' --redirect \\'*)\\n _mlredir=1\\n ;;\\n esac;\\n if [ $_mlredir -eq 0 ]; then\\n _module_raw \"$@\";\\n else\\n _module_raw \"$@\" 2>&1;\\n fi\\n}',\n",
       "   'SLURM_CLUSTER_NAME': 'gfdl',\n",
       "   'SLURM_CPUS_ON_NODE': '1',\n",
       "   'SLURM_GET_USER_ENV': '1',\n",
       "   'SLURM_JOB_NODELIST': 'pp031',\n",
       "   'SLURM_NODE_ALIASES': '(null)',\n",
       "   'SLURM_PRIO_PROCESS': '0',\n",
       "   'SLURM_RLIMIT_FSIZE': '18446744073709551615',\n",
       "   'SLURM_RLIMIT_NPROC': '192974',\n",
       "   'SLURM_RLIMIT_STACK': '18446744073709551615',\n",
       "   'SLURM_JOB_NUM_NODES': '1',\n",
       "   'SLURM_JOB_PARTITION': 'batch',\n",
       "   'SLURM_RLIMIT_NOFILE': '50000',\n",
       "   'SLURM_TOPOLOGY_ADDR': 'pp031',\n",
       "   'MODULE_VERSION_STACK': '5.1.1',\n",
       "   'SLURM_RLIMIT_MEMLOCK': '65536',\n",
       "   'SLURM_SCRIPT_CONTEXT': 'prolog_task',\n",
       "   'SLURM_TASKS_PER_NODE': '1',\n",
       "   'SLURM_WORKING_CLUSTER': 'gfdl:slurm01:6817:9728:101',\n",
       "   'BASH_FUNC__module_raw()': '() {  eval \"$(/usr/bin/tclsh /usr/local/Modules/5.1.1/libexec/modulecmd.tcl bash \"$@\")\";\\n _mlstatus=$?;\\n return $_mlstatus\\n}',\n",
       "   'SLURM_JOB_CPUS_PER_NODE': '1',\n",
       "   'ATW_FRE_ANALYSIS_ARCHIVE': '/archive/atw/fms/fre-analysis/test',\n",
       "   'SLURM_TOPOLOGY_ADDR_PATTERN': 'node'},\n",
       "  'tags': {'exp_name': 'SPEAR_c96_o1_Hist_AllForc_IC1851_Q50_jhl_bbl_no_submeso',\n",
       "   'exp_time': '18650101',\n",
       "   'exp_target': 'repro-openmp',\n",
       "   'script_name': 'SPEAR_c96_o1_Hist_AllForc_IC1851_Q50_jhl_bbl_no_submeso_refineDiag_18650101',\n",
       "   'exp_platform': 'gfdl.ncrc4-intel18',\n",
       "   'exp_component': 'refineDiag',\n",
       "   'exp_seg_months': '12'},\n",
       "  'info_dict': {'tz': 'EDT',\n",
       "   'status': {'exit_code': 0,\n",
       "    'exit_reason': 'none',\n",
       "    'script_name': 'SPEAR_c96_o1_Hist_AllForc_IC1851_Q50_jhl_bbl_no_submeso_refineDiag_18650101'},\n",
       "   'metric_names': 'usertime,systemtime,rssmax,minflt,majflt,inblock,outblock,vol_ctxsw,invol_ctxsw,cminflt,cmajflt,cutime,cstime,num_threads,starttime,processor,delayacct_blkio_time,guest_time,rchar,wchar,syscr,syscw,read_bytes,write_bytes,cancelled_write_bytes,time_oncpu,time_waiting,timeslices',\n",
       "   'post_processed': 1,\n",
       "   'procs_in_process_table': 1},\n",
       "  'env_changes_dict': {'PWD': '/xtmp/Fanrong.Zeng',\n",
       "   'OLDPWD': '/home/Fanrong.Zeng',\n",
       "   'SLURM_JOB_GID': '500',\n",
       "   'SLURM_TASK_PID': '6222',\n",
       "   'SLURM_SCRIPT_CONTEXT': 'epilog_task'},\n",
       "  'cpu_time': 64739707.0,\n",
       "  'annotations': {'EPMT_JOB_TAGS': 'exp_component:refineDiag;exp_name:SPEAR_c96_o1_Hist_AllForc_IC1851_Q50_jhl_bbl_no_submeso;exp_time:18650101;exp_platform:gfdl.ncrc4-intel18;exp_target:repro-openmp;exp_seg_months:12;script_name:SPEAR_c96_o1_Hist_AllForc_IC1851_Q50_jhl_bbl_no_submeso_refineDiag_18650101'},\n",
       "  'submit': datetime.datetime(2023, 5, 4, 14, 4, 0, 799760),\n",
       "  'analyses': {'outlier_detection': [{'results': {'cpu_time': [['30452121',\n",
       "        '30460988',\n",
       "        '30466413',\n",
       "        '30467736',\n",
       "        '30459261',\n",
       "        '30463592',\n",
       "        '30457184',\n",
       "        '30461979',\n",
       "        '30454511',\n",
       "        '30465246'],\n",
       "       []],\n",
       "      'duration': [['30452121',\n",
       "        '30460988',\n",
       "        '30467736',\n",
       "        '30459261',\n",
       "        '30463592',\n",
       "        '30457184',\n",
       "        '30461979',\n",
       "        '30454511',\n",
       "        '30465246'],\n",
       "       ['30466413']],\n",
       "      'num_procs': [['30460988',\n",
       "        '30467736',\n",
       "        '30459261',\n",
       "        '30463592',\n",
       "        '30457184',\n",
       "        '30461979',\n",
       "        '30454511',\n",
       "        '30465246'],\n",
       "       ['30452121', '30466413']]},\n",
       "     'model_id': None}]},\n",
       "  'jobid': '30459261',\n",
       "  'start': datetime.datetime(2023, 5, 4, 14, 4, 0, 799760),\n",
       "  'jobname': 'SPEAR_c96_o1_Hist_AllForc_IC1851_Q50_jhl_bbl_no_submeso_refineDiag_18650101',\n",
       "  'created_at': datetime.datetime(2023, 5, 4, 18, 6, 23, 848454),\n",
       "  'end': datetime.datetime(2023, 5, 4, 14, 6, 49, 177051),\n",
       "  'exitcode': 0,\n",
       "  'duration': 168377291.0,\n",
       "  'user': 'Fanrong.Zeng',\n",
       "  'rchar': 2307230538,\n",
       "  'syscr': 213117,\n",
       "  'syscw': 14362,\n",
       "  'wchar': 300473253,\n",
       "  'cstime': 59730000,\n",
       "  'cutime': 104640000,\n",
       "  'majflt': 282,\n",
       "  'minflt': 4505381,\n",
       "  'rssmax': 16999536,\n",
       "  'cmajflt': 292,\n",
       "  'cminflt': 13200262,\n",
       "  'inblock': 4685320,\n",
       "  'outblock': 219560,\n",
       "  'usertime': 41500483,\n",
       "  'num_procs': 3078,\n",
       "  'processor': 0,\n",
       "  'starttime': 5754117160960000,\n",
       "  'vol_ctxsw': 231675,\n",
       "  'guest_time': 0,\n",
       "  'read_bytes': 2398883840,\n",
       "  'systemtime': 23239224,\n",
       "  'time_oncpu': 64801389023,\n",
       "  'timeslices': 239923,\n",
       "  'invol_ctxsw': 4816,\n",
       "  'num_threads': 0,\n",
       "  'write_bytes': 112414720,\n",
       "  'time_waiting': 6075555312,\n",
       "  'all_proc_tags': [{'op': 'hsmget', 'op_instance': '1'},\n",
       "   {'op': 'hsmput', 'op_instance': '3'},\n",
       "   {'rd': 'VertVelocity'},\n",
       "   {'rd': 'netflx'},\n",
       "   {'rd': 'refineDiag_data_stager_globalAve'}],\n",
       "  'delayacct_blkio_time': 0,\n",
       "  'cancelled_write_bytes': 16384}]"
      ]
     },
     "execution_count": 4,
     "metadata": {},
     "output_type": "execute_result"
    }
   ],
   "source": [
    "# if you prefer dealing with python lists and dictionaries, set fmt='dict'. \n",
    "# We recommend using 'pandas' for it's scalability and rich API.\n",
    "# Notice we can use `get_jobs` to convert formats as well as `conv_jobs`\n",
    "# Below we get a list of dictionaries (showing the first entry only)\n",
    "eq.get_jobs(jobs = jobs, fmt='dict')[:1]"
   ]
  },
  {
   "cell_type": "markdown",
   "metadata": {},
   "source": [
    "### <a name=\"orm-objects\">ORM queries</a>\n",
    "There is a very useful format called `orm`, which optimizes queries\n",
    "and it lets you get the underlying Job (or Process) object directly.\n",
    "ORMs do lazy-evaluation of queries, so many intermediate ORM operations will\n",
    "return instantenously. Only when certain operations absolutely\n",
    "need the data is the SQL actually fired.\n",
    "\n",
    "We use [SQLAlchemy](https://www.sqlalchemy.org) for the ORM layer."
   ]
  },
  {
   "cell_type": "code",
   "execution_count": 5,
   "metadata": {},
   "outputs": [
    {
     "data": {
      "text/plain": [
       "(1000, sqlalchemy.orm.query.Query)"
      ]
     },
     "execution_count": 5,
     "metadata": {},
     "output_type": "execute_result"
    }
   ],
   "source": [
    "jobs_orm = eq.get_jobs(jobs, fmt='orm')\n",
    "jobs_orm.count(), type(jobs_orm)"
   ]
  },
  {
   "cell_type": "markdown",
   "metadata": {},
   "source": [
    "`jobs_orm` above is a `Query` object. The `Query` object can be iterated\n",
    "over (like a Python list). You can convert it to a list by using the slice\n",
    "operator -- `[:]`.\n",
    "\n",
    "In the above example, the query returns immediately, and the actual jobs\n",
    "are never loaded from the database, since we never access them."
   ]
  },
  {
   "cell_type": "markdown",
   "metadata": {},
   "source": [
    "### <a name=\"job-tags\">Job Tags</a>\n",
    "\n",
    "Each job has a `tags` field that is set by annotating the job with `EPMT_JOB_TAGS`. \n",
    "The job tag is a stored as dictionary of key/value pairs. The most common use of the job tag is for selecting\n",
    "jobs. You can specify the tag either as a dictionary or as a string, with each key/value\n",
    "pair separated by semicolons. All the key/value pairs must match for a job to be considered\n",
    "a match.\n",
    "\n",
    "You might recall that we mentioned tags in the context of operations. Those tags were associated\n",
    "with individual processes, and are distinct from these job tags. However both are essentially\n",
    "a dictionary of key/value pairs."
   ]
  },
  {
   "cell_type": "code",
   "execution_count": 6,
   "metadata": {},
   "outputs": [],
   "source": [
    "targ_exp_name_tag='exp_name:CM4_historical_c96_OM4p25_i251_v7c192initCond'\n",
    "targ_exp_name_jobs = eq.get_jobs(tags=targ_exp_name_tag, fmt='orm')"
   ]
  },
  {
   "cell_type": "code",
   "execution_count": 7,
   "metadata": {},
   "outputs": [
    {
     "data": {
      "text/plain": [
       "150"
      ]
     },
     "execution_count": 7,
     "metadata": {},
     "output_type": "execute_result"
    }
   ],
   "source": [
    "targ_exp_name_jobs.count()"
   ]
  },
  {
   "cell_type": "code",
   "execution_count": 8,
   "metadata": {},
   "outputs": [
    {
     "name": "stdout",
     "output_type": "stream",
     "text": [
      "30330030 {'exp_name': 'CM4_historical_c96_OM4p25_i251_v7c192initCond', 'exp_time': '2004', 'exp_target': 'prod-openmp', 'script_name': 'atw_atmos_ts_monthly_sfc_ocean.csh', 'exp_platform': 'gfdl.ncrc5-intel22', 'exp_component': 'analysis'}\n",
      "30332454 {'exp_name': 'CM4_historical_c96_OM4p25_i251_v7c192initCond', 'exp_time': '20070101', 'exp_target': 'prod-openmp', 'script_name': 'CM4_historical_c96_OM4p25_i251_v7c192initCond_refineDiag_20070101', 'exp_platform': 'gfdl.ncrc5-intel22', 'exp_component': 'refineDiag', 'exp_seg_months': '12'}\n",
      "30333361 {'exp_name': 'CM4_historical_c96_OM4p25_i251_v7c192initCond', 'exp_time': '20080101', 'exp_target': 'prod-openmp', 'script_name': 'CM4_historical_c96_OM4p25_i251_v7c192initCond_refineDiag_20080101', 'exp_platform': 'gfdl.ncrc5-intel22', 'exp_component': 'refineDiag', 'exp_seg_months': '12'}\n",
      "30334423 {'exp_name': 'CM4_historical_c96_OM4p25_i251_v7c192initCond', 'exp_time': '20090101', 'exp_target': 'prod-openmp', 'script_name': 'CM4_historical_c96_OM4p25_i251_v7c192initCond_refineDiag_20090101', 'exp_platform': 'gfdl.ncrc5-intel22', 'exp_component': 'refineDiag', 'exp_seg_months': '12'}\n",
      "30334525 {'exp_name': 'CM4_historical_c96_OM4p25_i251_v7c192initCond', 'exp_time': '20090101', 'exp_target': 'prod-openmp', 'script_name': 'CM4_historical_c96_OM4p25_i251_v7c192initCond_ocean_daily_20090101', 'exp_platform': 'gfdl.ncrc5-intel22', 'exp_component': 'ocean_daily', 'exp_seg_months': '12'}\n",
      "30334526 {'exp_name': 'CM4_historical_c96_OM4p25_i251_v7c192initCond', 'exp_time': '20090101', 'exp_target': 'prod-openmp', 'script_name': 'CM4_historical_c96_OM4p25_i251_v7c192initCond_ocean_daily_1x1deg_20090101', 'exp_platform': 'gfdl.ncrc5-intel22', 'exp_component': 'ocean_daily_1x1deg', 'exp_seg_months': '12'}\n",
      "30334527 {'exp_name': 'CM4_historical_c96_OM4p25_i251_v7c192initCond', 'exp_time': '20090101', 'exp_target': 'prod-openmp', 'script_name': 'CM4_historical_c96_OM4p25_i251_v7c192initCond_ocean_monthly_20090101', 'exp_platform': 'gfdl.ncrc5-intel22', 'exp_component': 'ocean_monthly', 'exp_seg_months': '12'}\n",
      "30334528 {'exp_name': 'CM4_historical_c96_OM4p25_i251_v7c192initCond', 'exp_time': '20090101', 'exp_target': 'prod-openmp', 'script_name': 'CM4_historical_c96_OM4p25_i251_v7c192initCond_ocean_monthly_z_20090101', 'exp_platform': 'gfdl.ncrc5-intel22', 'exp_component': 'ocean_monthly_z', 'exp_seg_months': '12'}\n",
      "30334529 {'exp_name': 'CM4_historical_c96_OM4p25_i251_v7c192initCond', 'exp_time': '20090101', 'exp_target': 'prod-openmp', 'script_name': 'CM4_historical_c96_OM4p25_i251_v7c192initCond_ocean_monthly_z_1x1deg_20090101', 'exp_platform': 'gfdl.ncrc5-intel22', 'exp_component': 'ocean_monthly_z_1x1deg', 'exp_seg_months': '12'}\n",
      "30334530 {'exp_name': 'CM4_historical_c96_OM4p25_i251_v7c192initCond', 'exp_time': '20090101', 'exp_target': 'prod-openmp', 'script_name': 'CM4_historical_c96_OM4p25_i251_v7c192initCond_ocean_month_z_refined_20090101', 'exp_platform': 'gfdl.ncrc5-intel22', 'exp_component': 'ocean_month_z_refined', 'exp_seg_months': '12'}\n",
      "30334531 {'exp_name': 'CM4_historical_c96_OM4p25_i251_v7c192initCond', 'exp_time': '20090101', 'exp_target': 'prod-openmp', 'script_name': 'CM4_historical_c96_OM4p25_i251_v7c192initCond_ocean_month_rho2_refined_20090101', 'exp_platform': 'gfdl.ncrc5-intel22', 'exp_component': 'ocean_month_rho2_refined', 'exp_seg_months': '12'}\n",
      "30334532 {'exp_name': 'CM4_historical_c96_OM4p25_i251_v7c192initCond', 'exp_time': '20090101', 'exp_target': 'prod-openmp', 'script_name': 'CM4_historical_c96_OM4p25_i251_v7c192initCond_ocean_scalar_monthly_20090101', 'exp_platform': 'gfdl.ncrc5-intel22', 'exp_component': 'ocean_scalar_monthly', 'exp_seg_months': '12'}\n",
      "30334533 {'exp_name': 'CM4_historical_c96_OM4p25_i251_v7c192initCond', 'exp_time': '20090101', 'exp_target': 'prod-openmp', 'script_name': 'CM4_historical_c96_OM4p25_i251_v7c192initCond_ocean_annual_rho2_20090101', 'exp_platform': 'gfdl.ncrc5-intel22', 'exp_component': 'ocean_annual_rho2', 'exp_seg_months': '12'}\n",
      "30334534 {'exp_name': 'CM4_historical_c96_OM4p25_i251_v7c192initCond', 'exp_time': '20090101', 'exp_target': 'prod-openmp', 'script_name': 'CM4_historical_c96_OM4p25_i251_v7c192initCond_ocean_annual_rho2_1x1deg_20090101', 'exp_platform': 'gfdl.ncrc5-intel22', 'exp_component': 'ocean_annual_rho2_1x1deg', 'exp_seg_months': '12'}\n",
      "30334535 {'exp_name': 'CM4_historical_c96_OM4p25_i251_v7c192initCond', 'exp_time': '20090101', 'exp_target': 'prod-openmp', 'script_name': 'CM4_historical_c96_OM4p25_i251_v7c192initCond_ocean_annual_20090101', 'exp_platform': 'gfdl.ncrc5-intel22', 'exp_component': 'ocean_annual', 'exp_seg_months': '12'}\n",
      "30334536 {'exp_name': 'CM4_historical_c96_OM4p25_i251_v7c192initCond', 'exp_time': '20090101', 'exp_target': 'prod-openmp', 'script_name': 'CM4_historical_c96_OM4p25_i251_v7c192initCond_ocean_annual_z_20090101', 'exp_platform': 'gfdl.ncrc5-intel22', 'exp_component': 'ocean_annual_z', 'exp_seg_months': '12'}\n",
      "30334537 {'exp_name': 'CM4_historical_c96_OM4p25_i251_v7c192initCond', 'exp_time': '20090101', 'exp_target': 'prod-openmp', 'script_name': 'CM4_historical_c96_OM4p25_i251_v7c192initCond_ocean_annual_z_1x1deg_20090101', 'exp_platform': 'gfdl.ncrc5-intel22', 'exp_component': 'ocean_annual_z_1x1deg', 'exp_seg_months': '12'}\n",
      "30334538 {'exp_name': 'CM4_historical_c96_OM4p25_i251_v7c192initCond', 'exp_time': '20090101', 'exp_target': 'prod-openmp', 'script_name': 'CM4_historical_c96_OM4p25_i251_v7c192initCond_ocean_monthly_z3_20090101', 'exp_platform': 'gfdl.ncrc5-intel22', 'exp_component': 'ocean_monthly_z3', 'exp_seg_months': '12'}\n",
      "30334541 {'exp_name': 'CM4_historical_c96_OM4p25_i251_v7c192initCond', 'exp_time': '20090101', 'exp_target': 'prod-openmp', 'script_name': 'CM4_historical_c96_OM4p25_i251_v7c192initCond_ocean_scalar_annual_20090101', 'exp_platform': 'gfdl.ncrc5-intel22', 'exp_component': 'ocean_scalar_annual', 'exp_seg_months': '12'}\n",
      "30334542 {'exp_name': 'CM4_historical_c96_OM4p25_i251_v7c192initCond', 'exp_time': '20090101', 'exp_target': 'prod-openmp', 'script_name': 'CM4_historical_c96_OM4p25_i251_v7c192initCond_ice_20090101', 'exp_platform': 'gfdl.ncrc5-intel22', 'exp_component': 'ice', 'exp_seg_months': '12'}\n",
      "30334539 {'exp_name': 'CM4_historical_c96_OM4p25_i251_v7c192initCond', 'exp_time': '20090101', 'exp_target': 'prod-openmp', 'script_name': 'CM4_historical_c96_OM4p25_i251_v7c192initCond_ocean_annual_z3_20090101', 'exp_platform': 'gfdl.ncrc5-intel22', 'exp_component': 'ocean_annual_z3', 'exp_seg_months': '12'}\n",
      "30334543 {'exp_name': 'CM4_historical_c96_OM4p25_i251_v7c192initCond', 'exp_time': '20090101', 'exp_target': 'prod-openmp', 'script_name': 'CM4_historical_c96_OM4p25_i251_v7c192initCond_ice_1x1deg_20090101', 'exp_platform': 'gfdl.ncrc5-intel22', 'exp_component': 'ice_1x1deg', 'exp_seg_months': '12'}\n",
      "30334544 {'exp_name': 'CM4_historical_c96_OM4p25_i251_v7c192initCond', 'exp_time': '20090101', 'exp_target': 'prod-openmp', 'script_name': 'CM4_historical_c96_OM4p25_i251_v7c192initCond_ice_daily_20090101', 'exp_platform': 'gfdl.ncrc5-intel22', 'exp_component': 'ice_daily', 'exp_seg_months': '12'}\n",
      "30334548 {'exp_name': 'CM4_historical_c96_OM4p25_i251_v7c192initCond', 'exp_time': '20090101', 'exp_target': 'prod-openmp', 'script_name': 'CM4_historical_c96_OM4p25_i251_v7c192initCond_ice_daily_extra_20090101', 'exp_platform': 'gfdl.ncrc5-intel22', 'exp_component': 'ice_daily_extra', 'exp_seg_months': '12'}\n",
      "30334550 {'exp_name': 'CM4_historical_c96_OM4p25_i251_v7c192initCond', 'exp_time': '20090101', 'exp_target': 'prod-openmp', 'script_name': 'CM4_historical_c96_OM4p25_i251_v7c192initCond_ocean_month_refined_20090101', 'exp_platform': 'gfdl.ncrc5-intel22', 'exp_component': 'ocean_month_refined', 'exp_seg_months': '12'}\n",
      "30334551 {'exp_name': 'CM4_historical_c96_OM4p25_i251_v7c192initCond', 'exp_time': '20090101', 'exp_target': 'prod-openmp', 'script_name': 'CM4_historical_c96_OM4p25_i251_v7c192initCond_ocean_month_z_refined_20090101', 'exp_platform': 'gfdl.ncrc5-intel22', 'exp_component': 'ocean_month_z_refined', 'exp_seg_months': '12'}\n",
      "30334552 {'exp_name': 'CM4_historical_c96_OM4p25_i251_v7c192initCond', 'exp_time': '20090101', 'exp_target': 'prod-openmp', 'script_name': 'CM4_historical_c96_OM4p25_i251_v7c192initCond_ocean_Barents_opening_20090101', 'exp_platform': 'gfdl.ncrc5-intel22', 'exp_component': 'ocean_Barents_opening', 'exp_seg_months': '12'}\n",
      "30334553 {'exp_name': 'CM4_historical_c96_OM4p25_i251_v7c192initCond', 'exp_time': '20090101', 'exp_target': 'prod-openmp', 'script_name': 'CM4_historical_c96_OM4p25_i251_v7c192initCond_ocean_Bering_Strait_20090101', 'exp_platform': 'gfdl.ncrc5-intel22', 'exp_component': 'ocean_Bering_Strait', 'exp_seg_months': '12'}\n",
      "30334554 {'exp_name': 'CM4_historical_c96_OM4p25_i251_v7c192initCond', 'exp_time': '20090101', 'exp_target': 'prod-openmp', 'script_name': 'CM4_historical_c96_OM4p25_i251_v7c192initCond_ocean_Davis_Strait_20090101', 'exp_platform': 'gfdl.ncrc5-intel22', 'exp_component': 'ocean_Davis_Strait', 'exp_seg_months': '12'}\n",
      "30334555 {'exp_name': 'CM4_historical_c96_OM4p25_i251_v7c192initCond', 'exp_time': '20090101', 'exp_target': 'prod-openmp', 'script_name': 'CM4_historical_c96_OM4p25_i251_v7c192initCond_ocean_Windward_Passage_20090101', 'exp_platform': 'gfdl.ncrc5-intel22', 'exp_component': 'ocean_Windward_Passage', 'exp_seg_months': '12'}\n",
      "30334556 {'exp_name': 'CM4_historical_c96_OM4p25_i251_v7c192initCond', 'exp_time': '20090101', 'exp_target': 'prod-openmp', 'script_name': 'CM4_historical_c96_OM4p25_i251_v7c192initCond_ocean_Denmark_Strait_20090101', 'exp_platform': 'gfdl.ncrc5-intel22', 'exp_component': 'ocean_Denmark_Strait', 'exp_seg_months': '12'}\n",
      "30334557 {'exp_name': 'CM4_historical_c96_OM4p25_i251_v7c192initCond', 'exp_time': '20090101', 'exp_target': 'prod-openmp', 'script_name': 'CM4_historical_c96_OM4p25_i251_v7c192initCond_ocean_Drake_Passage_20090101', 'exp_platform': 'gfdl.ncrc5-intel22', 'exp_component': 'ocean_Drake_Passage', 'exp_seg_months': '12'}\n",
      "30334558 {'exp_name': 'CM4_historical_c96_OM4p25_i251_v7c192initCond', 'exp_time': '20090101', 'exp_target': 'prod-openmp', 'script_name': 'CM4_historical_c96_OM4p25_i251_v7c192initCond_ocean_English_Channel_20090101', 'exp_platform': 'gfdl.ncrc5-intel22', 'exp_component': 'ocean_English_Channel', 'exp_seg_months': '12'}\n",
      "30334560 {'exp_name': 'CM4_historical_c96_OM4p25_i251_v7c192initCond', 'exp_time': '20090101', 'exp_target': 'prod-openmp', 'script_name': 'CM4_historical_c96_OM4p25_i251_v7c192initCond_ocean_Faroe_Scotland_20090101', 'exp_platform': 'gfdl.ncrc5-intel22', 'exp_component': 'ocean_Faroe_Scotland', 'exp_seg_months': '12'}\n",
      "30334561 {'exp_name': 'CM4_historical_c96_OM4p25_i251_v7c192initCond', 'exp_time': '20090101', 'exp_target': 'prod-openmp', 'script_name': 'CM4_historical_c96_OM4p25_i251_v7c192initCond_ocean_Florida_Bahamas_20090101', 'exp_platform': 'gfdl.ncrc5-intel22', 'exp_component': 'ocean_Florida_Bahamas', 'exp_seg_months': '12'}\n",
      "30334562 {'exp_name': 'CM4_historical_c96_OM4p25_i251_v7c192initCond', 'exp_time': '20090101', 'exp_target': 'prod-openmp', 'script_name': 'CM4_historical_c96_OM4p25_i251_v7c192initCond_ocean_Fram_Strait_20090101', 'exp_platform': 'gfdl.ncrc5-intel22', 'exp_component': 'ocean_Fram_Strait', 'exp_seg_months': '12'}\n",
      "30334563 {'exp_name': 'CM4_historical_c96_OM4p25_i251_v7c192initCond', 'exp_time': '20090101', 'exp_target': 'prod-openmp', 'script_name': 'CM4_historical_c96_OM4p25_i251_v7c192initCond_ocean_Iceland_Faroe_V_20090101', 'exp_platform': 'gfdl.ncrc5-intel22', 'exp_component': 'ocean_Iceland_Faroe_V', 'exp_seg_months': '12'}\n",
      "30334564 {'exp_name': 'CM4_historical_c96_OM4p25_i251_v7c192initCond', 'exp_time': '20090101', 'exp_target': 'prod-openmp', 'script_name': 'CM4_historical_c96_OM4p25_i251_v7c192initCond_ocean_Iceland_Faroe_U_20090101', 'exp_platform': 'gfdl.ncrc5-intel22', 'exp_component': 'ocean_Iceland_Faroe_U', 'exp_seg_months': '12'}\n",
      "30334566 {'exp_name': 'CM4_historical_c96_OM4p25_i251_v7c192initCond', 'exp_time': '20090101', 'exp_target': 'prod-openmp', 'script_name': 'CM4_historical_c96_OM4p25_i251_v7c192initCond_ocean_Indonesian_Throughflow_20090101', 'exp_platform': 'gfdl.ncrc5-intel22', 'exp_component': 'ocean_Indonesian_Throughflow', 'exp_seg_months': '12'}\n",
      "30334567 {'exp_name': 'CM4_historical_c96_OM4p25_i251_v7c192initCond', 'exp_time': '20090101', 'exp_target': 'prod-openmp', 'script_name': 'CM4_historical_c96_OM4p25_i251_v7c192initCond_ocean_Mozambique_Channel_20090101', 'exp_platform': 'gfdl.ncrc5-intel22', 'exp_component': 'ocean_Mozambique_Channel', 'exp_seg_months': '12'}\n",
      "30334568 {'exp_name': 'CM4_historical_c96_OM4p25_i251_v7c192initCond', 'exp_time': '20090101', 'exp_target': 'prod-openmp', 'script_name': 'CM4_historical_c96_OM4p25_i251_v7c192initCond_ocean_Pacific_undercurrent_20090101', 'exp_platform': 'gfdl.ncrc5-intel22', 'exp_component': 'ocean_Pacific_undercurrent', 'exp_seg_months': '12'}\n",
      "30334569 {'exp_name': 'CM4_historical_c96_OM4p25_i251_v7c192initCond', 'exp_time': '20090101', 'exp_target': 'prod-openmp', 'script_name': 'CM4_historical_c96_OM4p25_i251_v7c192initCond_ocean_Taiwan_Luzon_20090101', 'exp_platform': 'gfdl.ncrc5-intel22', 'exp_component': 'ocean_Taiwan_Luzon', 'exp_seg_months': '12'}\n",
      "30334570 {'exp_name': 'CM4_historical_c96_OM4p25_i251_v7c192initCond', 'exp_time': '20090101', 'exp_target': 'prod-openmp', 'script_name': 'CM4_historical_c96_OM4p25_i251_v7c192initCond_ocean_Agulhas_section_20090101', 'exp_platform': 'gfdl.ncrc5-intel22', 'exp_component': 'ocean_Agulhas_section', 'exp_seg_months': '12'}\n",
      "30334571 {'exp_name': 'CM4_historical_c96_OM4p25_i251_v7c192initCond', 'exp_time': '20090101', 'exp_target': 'prod-openmp', 'script_name': 'CM4_historical_c96_OM4p25_i251_v7c192initCond_ocean_Gibraltar_Strait_20090101', 'exp_platform': 'gfdl.ncrc5-intel22', 'exp_component': 'ocean_Gibraltar_Strait', 'exp_seg_months': '12'}\n",
      "30334572 {'exp_name': 'CM4_historical_c96_OM4p25_i251_v7c192initCond', 'exp_time': '20090101', 'exp_target': 'prod-openmp', 'script_name': 'CM4_historical_c96_OM4p25_i251_v7c192initCond_ocean_Iceland_Norway_20090101', 'exp_platform': 'gfdl.ncrc5-intel22', 'exp_component': 'ocean_Iceland_Norway', 'exp_seg_months': '12'}\n",
      "30334573 {'exp_name': 'CM4_historical_c96_OM4p25_i251_v7c192initCond', 'exp_time': '20090101', 'exp_target': 'prod-openmp', 'script_name': 'CM4_historical_c96_OM4p25_i251_v7c192initCond_atmos_20090101', 'exp_platform': 'gfdl.ncrc5-intel22', 'exp_component': 'atmos', 'exp_seg_months': '12'}\n",
      "30334574 {'exp_name': 'CM4_historical_c96_OM4p25_i251_v7c192initCond', 'exp_time': '20090101', 'exp_target': 'prod-openmp', 'script_name': 'CM4_historical_c96_OM4p25_i251_v7c192initCond_atmos_month_aer_20090101', 'exp_platform': 'gfdl.ncrc5-intel22', 'exp_component': 'atmos_month_aer', 'exp_seg_months': '12'}\n",
      "30334575 {'exp_name': 'CM4_historical_c96_OM4p25_i251_v7c192initCond', 'exp_time': '20090101', 'exp_target': 'prod-openmp', 'script_name': 'CM4_historical_c96_OM4p25_i251_v7c192initCond_atmos_diurnal_20090101', 'exp_platform': 'gfdl.ncrc5-intel22', 'exp_component': 'atmos_diurnal', 'exp_seg_months': '12'}\n",
      "30334576 {'exp_name': 'CM4_historical_c96_OM4p25_i251_v7c192initCond', 'exp_time': '20090101', 'exp_target': 'prod-openmp', 'script_name': 'CM4_historical_c96_OM4p25_i251_v7c192initCond_atmos_scalar_20090101', 'exp_platform': 'gfdl.ncrc5-intel22', 'exp_component': 'atmos_scalar', 'exp_seg_months': '12'}\n",
      "30334577 {'exp_name': 'CM4_historical_c96_OM4p25_i251_v7c192initCond', 'exp_time': '20090101', 'exp_target': 'prod-openmp', 'script_name': 'CM4_historical_c96_OM4p25_i251_v7c192initCond_land_20090101', 'exp_platform': 'gfdl.ncrc5-intel22', 'exp_component': 'land', 'exp_seg_months': '12'}\n",
      "30334578 {'exp_name': 'CM4_historical_c96_OM4p25_i251_v7c192initCond', 'exp_time': '20090101', 'exp_target': 'prod-openmp', 'script_name': 'CM4_historical_c96_OM4p25_i251_v7c192initCond_land_cubic_20090101', 'exp_platform': 'gfdl.ncrc5-intel22', 'exp_component': 'land_cubic', 'exp_seg_months': '12'}\n",
      "30334579 {'exp_name': 'CM4_historical_c96_OM4p25_i251_v7c192initCond', 'exp_time': '20090101', 'exp_target': 'prod-openmp', 'script_name': 'CM4_historical_c96_OM4p25_i251_v7c192initCond_land_instant_cubic_20090101', 'exp_platform': 'gfdl.ncrc5-intel22', 'exp_component': 'land_instant_cubic', 'exp_seg_months': '12'}\n",
      "30334580 {'exp_name': 'CM4_historical_c96_OM4p25_i251_v7c192initCond', 'exp_time': '20090101', 'exp_target': 'prod-openmp', 'script_name': 'CM4_historical_c96_OM4p25_i251_v7c192initCond_land_cmip_20090101', 'exp_platform': 'gfdl.ncrc5-intel22', 'exp_component': 'land_cmip', 'exp_seg_months': '12'}\n",
      "30334581 {'exp_name': 'CM4_historical_c96_OM4p25_i251_v7c192initCond', 'exp_time': '20090101', 'exp_target': 'prod-openmp', 'script_name': 'CM4_historical_c96_OM4p25_i251_v7c192initCond_land_dust_20090101', 'exp_platform': 'gfdl.ncrc5-intel22', 'exp_component': 'land_dust', 'exp_seg_months': '12'}\n",
      "30334582 {'exp_name': 'CM4_historical_c96_OM4p25_i251_v7c192initCond', 'exp_time': '20090101', 'exp_target': 'prod-openmp', 'script_name': 'CM4_historical_c96_OM4p25_i251_v7c192initCond_river_20090101', 'exp_platform': 'gfdl.ncrc5-intel22', 'exp_component': 'river', 'exp_seg_months': '12'}\n",
      "30334584 {'exp_name': 'CM4_historical_c96_OM4p25_i251_v7c192initCond', 'exp_time': '20090101', 'exp_target': 'prod-openmp', 'script_name': 'CM4_historical_c96_OM4p25_i251_v7c192initCond_river_cubic_20090101', 'exp_platform': 'gfdl.ncrc5-intel22', 'exp_component': 'river_cubic', 'exp_seg_months': '12'}\n",
      "30334585 {'exp_name': 'CM4_historical_c96_OM4p25_i251_v7c192initCond', 'exp_time': '20090101', 'exp_target': 'prod-openmp', 'script_name': 'CM4_historical_c96_OM4p25_i251_v7c192initCond_river_instant_cubic_20090101', 'exp_platform': 'gfdl.ncrc5-intel22', 'exp_component': 'river_instant_cubic', 'exp_seg_months': '12'}\n",
      "30334586 {'exp_name': 'CM4_historical_c96_OM4p25_i251_v7c192initCond', 'exp_time': '20090101', 'exp_target': 'prod-openmp', 'script_name': 'CM4_historical_c96_OM4p25_i251_v7c192initCond_atmos_cmip_20090101', 'exp_platform': 'gfdl.ncrc5-intel22', 'exp_component': 'atmos_cmip', 'exp_seg_months': '12'}\n",
      "30334587 {'exp_name': 'CM4_historical_c96_OM4p25_i251_v7c192initCond', 'exp_time': '20090101', 'exp_target': 'prod-openmp', 'script_name': 'CM4_historical_c96_OM4p25_i251_v7c192initCond_ocean_inert_month_20090101', 'exp_platform': 'gfdl.ncrc5-intel22', 'exp_component': 'ocean_inert_month', 'exp_seg_months': '12'}\n",
      "30334588 {'exp_name': 'CM4_historical_c96_OM4p25_i251_v7c192initCond', 'exp_time': '20090101', 'exp_target': 'prod-openmp', 'script_name': 'CM4_historical_c96_OM4p25_i251_v7c192initCond_ocean_inert_month_1x1deg_20090101', 'exp_platform': 'gfdl.ncrc5-intel22', 'exp_component': 'ocean_inert_month_1x1deg', 'exp_seg_months': '12'}\n",
      "30334589 {'exp_name': 'CM4_historical_c96_OM4p25_i251_v7c192initCond', 'exp_time': '20090101', 'exp_target': 'prod-openmp', 'script_name': 'CM4_historical_c96_OM4p25_i251_v7c192initCond_ocean_inert_z_20090101', 'exp_platform': 'gfdl.ncrc5-intel22', 'exp_component': 'ocean_inert_z', 'exp_seg_months': '12'}\n",
      "30334590 {'exp_name': 'CM4_historical_c96_OM4p25_i251_v7c192initCond', 'exp_time': '20090101', 'exp_target': 'prod-openmp', 'script_name': 'CM4_historical_c96_OM4p25_i251_v7c192initCond_ocean_inert_z_1x1deg_20090101', 'exp_platform': 'gfdl.ncrc5-intel22', 'exp_component': 'ocean_inert_z_1x1deg', 'exp_seg_months': '12'}\n",
      "30334654 {'exp_name': 'CM4_historical_c96_OM4p25_i251_v7c192initCond', 'exp_time': '2009', 'exp_target': 'prod-openmp', 'script_name': 'aerosol_monthly.csh', 'exp_platform': 'gfdl.ncrc5-intel22', 'exp_component': 'analysis'}\n",
      "30340137 {'exp_name': 'CM4_historical_c96_OM4p25_i251_v7c192initCond', 'exp_time': '2009', 'exp_target': 'prod-openmp', 'script_name': 'bw_atmos_av_mon.csh', 'exp_platform': 'gfdl.ncrc5-intel22', 'exp_component': 'analysis'}\n",
      "30340138 {'exp_name': 'CM4_historical_c96_OM4p25_i251_v7c192initCond', 'exp_time': '2009', 'exp_target': 'prod-openmp', 'script_name': 'bw_atmos_atl_pac.csh', 'exp_platform': 'gfdl.ncrc5-intel22', 'exp_component': 'analysis'}\n",
      "30340139 {'exp_name': 'CM4_historical_c96_OM4p25_i251_v7c192initCond', 'exp_time': '2009', 'exp_target': 'prod-openmp', 'script_name': 'lwh_atmos_av_mon.csh', 'exp_platform': 'gfdl.ncrc5-intel22', 'exp_component': 'analysis'}\n",
      "30340140 {'exp_name': 'CM4_historical_c96_OM4p25_i251_v7c192initCond', 'exp_time': '2009', 'exp_target': 'prod-openmp', 'script_name': 'pjk_atmos_av_mon.csh', 'exp_platform': 'gfdl.ncrc5-intel22', 'exp_component': 'analysis'}\n",
      "30340141 {'exp_name': 'CM4_historical_c96_OM4p25_i251_v7c192initCond', 'exp_time': '2009', 'exp_target': 'prod-openmp', 'script_name': 'tk_atmos_av_mon.csh', 'exp_platform': 'gfdl.ncrc5-intel22', 'exp_component': 'analysis'}\n",
      "30340142 {'exp_name': 'CM4_historical_c96_OM4p25_i251_v7c192initCond', 'exp_time': '2009', 'exp_target': 'prod-openmp', 'script_name': 'bw_box_whisker.csh', 'exp_platform': 'gfdl.ncrc5-intel22', 'exp_component': 'analysis'}\n",
      "30340145 {'exp_name': 'CM4_historical_c96_OM4p25_i251_v7c192initCond', 'exp_time': '2009', 'exp_target': 'prod-openmp', 'script_name': 'sak_atmos_av_mon.csh', 'exp_platform': 'gfdl.ncrc5-intel22', 'exp_component': 'analysis'}\n",
      "30340163 {'exp_name': 'CM4_historical_c96_OM4p25_i251_v7c192initCond', 'exp_time': '2009', 'exp_target': 'prod-openmp', 'script_name': 'cjg_atmos_level_mon_av.csh', 'exp_platform': 'gfdl.ncrc5-intel22', 'exp_component': 'analysis'}\n",
      "30340164 {'exp_name': 'CM4_historical_c96_OM4p25_i251_v7c192initCond', 'exp_time': '2009', 'exp_target': 'prod-openmp', 'script_name': 'atw_atmos_av_annual_column.csh', 'exp_platform': 'gfdl.ncrc5-intel22', 'exp_component': 'analysis'}\n",
      "30340165 {'exp_name': 'CM4_historical_c96_OM4p25_i251_v7c192initCond', 'exp_time': '2009', 'exp_target': 'prod-openmp', 'script_name': 'bw_diurnal_precip.csh', 'exp_platform': 'gfdl.ncrc5-intel22', 'exp_component': 'analysis'}\n",
      "30340167 {'exp_name': 'CM4_historical_c96_OM4p25_i251_v7c192initCond', 'exp_time': '2009', 'exp_target': 'prod-openmp', 'script_name': 'frepp.jwd_tropical_storms_wsfc.csh', 'exp_platform': 'gfdl.ncrc5-intel22', 'exp_component': 'analysis'}\n",
      "30340168 {'exp_name': 'CM4_historical_c96_OM4p25_i251_v7c192initCond', 'exp_time': '2009', 'exp_target': 'prod-openmp', 'script_name': 'wheeler_kiladis.csh', 'exp_platform': 'gfdl.ncrc5-intel22', 'exp_component': 'analysis'}\n",
      "30340170 {'exp_name': 'CM4_historical_c96_OM4p25_i251_v7c192initCond', 'exp_time': '2009', 'exp_target': 'prod-openmp', 'script_name': 'bw_atmos_eddies.csh', 'exp_platform': 'gfdl.ncrc5-intel22', 'exp_component': 'analysis'}\n",
      "30340174 {'exp_name': 'CM4_historical_c96_OM4p25_i251_v7c192initCond', 'exp_time': '2009', 'exp_target': 'prod-openmp', 'script_name': 'bw_atmos_monthly_cru_ts.csh', 'exp_platform': 'gfdl.ncrc5-intel22', 'exp_component': 'analysis'}\n",
      "30340176 {'exp_name': 'CM4_historical_c96_OM4p25_i251_v7c192initCond', 'exp_time': '2009', 'exp_target': 'prod-openmp', 'script_name': 'bw_atmos_timeseries.csh', 'exp_platform': 'gfdl.ncrc5-intel22', 'exp_component': 'analysis'}\n",
      "30340177 {'exp_name': 'CM4_historical_c96_OM4p25_i251_v7c192initCond', 'exp_time': '2009', 'exp_target': 'prod-openmp', 'script_name': 'bw_atmos_regress.csh', 'exp_platform': 'gfdl.ncrc5-intel22', 'exp_component': 'analysis'}\n",
      "30340178 {'exp_name': 'CM4_historical_c96_OM4p25_i251_v7c192initCond', 'exp_time': '2009', 'exp_target': 'prod-openmp', 'script_name': 'bw_atmos_zmstream.csh', 'exp_platform': 'gfdl.ncrc5-intel22', 'exp_component': 'analysis'}\n",
      "30340179 {'exp_name': 'CM4_historical_c96_OM4p25_i251_v7c192initCond', 'exp_time': '2009', 'exp_target': 'prod-openmp', 'script_name': 'cjg_atmos_ts_mon.csh', 'exp_platform': 'gfdl.ncrc5-intel22', 'exp_component': 'analysis'}\n",
      "30340181 {'exp_name': 'CM4_historical_c96_OM4p25_i251_v7c192initCond', 'exp_time': '2009', 'exp_target': 'prod-openmp', 'script_name': 'atw_atmos_ts_monthly_sfc_ocean.csh', 'exp_platform': 'gfdl.ncrc5-intel22', 'exp_component': 'analysis'}\n",
      "30340182 {'exp_name': 'CM4_historical_c96_OM4p25_i251_v7c192initCond', 'exp_time': '2009', 'exp_target': 'prod-openmp', 'script_name': 'atw_atmos_ts_monthly_sfc.csh', 'exp_platform': 'gfdl.ncrc5-intel22', 'exp_component': 'analysis'}\n",
      "30340183 {'exp_name': 'CM4_historical_c96_OM4p25_i251_v7c192initCond', 'exp_time': '2009', 'exp_target': 'prod-openmp', 'script_name': 'atw_atmos_ts_monthly_index.csh', 'exp_platform': 'gfdl.ncrc5-intel22', 'exp_component': 'analysis'}\n",
      "30340184 {'exp_name': 'CM4_historical_c96_OM4p25_i251_v7c192initCond', 'exp_time': '2009', 'exp_target': 'prod-openmp', 'script_name': 'atw_atmos_ts_monthly_koppen.csh', 'exp_platform': 'gfdl.ncrc5-intel22', 'exp_component': 'analysis'}\n",
      "30340343 {'exp_name': 'CM4_historical_c96_OM4p25_i251_v7c192initCond', 'exp_time': '20100101', 'exp_target': 'prod-openmp', 'script_name': 'CM4_historical_c96_OM4p25_i251_v7c192initCond_refineDiag_20100101', 'exp_platform': 'gfdl.ncrc5-intel22', 'exp_component': 'refineDiag', 'exp_seg_months': '12'}\n",
      "30341229 {'exp_name': 'CM4_historical_c96_OM4p25_i251_v7c192initCond', 'exp_time': '20110101', 'exp_target': 'prod-openmp', 'script_name': 'CM4_historical_c96_OM4p25_i251_v7c192initCond_refineDiag_20110101', 'exp_platform': 'gfdl.ncrc5-intel22', 'exp_component': 'refineDiag', 'exp_seg_months': '12'}\n",
      "30341947 {'exp_name': 'CM4_historical_c96_OM4p25_i251_v7c192initCond', 'exp_time': '20120101', 'exp_target': 'prod-openmp', 'script_name': 'CM4_historical_c96_OM4p25_i251_v7c192initCond_refineDiag_20120101', 'exp_platform': 'gfdl.ncrc5-intel22', 'exp_component': 'refineDiag', 'exp_seg_months': '12'}\n",
      "30342646 {'exp_name': 'CM4_historical_c96_OM4p25_i251_v7c192initCond', 'exp_time': '20130101', 'exp_target': 'prod-openmp', 'script_name': 'CM4_historical_c96_OM4p25_i251_v7c192initCond_refineDiag_20130101', 'exp_platform': 'gfdl.ncrc5-intel22', 'exp_component': 'refineDiag', 'exp_seg_months': '12'}\n",
      "30343401 {'exp_name': 'CM4_historical_c96_OM4p25_i251_v7c192initCond', 'exp_time': '20140101', 'exp_target': 'prod-openmp', 'script_name': 'CM4_historical_c96_OM4p25_i251_v7c192initCond_refineDiag_20140101', 'exp_platform': 'gfdl.ncrc5-intel22', 'exp_component': 'refineDiag', 'exp_seg_months': '12'}\n",
      "30343499 {'exp_name': 'CM4_historical_c96_OM4p25_i251_v7c192initCond', 'exp_time': '20140101', 'exp_target': 'prod-openmp', 'script_name': 'CM4_historical_c96_OM4p25_i251_v7c192initCond_ocean_daily_20140101', 'exp_platform': 'gfdl.ncrc5-intel22', 'exp_component': 'ocean_daily', 'exp_seg_months': '12'}\n",
      "30343500 {'exp_name': 'CM4_historical_c96_OM4p25_i251_v7c192initCond', 'exp_time': '20140101', 'exp_target': 'prod-openmp', 'script_name': 'CM4_historical_c96_OM4p25_i251_v7c192initCond_ocean_daily_1x1deg_20140101', 'exp_platform': 'gfdl.ncrc5-intel22', 'exp_component': 'ocean_daily_1x1deg', 'exp_seg_months': '12'}\n",
      "30343501 {'exp_name': 'CM4_historical_c96_OM4p25_i251_v7c192initCond', 'exp_time': '20140101', 'exp_target': 'prod-openmp', 'script_name': 'CM4_historical_c96_OM4p25_i251_v7c192initCond_ocean_monthly_20140101', 'exp_platform': 'gfdl.ncrc5-intel22', 'exp_component': 'ocean_monthly', 'exp_seg_months': '12'}\n",
      "30343502 {'exp_name': 'CM4_historical_c96_OM4p25_i251_v7c192initCond', 'exp_time': '20140101', 'exp_target': 'prod-openmp', 'script_name': 'CM4_historical_c96_OM4p25_i251_v7c192initCond_ocean_monthly_z_20140101', 'exp_platform': 'gfdl.ncrc5-intel22', 'exp_component': 'ocean_monthly_z', 'exp_seg_months': '12'}\n",
      "30343504 {'exp_name': 'CM4_historical_c96_OM4p25_i251_v7c192initCond', 'exp_time': '20140101', 'exp_target': 'prod-openmp', 'script_name': 'CM4_historical_c96_OM4p25_i251_v7c192initCond_ocean_monthly_z_1x1deg_20140101', 'exp_platform': 'gfdl.ncrc5-intel22', 'exp_component': 'ocean_monthly_z_1x1deg', 'exp_seg_months': '12'}\n",
      "30343505 {'exp_name': 'CM4_historical_c96_OM4p25_i251_v7c192initCond', 'exp_time': '20140101', 'exp_target': 'prod-openmp', 'script_name': 'CM4_historical_c96_OM4p25_i251_v7c192initCond_ocean_month_z_refined_20140101', 'exp_platform': 'gfdl.ncrc5-intel22', 'exp_component': 'ocean_month_z_refined', 'exp_seg_months': '12'}\n",
      "30343506 {'exp_name': 'CM4_historical_c96_OM4p25_i251_v7c192initCond', 'exp_time': '20140101', 'exp_target': 'prod-openmp', 'script_name': 'CM4_historical_c96_OM4p25_i251_v7c192initCond_ocean_month_rho2_refined_20140101', 'exp_platform': 'gfdl.ncrc5-intel22', 'exp_component': 'ocean_month_rho2_refined', 'exp_seg_months': '12'}\n",
      "30343507 {'exp_name': 'CM4_historical_c96_OM4p25_i251_v7c192initCond', 'exp_time': '20140101', 'exp_target': 'prod-openmp', 'script_name': 'CM4_historical_c96_OM4p25_i251_v7c192initCond_ocean_scalar_monthly_20140101', 'exp_platform': 'gfdl.ncrc5-intel22', 'exp_component': 'ocean_scalar_monthly', 'exp_seg_months': '12'}\n",
      "30343509 {'exp_name': 'CM4_historical_c96_OM4p25_i251_v7c192initCond', 'exp_time': '20140101', 'exp_target': 'prod-openmp', 'script_name': 'CM4_historical_c96_OM4p25_i251_v7c192initCond_ocean_annual_rho2_20140101', 'exp_platform': 'gfdl.ncrc5-intel22', 'exp_component': 'ocean_annual_rho2', 'exp_seg_months': '12'}\n",
      "30343511 {'exp_name': 'CM4_historical_c96_OM4p25_i251_v7c192initCond', 'exp_time': '20140101', 'exp_target': 'prod-openmp', 'script_name': 'CM4_historical_c96_OM4p25_i251_v7c192initCond_ocean_annual_20140101', 'exp_platform': 'gfdl.ncrc5-intel22', 'exp_component': 'ocean_annual', 'exp_seg_months': '12'}\n",
      "30343510 {'exp_name': 'CM4_historical_c96_OM4p25_i251_v7c192initCond', 'exp_time': '20140101', 'exp_target': 'prod-openmp', 'script_name': 'CM4_historical_c96_OM4p25_i251_v7c192initCond_ocean_annual_rho2_1x1deg_20140101', 'exp_platform': 'gfdl.ncrc5-intel22', 'exp_component': 'ocean_annual_rho2_1x1deg', 'exp_seg_months': '12'}\n",
      "30343512 {'exp_name': 'CM4_historical_c96_OM4p25_i251_v7c192initCond', 'exp_time': '20140101', 'exp_target': 'prod-openmp', 'script_name': 'CM4_historical_c96_OM4p25_i251_v7c192initCond_ocean_annual_z_20140101', 'exp_platform': 'gfdl.ncrc5-intel22', 'exp_component': 'ocean_annual_z', 'exp_seg_months': '12'}\n",
      "30343513 {'exp_name': 'CM4_historical_c96_OM4p25_i251_v7c192initCond', 'exp_time': '20140101', 'exp_target': 'prod-openmp', 'script_name': 'CM4_historical_c96_OM4p25_i251_v7c192initCond_ocean_annual_z_1x1deg_20140101', 'exp_platform': 'gfdl.ncrc5-intel22', 'exp_component': 'ocean_annual_z_1x1deg', 'exp_seg_months': '12'}\n",
      "30343514 {'exp_name': 'CM4_historical_c96_OM4p25_i251_v7c192initCond', 'exp_time': '20140101', 'exp_target': 'prod-openmp', 'script_name': 'CM4_historical_c96_OM4p25_i251_v7c192initCond_ocean_monthly_z3_20140101', 'exp_platform': 'gfdl.ncrc5-intel22', 'exp_component': 'ocean_monthly_z3', 'exp_seg_months': '12'}\n",
      "30343515 {'exp_name': 'CM4_historical_c96_OM4p25_i251_v7c192initCond', 'exp_time': '20140101', 'exp_target': 'prod-openmp', 'script_name': 'CM4_historical_c96_OM4p25_i251_v7c192initCond_ocean_annual_z3_20140101', 'exp_platform': 'gfdl.ncrc5-intel22', 'exp_component': 'ocean_annual_z3', 'exp_seg_months': '12'}\n",
      "30343516 {'exp_name': 'CM4_historical_c96_OM4p25_i251_v7c192initCond', 'exp_time': '20140101', 'exp_target': 'prod-openmp', 'script_name': 'CM4_historical_c96_OM4p25_i251_v7c192initCond_ocean_scalar_annual_20140101', 'exp_platform': 'gfdl.ncrc5-intel22', 'exp_component': 'ocean_scalar_annual', 'exp_seg_months': '12'}\n",
      "30343517 {'exp_name': 'CM4_historical_c96_OM4p25_i251_v7c192initCond', 'exp_time': '20140101', 'exp_target': 'prod-openmp', 'script_name': 'CM4_historical_c96_OM4p25_i251_v7c192initCond_ice_20140101', 'exp_platform': 'gfdl.ncrc5-intel22', 'exp_component': 'ice', 'exp_seg_months': '12'}\n",
      "30343519 {'exp_name': 'CM4_historical_c96_OM4p25_i251_v7c192initCond', 'exp_time': '20140101', 'exp_target': 'prod-openmp', 'script_name': 'CM4_historical_c96_OM4p25_i251_v7c192initCond_ice_1x1deg_20140101', 'exp_platform': 'gfdl.ncrc5-intel22', 'exp_component': 'ice_1x1deg', 'exp_seg_months': '12'}\n",
      "30343520 {'exp_name': 'CM4_historical_c96_OM4p25_i251_v7c192initCond', 'exp_time': '20140101', 'exp_target': 'prod-openmp', 'script_name': 'CM4_historical_c96_OM4p25_i251_v7c192initCond_ice_daily_20140101', 'exp_platform': 'gfdl.ncrc5-intel22', 'exp_component': 'ice_daily', 'exp_seg_months': '12'}\n",
      "30343521 {'exp_name': 'CM4_historical_c96_OM4p25_i251_v7c192initCond', 'exp_time': '20140101', 'exp_target': 'prod-openmp', 'script_name': 'CM4_historical_c96_OM4p25_i251_v7c192initCond_ice_daily_extra_20140101', 'exp_platform': 'gfdl.ncrc5-intel22', 'exp_component': 'ice_daily_extra', 'exp_seg_months': '12'}\n",
      "30343522 {'exp_name': 'CM4_historical_c96_OM4p25_i251_v7c192initCond', 'exp_time': '20140101', 'exp_target': 'prod-openmp', 'script_name': 'CM4_historical_c96_OM4p25_i251_v7c192initCond_ocean_month_refined_20140101', 'exp_platform': 'gfdl.ncrc5-intel22', 'exp_component': 'ocean_month_refined', 'exp_seg_months': '12'}\n",
      "30343523 {'exp_name': 'CM4_historical_c96_OM4p25_i251_v7c192initCond', 'exp_time': '20140101', 'exp_target': 'prod-openmp', 'script_name': 'CM4_historical_c96_OM4p25_i251_v7c192initCond_atmos_20140101', 'exp_platform': 'gfdl.ncrc5-intel22', 'exp_component': 'atmos', 'exp_seg_months': '12'}\n",
      "30343524 {'exp_name': 'CM4_historical_c96_OM4p25_i251_v7c192initCond', 'exp_time': '20140101', 'exp_target': 'prod-openmp', 'script_name': 'CM4_historical_c96_OM4p25_i251_v7c192initCond_atmos_month_aer_20140101', 'exp_platform': 'gfdl.ncrc5-intel22', 'exp_component': 'atmos_month_aer', 'exp_seg_months': '12'}\n",
      "30343525 {'exp_name': 'CM4_historical_c96_OM4p25_i251_v7c192initCond', 'exp_time': '20140101', 'exp_target': 'prod-openmp', 'script_name': 'CM4_historical_c96_OM4p25_i251_v7c192initCond_atmos_diurnal_20140101', 'exp_platform': 'gfdl.ncrc5-intel22', 'exp_component': 'atmos_diurnal', 'exp_seg_months': '12'}\n",
      "30343526 {'exp_name': 'CM4_historical_c96_OM4p25_i251_v7c192initCond', 'exp_time': '20140101', 'exp_target': 'prod-openmp', 'script_name': 'CM4_historical_c96_OM4p25_i251_v7c192initCond_atmos_scalar_20140101', 'exp_platform': 'gfdl.ncrc5-intel22', 'exp_component': 'atmos_scalar', 'exp_seg_months': '12'}\n",
      "30343527 {'exp_name': 'CM4_historical_c96_OM4p25_i251_v7c192initCond', 'exp_time': '20140101', 'exp_target': 'prod-openmp', 'script_name': 'CM4_historical_c96_OM4p25_i251_v7c192initCond_land_20140101', 'exp_platform': 'gfdl.ncrc5-intel22', 'exp_component': 'land', 'exp_seg_months': '12'}\n",
      "30343528 {'exp_name': 'CM4_historical_c96_OM4p25_i251_v7c192initCond', 'exp_time': '20140101', 'exp_target': 'prod-openmp', 'script_name': 'CM4_historical_c96_OM4p25_i251_v7c192initCond_land_cubic_20140101', 'exp_platform': 'gfdl.ncrc5-intel22', 'exp_component': 'land_cubic', 'exp_seg_months': '12'}\n",
      "30343529 {'exp_name': 'CM4_historical_c96_OM4p25_i251_v7c192initCond', 'exp_time': '20140101', 'exp_target': 'prod-openmp', 'script_name': 'CM4_historical_c96_OM4p25_i251_v7c192initCond_land_instant_cubic_20140101', 'exp_platform': 'gfdl.ncrc5-intel22', 'exp_component': 'land_instant_cubic', 'exp_seg_months': '12'}\n",
      "30343530 {'exp_name': 'CM4_historical_c96_OM4p25_i251_v7c192initCond', 'exp_time': '20140101', 'exp_target': 'prod-openmp', 'script_name': 'CM4_historical_c96_OM4p25_i251_v7c192initCond_land_cmip_20140101', 'exp_platform': 'gfdl.ncrc5-intel22', 'exp_component': 'land_cmip', 'exp_seg_months': '12'}\n",
      "30343531 {'exp_name': 'CM4_historical_c96_OM4p25_i251_v7c192initCond', 'exp_time': '20140101', 'exp_target': 'prod-openmp', 'script_name': 'CM4_historical_c96_OM4p25_i251_v7c192initCond_land_dust_20140101', 'exp_platform': 'gfdl.ncrc5-intel22', 'exp_component': 'land_dust', 'exp_seg_months': '12'}\n",
      "30343532 {'exp_name': 'CM4_historical_c96_OM4p25_i251_v7c192initCond', 'exp_time': '20140101', 'exp_target': 'prod-openmp', 'script_name': 'CM4_historical_c96_OM4p25_i251_v7c192initCond_river_20140101', 'exp_platform': 'gfdl.ncrc5-intel22', 'exp_component': 'river', 'exp_seg_months': '12'}\n",
      "30343533 {'exp_name': 'CM4_historical_c96_OM4p25_i251_v7c192initCond', 'exp_time': '20140101', 'exp_target': 'prod-openmp', 'script_name': 'CM4_historical_c96_OM4p25_i251_v7c192initCond_river_cubic_20140101', 'exp_platform': 'gfdl.ncrc5-intel22', 'exp_component': 'river_cubic', 'exp_seg_months': '12'}\n",
      "30343534 {'exp_name': 'CM4_historical_c96_OM4p25_i251_v7c192initCond', 'exp_time': '20140101', 'exp_target': 'prod-openmp', 'script_name': 'CM4_historical_c96_OM4p25_i251_v7c192initCond_river_instant_cubic_20140101', 'exp_platform': 'gfdl.ncrc5-intel22', 'exp_component': 'river_instant_cubic', 'exp_seg_months': '12'}\n",
      "30343535 {'exp_name': 'CM4_historical_c96_OM4p25_i251_v7c192initCond', 'exp_time': '20140101', 'exp_target': 'prod-openmp', 'script_name': 'CM4_historical_c96_OM4p25_i251_v7c192initCond_atmos_cmip_20140101', 'exp_platform': 'gfdl.ncrc5-intel22', 'exp_component': 'atmos_cmip', 'exp_seg_months': '12'}\n",
      "30343536 {'exp_name': 'CM4_historical_c96_OM4p25_i251_v7c192initCond', 'exp_time': '20140101', 'exp_target': 'prod-openmp', 'script_name': 'CM4_historical_c96_OM4p25_i251_v7c192initCond_ocean_inert_month_20140101', 'exp_platform': 'gfdl.ncrc5-intel22', 'exp_component': 'ocean_inert_month', 'exp_seg_months': '12'}\n",
      "30343537 {'exp_name': 'CM4_historical_c96_OM4p25_i251_v7c192initCond', 'exp_time': '20140101', 'exp_target': 'prod-openmp', 'script_name': 'CM4_historical_c96_OM4p25_i251_v7c192initCond_ocean_inert_month_1x1deg_20140101', 'exp_platform': 'gfdl.ncrc5-intel22', 'exp_component': 'ocean_inert_month_1x1deg', 'exp_seg_months': '12'}\n",
      "30343538 {'exp_name': 'CM4_historical_c96_OM4p25_i251_v7c192initCond', 'exp_time': '20140101', 'exp_target': 'prod-openmp', 'script_name': 'CM4_historical_c96_OM4p25_i251_v7c192initCond_ocean_inert_z_20140101', 'exp_platform': 'gfdl.ncrc5-intel22', 'exp_component': 'ocean_inert_z', 'exp_seg_months': '12'}\n",
      "30343539 {'exp_name': 'CM4_historical_c96_OM4p25_i251_v7c192initCond', 'exp_time': '20140101', 'exp_target': 'prod-openmp', 'script_name': 'CM4_historical_c96_OM4p25_i251_v7c192initCond_ocean_inert_z_1x1deg_20140101', 'exp_platform': 'gfdl.ncrc5-intel22', 'exp_component': 'ocean_inert_z_1x1deg', 'exp_seg_months': '12'}\n",
      "30344652 {'exp_name': 'CM4_historical_c96_OM4p25_i251_v7c192initCond', 'exp_time': '2014', 'exp_target': 'prod-openmp', 'script_name': 'bw_atmos_av_mon.csh', 'exp_platform': 'gfdl.ncrc5-intel22', 'exp_component': 'analysis'}\n",
      "30344653 {'exp_name': 'CM4_historical_c96_OM4p25_i251_v7c192initCond', 'exp_time': '2014', 'exp_target': 'prod-openmp', 'script_name': 'bw_atmos_atl_pac.csh', 'exp_platform': 'gfdl.ncrc5-intel22', 'exp_component': 'analysis'}\n",
      "30344657 {'exp_name': 'CM4_historical_c96_OM4p25_i251_v7c192initCond', 'exp_time': '2014', 'exp_target': 'prod-openmp', 'script_name': 'bw_box_whisker.csh', 'exp_platform': 'gfdl.ncrc5-intel22', 'exp_component': 'analysis'}\n",
      "30344654 {'exp_name': 'CM4_historical_c96_OM4p25_i251_v7c192initCond', 'exp_time': '2014', 'exp_target': 'prod-openmp', 'script_name': 'lwh_atmos_av_mon.csh', 'exp_platform': 'gfdl.ncrc5-intel22', 'exp_component': 'analysis'}\n",
      "30344659 {'exp_name': 'CM4_historical_c96_OM4p25_i251_v7c192initCond', 'exp_time': '2014', 'exp_target': 'prod-openmp', 'script_name': 'sak_atmos_av_mon.csh', 'exp_platform': 'gfdl.ncrc5-intel22', 'exp_component': 'analysis'}\n",
      "30344655 {'exp_name': 'CM4_historical_c96_OM4p25_i251_v7c192initCond', 'exp_time': '2014', 'exp_target': 'prod-openmp', 'script_name': 'pjk_atmos_av_mon.csh', 'exp_platform': 'gfdl.ncrc5-intel22', 'exp_component': 'analysis'}\n",
      "30344656 {'exp_name': 'CM4_historical_c96_OM4p25_i251_v7c192initCond', 'exp_time': '2014', 'exp_target': 'prod-openmp', 'script_name': 'tk_atmos_av_mon.csh', 'exp_platform': 'gfdl.ncrc5-intel22', 'exp_component': 'analysis'}\n",
      "30344669 {'exp_name': 'CM4_historical_c96_OM4p25_i251_v7c192initCond', 'exp_time': '2014', 'exp_target': 'prod-openmp', 'script_name': 'cjg_atmos_level_mon_av.csh', 'exp_platform': 'gfdl.ncrc5-intel22', 'exp_component': 'analysis'}\n",
      "30344670 {'exp_name': 'CM4_historical_c96_OM4p25_i251_v7c192initCond', 'exp_time': '2014', 'exp_target': 'prod-openmp', 'script_name': 'atw_atmos_av_annual_column.csh', 'exp_platform': 'gfdl.ncrc5-intel22', 'exp_component': 'analysis'}\n",
      "30344671 {'exp_name': 'CM4_historical_c96_OM4p25_i251_v7c192initCond', 'exp_time': '2014', 'exp_target': 'prod-openmp', 'script_name': 'bw_diurnal_precip.csh', 'exp_platform': 'gfdl.ncrc5-intel22', 'exp_component': 'analysis'}\n",
      "30344673 {'exp_name': 'CM4_historical_c96_OM4p25_i251_v7c192initCond', 'exp_time': '2014', 'exp_target': 'prod-openmp', 'script_name': 'frepp.jwd_tropical_storms_wsfc.csh', 'exp_platform': 'gfdl.ncrc5-intel22', 'exp_component': 'analysis'}\n",
      "30344674 {'exp_name': 'CM4_historical_c96_OM4p25_i251_v7c192initCond', 'exp_time': '2014', 'exp_target': 'prod-openmp', 'script_name': 'wheeler_kiladis.csh', 'exp_platform': 'gfdl.ncrc5-intel22', 'exp_component': 'analysis'}\n",
      "30344683 {'exp_name': 'CM4_historical_c96_OM4p25_i251_v7c192initCond', 'exp_time': '2014', 'exp_target': 'prod-openmp', 'script_name': 'bw_atmos_monthly_cru_ts.csh', 'exp_platform': 'gfdl.ncrc5-intel22', 'exp_component': 'analysis'}\n",
      "30344675 {'exp_name': 'CM4_historical_c96_OM4p25_i251_v7c192initCond', 'exp_time': '2014', 'exp_target': 'prod-openmp', 'script_name': 'bw_atmos_eddies.csh', 'exp_platform': 'gfdl.ncrc5-intel22', 'exp_component': 'analysis'}\n",
      "30344684 {'exp_name': 'CM4_historical_c96_OM4p25_i251_v7c192initCond', 'exp_time': '2014', 'exp_target': 'prod-openmp', 'script_name': 'bw_atmos_timeseries.csh', 'exp_platform': 'gfdl.ncrc5-intel22', 'exp_component': 'analysis'}\n",
      "30344690 {'exp_name': 'CM4_historical_c96_OM4p25_i251_v7c192initCond', 'exp_time': '2014', 'exp_target': 'prod-openmp', 'script_name': 'atw_atmos_ts_monthly_sfc_ocean.csh', 'exp_platform': 'gfdl.ncrc5-intel22', 'exp_component': 'analysis'}\n",
      "30344687 {'exp_name': 'CM4_historical_c96_OM4p25_i251_v7c192initCond', 'exp_time': '2014', 'exp_target': 'prod-openmp', 'script_name': 'bw_atmos_zmstream.csh', 'exp_platform': 'gfdl.ncrc5-intel22', 'exp_component': 'analysis'}\n",
      "30344692 {'exp_name': 'CM4_historical_c96_OM4p25_i251_v7c192initCond', 'exp_time': '2014', 'exp_target': 'prod-openmp', 'script_name': 'atw_atmos_ts_monthly_sfc.csh', 'exp_platform': 'gfdl.ncrc5-intel22', 'exp_component': 'analysis'}\n",
      "30344688 {'exp_name': 'CM4_historical_c96_OM4p25_i251_v7c192initCond', 'exp_time': '2014', 'exp_target': 'prod-openmp', 'script_name': 'cjg_atmos_ts_mon.csh', 'exp_platform': 'gfdl.ncrc5-intel22', 'exp_component': 'analysis'}\n",
      "30344694 {'exp_name': 'CM4_historical_c96_OM4p25_i251_v7c192initCond', 'exp_time': '2014', 'exp_target': 'prod-openmp', 'script_name': 'atw_atmos_ts_monthly_koppen.csh', 'exp_platform': 'gfdl.ncrc5-intel22', 'exp_component': 'analysis'}\n",
      "30344693 {'exp_name': 'CM4_historical_c96_OM4p25_i251_v7c192initCond', 'exp_time': '2014', 'exp_target': 'prod-openmp', 'script_name': 'atw_atmos_ts_monthly_index.csh', 'exp_platform': 'gfdl.ncrc5-intel22', 'exp_component': 'analysis'}\n",
      "30344685 {'exp_name': 'CM4_historical_c96_OM4p25_i251_v7c192initCond', 'exp_time': '2014', 'exp_target': 'prod-openmp', 'script_name': 'bw_atmos_regress.csh', 'exp_platform': 'gfdl.ncrc5-intel22', 'exp_component': 'analysis'}\n"
     ]
    }
   ],
   "source": [
    "for j in targ_exp_name_jobs:\n",
    "    print(j.jobid, j.tags)"
   ]
  },
  {
   "cell_type": "markdown",
   "metadata": {},
   "source": [
    "As job queries require tags for filtering, you might want to know the *range* of values keys within the job tags take in a collection of jobs. We provide an API call for this purpose:"
   ]
  },
  {
   "cell_type": "code",
   "execution_count": 9,
   "metadata": {},
   "outputs": [
    {
     "data": {
      "text/plain": [
       "{'exp_name': 'CM4_historical_c96_OM4p25_i251_v7c192initCond',\n",
       " 'exp_time': {'2004',\n",
       "  '20070101',\n",
       "  '20080101',\n",
       "  '2009',\n",
       "  '20090101',\n",
       "  '20100101',\n",
       "  '20110101',\n",
       "  '20120101',\n",
       "  '20130101',\n",
       "  '2014',\n",
       "  '20140101'},\n",
       " 'exp_target': 'prod-openmp',\n",
       " 'script_name': {'CM4_historical_c96_OM4p25_i251_v7c192initCond_atmos_20090101',\n",
       "  'CM4_historical_c96_OM4p25_i251_v7c192initCond_atmos_20140101',\n",
       "  'CM4_historical_c96_OM4p25_i251_v7c192initCond_atmos_cmip_20090101',\n",
       "  'CM4_historical_c96_OM4p25_i251_v7c192initCond_atmos_cmip_20140101',\n",
       "  'CM4_historical_c96_OM4p25_i251_v7c192initCond_atmos_diurnal_20090101',\n",
       "  'CM4_historical_c96_OM4p25_i251_v7c192initCond_atmos_diurnal_20140101',\n",
       "  'CM4_historical_c96_OM4p25_i251_v7c192initCond_atmos_month_aer_20090101',\n",
       "  'CM4_historical_c96_OM4p25_i251_v7c192initCond_atmos_month_aer_20140101',\n",
       "  'CM4_historical_c96_OM4p25_i251_v7c192initCond_atmos_scalar_20090101',\n",
       "  'CM4_historical_c96_OM4p25_i251_v7c192initCond_atmos_scalar_20140101',\n",
       "  'CM4_historical_c96_OM4p25_i251_v7c192initCond_ice_1x1deg_20090101',\n",
       "  'CM4_historical_c96_OM4p25_i251_v7c192initCond_ice_1x1deg_20140101',\n",
       "  'CM4_historical_c96_OM4p25_i251_v7c192initCond_ice_20090101',\n",
       "  'CM4_historical_c96_OM4p25_i251_v7c192initCond_ice_20140101',\n",
       "  'CM4_historical_c96_OM4p25_i251_v7c192initCond_ice_daily_20090101',\n",
       "  'CM4_historical_c96_OM4p25_i251_v7c192initCond_ice_daily_20140101',\n",
       "  'CM4_historical_c96_OM4p25_i251_v7c192initCond_ice_daily_extra_20090101',\n",
       "  'CM4_historical_c96_OM4p25_i251_v7c192initCond_ice_daily_extra_20140101',\n",
       "  'CM4_historical_c96_OM4p25_i251_v7c192initCond_land_20090101',\n",
       "  'CM4_historical_c96_OM4p25_i251_v7c192initCond_land_20140101',\n",
       "  'CM4_historical_c96_OM4p25_i251_v7c192initCond_land_cmip_20090101',\n",
       "  'CM4_historical_c96_OM4p25_i251_v7c192initCond_land_cmip_20140101',\n",
       "  'CM4_historical_c96_OM4p25_i251_v7c192initCond_land_cubic_20090101',\n",
       "  'CM4_historical_c96_OM4p25_i251_v7c192initCond_land_cubic_20140101',\n",
       "  'CM4_historical_c96_OM4p25_i251_v7c192initCond_land_dust_20090101',\n",
       "  'CM4_historical_c96_OM4p25_i251_v7c192initCond_land_dust_20140101',\n",
       "  'CM4_historical_c96_OM4p25_i251_v7c192initCond_land_instant_cubic_20090101',\n",
       "  'CM4_historical_c96_OM4p25_i251_v7c192initCond_land_instant_cubic_20140101',\n",
       "  'CM4_historical_c96_OM4p25_i251_v7c192initCond_ocean_Agulhas_section_20090101',\n",
       "  'CM4_historical_c96_OM4p25_i251_v7c192initCond_ocean_Barents_opening_20090101',\n",
       "  'CM4_historical_c96_OM4p25_i251_v7c192initCond_ocean_Bering_Strait_20090101',\n",
       "  'CM4_historical_c96_OM4p25_i251_v7c192initCond_ocean_Davis_Strait_20090101',\n",
       "  'CM4_historical_c96_OM4p25_i251_v7c192initCond_ocean_Denmark_Strait_20090101',\n",
       "  'CM4_historical_c96_OM4p25_i251_v7c192initCond_ocean_Drake_Passage_20090101',\n",
       "  'CM4_historical_c96_OM4p25_i251_v7c192initCond_ocean_English_Channel_20090101',\n",
       "  'CM4_historical_c96_OM4p25_i251_v7c192initCond_ocean_Faroe_Scotland_20090101',\n",
       "  'CM4_historical_c96_OM4p25_i251_v7c192initCond_ocean_Florida_Bahamas_20090101',\n",
       "  'CM4_historical_c96_OM4p25_i251_v7c192initCond_ocean_Fram_Strait_20090101',\n",
       "  'CM4_historical_c96_OM4p25_i251_v7c192initCond_ocean_Gibraltar_Strait_20090101',\n",
       "  'CM4_historical_c96_OM4p25_i251_v7c192initCond_ocean_Iceland_Faroe_U_20090101',\n",
       "  'CM4_historical_c96_OM4p25_i251_v7c192initCond_ocean_Iceland_Faroe_V_20090101',\n",
       "  'CM4_historical_c96_OM4p25_i251_v7c192initCond_ocean_Iceland_Norway_20090101',\n",
       "  'CM4_historical_c96_OM4p25_i251_v7c192initCond_ocean_Indonesian_Throughflow_20090101',\n",
       "  'CM4_historical_c96_OM4p25_i251_v7c192initCond_ocean_Mozambique_Channel_20090101',\n",
       "  'CM4_historical_c96_OM4p25_i251_v7c192initCond_ocean_Pacific_undercurrent_20090101',\n",
       "  'CM4_historical_c96_OM4p25_i251_v7c192initCond_ocean_Taiwan_Luzon_20090101',\n",
       "  'CM4_historical_c96_OM4p25_i251_v7c192initCond_ocean_Windward_Passage_20090101',\n",
       "  'CM4_historical_c96_OM4p25_i251_v7c192initCond_ocean_annual_20090101',\n",
       "  'CM4_historical_c96_OM4p25_i251_v7c192initCond_ocean_annual_20140101',\n",
       "  'CM4_historical_c96_OM4p25_i251_v7c192initCond_ocean_annual_rho2_1x1deg_20090101',\n",
       "  'CM4_historical_c96_OM4p25_i251_v7c192initCond_ocean_annual_rho2_1x1deg_20140101',\n",
       "  'CM4_historical_c96_OM4p25_i251_v7c192initCond_ocean_annual_rho2_20090101',\n",
       "  'CM4_historical_c96_OM4p25_i251_v7c192initCond_ocean_annual_rho2_20140101',\n",
       "  'CM4_historical_c96_OM4p25_i251_v7c192initCond_ocean_annual_z3_20090101',\n",
       "  'CM4_historical_c96_OM4p25_i251_v7c192initCond_ocean_annual_z3_20140101',\n",
       "  'CM4_historical_c96_OM4p25_i251_v7c192initCond_ocean_annual_z_1x1deg_20090101',\n",
       "  'CM4_historical_c96_OM4p25_i251_v7c192initCond_ocean_annual_z_1x1deg_20140101',\n",
       "  'CM4_historical_c96_OM4p25_i251_v7c192initCond_ocean_annual_z_20090101',\n",
       "  'CM4_historical_c96_OM4p25_i251_v7c192initCond_ocean_annual_z_20140101',\n",
       "  'CM4_historical_c96_OM4p25_i251_v7c192initCond_ocean_daily_1x1deg_20090101',\n",
       "  'CM4_historical_c96_OM4p25_i251_v7c192initCond_ocean_daily_1x1deg_20140101',\n",
       "  'CM4_historical_c96_OM4p25_i251_v7c192initCond_ocean_daily_20090101',\n",
       "  'CM4_historical_c96_OM4p25_i251_v7c192initCond_ocean_daily_20140101',\n",
       "  'CM4_historical_c96_OM4p25_i251_v7c192initCond_ocean_inert_month_1x1deg_20090101',\n",
       "  'CM4_historical_c96_OM4p25_i251_v7c192initCond_ocean_inert_month_1x1deg_20140101',\n",
       "  'CM4_historical_c96_OM4p25_i251_v7c192initCond_ocean_inert_month_20090101',\n",
       "  'CM4_historical_c96_OM4p25_i251_v7c192initCond_ocean_inert_month_20140101',\n",
       "  'CM4_historical_c96_OM4p25_i251_v7c192initCond_ocean_inert_z_1x1deg_20090101',\n",
       "  'CM4_historical_c96_OM4p25_i251_v7c192initCond_ocean_inert_z_1x1deg_20140101',\n",
       "  'CM4_historical_c96_OM4p25_i251_v7c192initCond_ocean_inert_z_20090101',\n",
       "  'CM4_historical_c96_OM4p25_i251_v7c192initCond_ocean_inert_z_20140101',\n",
       "  'CM4_historical_c96_OM4p25_i251_v7c192initCond_ocean_month_refined_20090101',\n",
       "  'CM4_historical_c96_OM4p25_i251_v7c192initCond_ocean_month_refined_20140101',\n",
       "  'CM4_historical_c96_OM4p25_i251_v7c192initCond_ocean_month_rho2_refined_20090101',\n",
       "  'CM4_historical_c96_OM4p25_i251_v7c192initCond_ocean_month_rho2_refined_20140101',\n",
       "  'CM4_historical_c96_OM4p25_i251_v7c192initCond_ocean_month_z_refined_20090101',\n",
       "  'CM4_historical_c96_OM4p25_i251_v7c192initCond_ocean_month_z_refined_20140101',\n",
       "  'CM4_historical_c96_OM4p25_i251_v7c192initCond_ocean_monthly_20090101',\n",
       "  'CM4_historical_c96_OM4p25_i251_v7c192initCond_ocean_monthly_20140101',\n",
       "  'CM4_historical_c96_OM4p25_i251_v7c192initCond_ocean_monthly_z3_20090101',\n",
       "  'CM4_historical_c96_OM4p25_i251_v7c192initCond_ocean_monthly_z3_20140101',\n",
       "  'CM4_historical_c96_OM4p25_i251_v7c192initCond_ocean_monthly_z_1x1deg_20090101',\n",
       "  'CM4_historical_c96_OM4p25_i251_v7c192initCond_ocean_monthly_z_1x1deg_20140101',\n",
       "  'CM4_historical_c96_OM4p25_i251_v7c192initCond_ocean_monthly_z_20090101',\n",
       "  'CM4_historical_c96_OM4p25_i251_v7c192initCond_ocean_monthly_z_20140101',\n",
       "  'CM4_historical_c96_OM4p25_i251_v7c192initCond_ocean_scalar_annual_20090101',\n",
       "  'CM4_historical_c96_OM4p25_i251_v7c192initCond_ocean_scalar_annual_20140101',\n",
       "  'CM4_historical_c96_OM4p25_i251_v7c192initCond_ocean_scalar_monthly_20090101',\n",
       "  'CM4_historical_c96_OM4p25_i251_v7c192initCond_ocean_scalar_monthly_20140101',\n",
       "  'CM4_historical_c96_OM4p25_i251_v7c192initCond_refineDiag_20070101',\n",
       "  'CM4_historical_c96_OM4p25_i251_v7c192initCond_refineDiag_20080101',\n",
       "  'CM4_historical_c96_OM4p25_i251_v7c192initCond_refineDiag_20090101',\n",
       "  'CM4_historical_c96_OM4p25_i251_v7c192initCond_refineDiag_20100101',\n",
       "  'CM4_historical_c96_OM4p25_i251_v7c192initCond_refineDiag_20110101',\n",
       "  'CM4_historical_c96_OM4p25_i251_v7c192initCond_refineDiag_20120101',\n",
       "  'CM4_historical_c96_OM4p25_i251_v7c192initCond_refineDiag_20130101',\n",
       "  'CM4_historical_c96_OM4p25_i251_v7c192initCond_refineDiag_20140101',\n",
       "  'CM4_historical_c96_OM4p25_i251_v7c192initCond_river_20090101',\n",
       "  'CM4_historical_c96_OM4p25_i251_v7c192initCond_river_20140101',\n",
       "  'CM4_historical_c96_OM4p25_i251_v7c192initCond_river_cubic_20090101',\n",
       "  'CM4_historical_c96_OM4p25_i251_v7c192initCond_river_cubic_20140101',\n",
       "  'CM4_historical_c96_OM4p25_i251_v7c192initCond_river_instant_cubic_20090101',\n",
       "  'CM4_historical_c96_OM4p25_i251_v7c192initCond_river_instant_cubic_20140101',\n",
       "  'aerosol_monthly.csh',\n",
       "  'atw_atmos_av_annual_column.csh',\n",
       "  'atw_atmos_ts_monthly_index.csh',\n",
       "  'atw_atmos_ts_monthly_koppen.csh',\n",
       "  'atw_atmos_ts_monthly_sfc.csh',\n",
       "  'atw_atmos_ts_monthly_sfc_ocean.csh',\n",
       "  'bw_atmos_atl_pac.csh',\n",
       "  'bw_atmos_av_mon.csh',\n",
       "  'bw_atmos_eddies.csh',\n",
       "  'bw_atmos_monthly_cru_ts.csh',\n",
       "  'bw_atmos_regress.csh',\n",
       "  'bw_atmos_timeseries.csh',\n",
       "  'bw_atmos_zmstream.csh',\n",
       "  'bw_box_whisker.csh',\n",
       "  'bw_diurnal_precip.csh',\n",
       "  'cjg_atmos_level_mon_av.csh',\n",
       "  'cjg_atmos_ts_mon.csh',\n",
       "  'frepp.jwd_tropical_storms_wsfc.csh',\n",
       "  'lwh_atmos_av_mon.csh',\n",
       "  'pjk_atmos_av_mon.csh',\n",
       "  'sak_atmos_av_mon.csh',\n",
       "  'tk_atmos_av_mon.csh',\n",
       "  'wheeler_kiladis.csh'},\n",
       " 'exp_platform': 'gfdl.ncrc5-intel22',\n",
       " 'exp_component': {'analysis',\n",
       "  'atmos',\n",
       "  'atmos_cmip',\n",
       "  'atmos_diurnal',\n",
       "  'atmos_month_aer',\n",
       "  'atmos_scalar',\n",
       "  'ice',\n",
       "  'ice_1x1deg',\n",
       "  'ice_daily',\n",
       "  'ice_daily_extra',\n",
       "  'land',\n",
       "  'land_cmip',\n",
       "  'land_cubic',\n",
       "  'land_dust',\n",
       "  'land_instant_cubic',\n",
       "  'ocean_Agulhas_section',\n",
       "  'ocean_Barents_opening',\n",
       "  'ocean_Bering_Strait',\n",
       "  'ocean_Davis_Strait',\n",
       "  'ocean_Denmark_Strait',\n",
       "  'ocean_Drake_Passage',\n",
       "  'ocean_English_Channel',\n",
       "  'ocean_Faroe_Scotland',\n",
       "  'ocean_Florida_Bahamas',\n",
       "  'ocean_Fram_Strait',\n",
       "  'ocean_Gibraltar_Strait',\n",
       "  'ocean_Iceland_Faroe_U',\n",
       "  'ocean_Iceland_Faroe_V',\n",
       "  'ocean_Iceland_Norway',\n",
       "  'ocean_Indonesian_Throughflow',\n",
       "  'ocean_Mozambique_Channel',\n",
       "  'ocean_Pacific_undercurrent',\n",
       "  'ocean_Taiwan_Luzon',\n",
       "  'ocean_Windward_Passage',\n",
       "  'ocean_annual',\n",
       "  'ocean_annual_rho2',\n",
       "  'ocean_annual_rho2_1x1deg',\n",
       "  'ocean_annual_z',\n",
       "  'ocean_annual_z3',\n",
       "  'ocean_annual_z_1x1deg',\n",
       "  'ocean_daily',\n",
       "  'ocean_daily_1x1deg',\n",
       "  'ocean_inert_month',\n",
       "  'ocean_inert_month_1x1deg',\n",
       "  'ocean_inert_z',\n",
       "  'ocean_inert_z_1x1deg',\n",
       "  'ocean_month_refined',\n",
       "  'ocean_month_rho2_refined',\n",
       "  'ocean_month_z_refined',\n",
       "  'ocean_monthly',\n",
       "  'ocean_monthly_z',\n",
       "  'ocean_monthly_z3',\n",
       "  'ocean_monthly_z_1x1deg',\n",
       "  'ocean_scalar_annual',\n",
       "  'ocean_scalar_monthly',\n",
       "  'refineDiag',\n",
       "  'river',\n",
       "  'river_cubic',\n",
       "  'river_instant_cubic'},\n",
       " 'exp_seg_months': '12'}"
      ]
     },
     "execution_count": 9,
     "metadata": {},
     "output_type": "execute_result"
    }
   ],
   "source": [
    "eq.get_job_tags(targ_exp_name_jobs)"
   ]
  },
  {
   "cell_type": "markdown",
   "metadata": {},
   "source": [
    "The output says that among all the `CM4_historical_c96_OM4p25_i251_v7c192initCond`, fields like `exp_seg_months` (scroll to bottom), `exp_target`, and `exp_platform` were single-valued.`component` ranged over a set of values -- `{'atmos', 'atmos_cmip', 'atmos_diurnal', 'atmos_month_aer', 'atmos_scalar', 'ice', 'ice_1x1deg', 'ice_daily', 'ice_daily_extra', ...}`."
   ]
  },
  {
   "cell_type": "markdown",
   "metadata": {},
   "source": [
    "### <a name=\"job-status\">Job Status</a>\n",
    "\n",
    "The job status contains information about the exit code, signal received by the job.\n",
    "It also contains some other useful information such as the job script path, etc.\n",
    "\n",
    "The exit code, below, is taken as the return status of the first process after `epmt start`. \n",
    "Usually this would be the parent shell process. The exit code is \n",
    "**not the job status from from the batch system**."
   ]
  },
  {
   "cell_type": "code",
   "execution_count": 10,
   "metadata": {
    "scrolled": true
   },
   "outputs": [
    {
     "data": {
      "text/plain": [
       "{'exit_code': 0,\n",
       " 'exit_reason': 'none',\n",
       " 'script_name': 'atw_atmos_ts_monthly_sfc_ocean.csh'}"
      ]
     },
     "execution_count": 10,
     "metadata": {},
     "output_type": "execute_result"
    }
   ],
   "source": [
    "eq.get_job_status(targ_exp_name_jobs[0].jobid)"
   ]
  },
  {
   "cell_type": "markdown",
   "metadata": {},
   "source": [
    "### <a name=\"jobs-order-filter\">Ordering and Filtering Jobs</a>\n",
    "\n",
    "You can use the `order`, `limit`, and `fltr` option with `get_jobs` to sort and filter the job list.\n",
    "It is advisable to use `limit` when possible, as it sends a `LIMIT` option to the SQL query\n",
    "and saves database load time. Remember, the database may have millions of jobs, so an unbounded `get_jobs` query with no filtering and no limits will exhaust the physical memory on the system. \n",
    "\n",
    "When you need to use unbounded queries, try to use the `orm` format, so you can run a `count` on the\n",
    "returned ORM object prior to loading the data from the database.\n",
    "\n",
    "In the example below, we use the `exitcode` field from the `Job` model. "
   ]
  },
  {
   "cell_type": "code",
   "execution_count": 11,
   "metadata": {},
   "outputs": [
    {
     "data": {
      "text/html": [
       "<div>\n",
       "<style scoped>\n",
       "    .dataframe tbody tr th:only-of-type {\n",
       "        vertical-align: middle;\n",
       "    }\n",
       "\n",
       "    .dataframe tbody tr th {\n",
       "        vertical-align: top;\n",
       "    }\n",
       "\n",
       "    .dataframe thead th {\n",
       "        text-align: right;\n",
       "    }\n",
       "</style>\n",
       "<table border=\"1\" class=\"dataframe\">\n",
       "  <thead>\n",
       "    <tr style=\"text-align: right;\">\n",
       "      <th></th>\n",
       "      <th>jobid</th>\n",
       "      <th>tags</th>\n",
       "      <th>duration</th>\n",
       "      <th>exitcode</th>\n",
       "    </tr>\n",
       "  </thead>\n",
       "  <tbody>\n",
       "    <tr>\n",
       "      <td>0</td>\n",
       "      <td>30461350</td>\n",
       "      <td>{'exp_name': 'LM4p0_C384_OM4p25_pi_1990CO2_She...</td>\n",
       "      <td>3.481977e+10</td>\n",
       "      <td>0</td>\n",
       "    </tr>\n",
       "    <tr>\n",
       "      <td>1</td>\n",
       "      <td>30462895</td>\n",
       "      <td>{'exp_name': 'c96L33_am5a0_new_rad_diagonly_em...</td>\n",
       "      <td>2.936197e+10</td>\n",
       "      <td>0</td>\n",
       "    </tr>\n",
       "    <tr>\n",
       "      <td>2</td>\n",
       "      <td>30460368</td>\n",
       "      <td>{'exp_name': 'CM4_noBling_1990Control_c96_OM4p...</td>\n",
       "      <td>2.296954e+10</td>\n",
       "      <td>0</td>\n",
       "    </tr>\n",
       "    <tr>\n",
       "      <td>3</td>\n",
       "      <td>30459335</td>\n",
       "      <td>{'exp_name': 'c96L33_am4p0_QTsat20_calipso_lea...</td>\n",
       "      <td>1.662544e+10</td>\n",
       "      <td>0</td>\n",
       "    </tr>\n",
       "    <tr>\n",
       "      <td>4</td>\n",
       "      <td>30459711</td>\n",
       "      <td>{'exp_name': 'LM4p0_C96_pi_1850CO2_Sheffield_s...</td>\n",
       "      <td>1.435104e+10</td>\n",
       "      <td>0</td>\n",
       "    </tr>\n",
       "    <tr>\n",
       "      <td>...</td>\n",
       "      <td>...</td>\n",
       "      <td>...</td>\n",
       "      <td>...</td>\n",
       "      <td>...</td>\n",
       "    </tr>\n",
       "    <tr>\n",
       "      <td>995</td>\n",
       "      <td>30462164</td>\n",
       "      <td>{}</td>\n",
       "      <td>3.654318e+06</td>\n",
       "      <td>0</td>\n",
       "    </tr>\n",
       "    <tr>\n",
       "      <td>996</td>\n",
       "      <td>30462040</td>\n",
       "      <td>{}</td>\n",
       "      <td>3.240684e+06</td>\n",
       "      <td>0</td>\n",
       "    </tr>\n",
       "    <tr>\n",
       "      <td>997</td>\n",
       "      <td>30462165</td>\n",
       "      <td>{}</td>\n",
       "      <td>3.232943e+06</td>\n",
       "      <td>0</td>\n",
       "    </tr>\n",
       "    <tr>\n",
       "      <td>998</td>\n",
       "      <td>30462166</td>\n",
       "      <td>{}</td>\n",
       "      <td>3.228576e+06</td>\n",
       "      <td>0</td>\n",
       "    </tr>\n",
       "    <tr>\n",
       "      <td>999</td>\n",
       "      <td>30461959</td>\n",
       "      <td>{}</td>\n",
       "      <td>2.399273e+06</td>\n",
       "      <td>0</td>\n",
       "    </tr>\n",
       "  </tbody>\n",
       "</table>\n",
       "<p>1000 rows × 4 columns</p>\n",
       "</div>"
      ],
      "text/plain": [
       "        jobid                                               tags  \\\n",
       "0    30461350  {'exp_name': 'LM4p0_C384_OM4p25_pi_1990CO2_She...   \n",
       "1    30462895  {'exp_name': 'c96L33_am5a0_new_rad_diagonly_em...   \n",
       "2    30460368  {'exp_name': 'CM4_noBling_1990Control_c96_OM4p...   \n",
       "3    30459335  {'exp_name': 'c96L33_am4p0_QTsat20_calipso_lea...   \n",
       "4    30459711  {'exp_name': 'LM4p0_C96_pi_1850CO2_Sheffield_s...   \n",
       "..        ...                                                ...   \n",
       "995  30462164                                                 {}   \n",
       "996  30462040                                                 {}   \n",
       "997  30462165                                                 {}   \n",
       "998  30462166                                                 {}   \n",
       "999  30461959                                                 {}   \n",
       "\n",
       "         duration  exitcode  \n",
       "0    3.481977e+10         0  \n",
       "1    2.936197e+10         0  \n",
       "2    2.296954e+10         0  \n",
       "3    1.662544e+10         0  \n",
       "4    1.435104e+10         0  \n",
       "..            ...       ...  \n",
       "995  3.654318e+06         0  \n",
       "996  3.240684e+06         0  \n",
       "997  3.232943e+06         0  \n",
       "998  3.228576e+06         0  \n",
       "999  2.399273e+06         0  \n",
       "\n",
       "[1000 rows x 4 columns]"
      ]
     },
     "execution_count": 11,
     "metadata": {},
     "output_type": "execute_result"
    }
   ],
   "source": [
    "# some other useful queries might be for instance to order the jobs\n",
    "# by duration, and getting the top 5\n",
    "df = eq.get_jobs(jobs, order=eq.desc(eq.Job.duration), fmt=\"pandas\")\n",
    "df[['jobid', 'tags', 'duration', 'exitcode']]"
   ]
  },
  {
   "cell_type": "markdown",
   "metadata": {},
   "source": [
    "<a name=\"failed-jobs\"></a>Let's figure out which if any jobs failed."
   ]
  },
  {
   "cell_type": "code",
   "execution_count": 12,
   "metadata": {},
   "outputs": [
    {
     "data": {
      "text/plain": [
       "[]"
      ]
     },
     "execution_count": 12,
     "metadata": {},
     "output_type": "execute_result"
    }
   ],
   "source": [
    "eq.get_jobs(jobs_orm, fltr=(eq.Job.exitcode != 0), fmt='terse')"
   ]
  },
  {
   "cell_type": "markdown",
   "metadata": {},
   "source": [
    "So, none of the jobs had a non-zero exit code."
   ]
  },
  {
   "cell_type": "markdown",
   "metadata": {},
   "source": [
    "### <a name=\"proc-sums-field\">Aggregation across job processes</a>\n",
    "\n",
    "Each job object has a `proc_sums` field that aggregates data across the \n",
    "processes of the job. The field itself is a dictionary of key/value pairs.\n",
    "This field is an attribute in the Job object, and when converting from `orm` \n",
    "to the other formats, the underlying key/value pairs of the dictionary are made available \n",
    "as top-level fields of the `dict` or `pandas` dataframe. `proc_sums` represents aggregates across\n",
    "the processes of a job:"
   ]
  },
  {
   "cell_type": "code",
   "execution_count": 13,
   "metadata": {},
   "outputs": [
    {
     "data": {
      "text/plain": [
       "['all_proc_tags',\n",
       " 'cancelled_write_bytes',\n",
       " 'cmajflt',\n",
       " 'cminflt',\n",
       " 'cstime',\n",
       " 'cutime',\n",
       " 'delayacct_blkio_time',\n",
       " 'guest_time',\n",
       " 'inblock',\n",
       " 'invol_ctxsw',\n",
       " 'majflt',\n",
       " 'minflt',\n",
       " 'num_procs',\n",
       " 'num_threads',\n",
       " 'outblock',\n",
       " 'processor',\n",
       " 'rchar',\n",
       " 'read_bytes',\n",
       " 'rssmax',\n",
       " 'starttime',\n",
       " 'syscr',\n",
       " 'syscw',\n",
       " 'systemtime',\n",
       " 'time_oncpu',\n",
       " 'time_waiting',\n",
       " 'timeslices',\n",
       " 'usertime',\n",
       " 'vol_ctxsw',\n",
       " 'wchar',\n",
       " 'write_bytes']"
      ]
     },
     "execution_count": 13,
     "metadata": {},
     "output_type": "execute_result"
    }
   ],
   "source": [
    "j = jobs_orm.first()\n",
    "sorted(j.proc_sums.keys())"
   ]
  },
  {
   "cell_type": "markdown",
   "metadata": {},
   "source": [
    "Now, the fields shown above become available in other formats (`dict` and `pandas`) as top-level fields, while the `proc_sums`\n",
    "field itself is masked."
   ]
  },
  {
   "cell_type": "code",
   "execution_count": 14,
   "metadata": {},
   "outputs": [
    {
     "data": {
      "text/plain": [
       "['all_proc_tags',\n",
       " 'analyses',\n",
       " 'annotations',\n",
       " 'cancelled_write_bytes',\n",
       " 'cmajflt',\n",
       " 'cminflt',\n",
       " 'cpu_time',\n",
       " 'created_at',\n",
       " 'cstime',\n",
       " 'cutime',\n",
       " 'delayacct_blkio_time',\n",
       " 'duration',\n",
       " 'end',\n",
       " 'env_changes_dict',\n",
       " 'env_dict',\n",
       " 'exitcode',\n",
       " 'guest_time',\n",
       " 'inblock',\n",
       " 'info_dict',\n",
       " 'invol_ctxsw',\n",
       " 'jobid',\n",
       " 'jobname',\n",
       " 'majflt',\n",
       " 'minflt',\n",
       " 'num_procs',\n",
       " 'num_threads',\n",
       " 'outblock',\n",
       " 'processor',\n",
       " 'rchar',\n",
       " 'read_bytes',\n",
       " 'rssmax',\n",
       " 'start',\n",
       " 'starttime',\n",
       " 'submit',\n",
       " 'syscr',\n",
       " 'syscw',\n",
       " 'systemtime',\n",
       " 'tags',\n",
       " 'time_oncpu',\n",
       " 'time_waiting',\n",
       " 'timeslices',\n",
       " 'updated_at',\n",
       " 'user',\n",
       " 'usertime',\n",
       " 'vol_ctxsw',\n",
       " 'wchar',\n",
       " 'write_bytes']"
      ]
     },
     "execution_count": 14,
     "metadata": {},
     "output_type": "execute_result"
    }
   ],
   "source": [
    "j_df = eq.get_jobs(j, fmt='pandas')\n",
    "sorted(j_df.columns.values)"
   ]
  },
  {
   "cell_type": "markdown",
   "metadata": {},
   "source": [
    "## <a name=\"ops\">Operations</a>\n",
    "\n",
    "As a job may span over 50K processes, it's often helpful to select processes belonging to a particular operation. The selection is done using tags, sets of key/value pairs.\n",
    "In the general case, the collection of processes in an operation forms a **forest**. In the degenerate case of a single root process, the forest will contain a single tree."
   ]
  },
  {
   "cell_type": "markdown",
   "metadata": {},
   "source": [
    "### <a name=\"select-op-procs\">Selecting processes in an operation</a>\n",
    "\n",
    "We can select the processes in an operation by passing a tag to `get_procs`.\n",
    "You may limit the selection to a single job or multiple jobs using the\n",
    "`jobs` parameter to `get_procs`."
   ]
  },
  {
   "cell_type": "code",
   "execution_count": 15,
   "metadata": {},
   "outputs": [
    {
     "data": {
      "text/plain": [
       "3010084"
      ]
     },
     "execution_count": 15,
     "metadata": {},
     "output_type": "execute_result"
    }
   ],
   "source": [
    "# below we use the ORM format as we just want a count on the number of processes in the operation\n",
    "hsmget_op_procs = eq.get_procs(jobs, tags='op:hsmget', fmt='orm')\n",
    "hsmget_op_procs.count()"
   ]
  },
  {
   "cell_type": "markdown",
   "metadata": {},
   "source": [
    "### <a name=\"operation-primitive\">The Operation primitive</a>\n",
    "\n",
    "Using `get_procs` with a tag to select processes in a operation is somewhat\n",
    "clumsy. The EPMT Query API defines an **Operation** primitive. The `Operation`\n",
    "API call is passed one or more jobs, and a `tag`. Internally, it calls `get_procs`.\n",
    "By using the `Operation` primitive, you get aggregated metrics across the\n",
    "processes constituting the operation in a `proc_sums` attribute. You can specify a granular\n",
    "operation such as `{'op': 'timavg', 'op_instance': 100, 'op_sequence': 5 }`, or a more\n",
    "coarse operation, such as `{'op': 'timavg'}`. The important thing to understand is that\n",
    "all the processes that constitute the operation will share *ALL* the keys/values of the tag."
   ]
  },
  {
   "cell_type": "code",
   "execution_count": 16,
   "metadata": {},
   "outputs": [
    {
     "data": {
      "text/plain": [
       "({'op': 'hsmget'},\n",
       " 338561,\n",
       " {'rssmax': 1981459228,\n",
       "  'write_bytes': 570574307328,\n",
       "  'starttime': 704029036421120000,\n",
       "  'majflt': 7085,\n",
       "  'delayacct_blkio_time': 0,\n",
       "  'minflt': 368312409,\n",
       "  'cminflt': 1092327655,\n",
       "  'vol_ctxsw': 11373385,\n",
       "  'timeslices': 12639897,\n",
       "  'time_waiting': 760840885371,\n",
       "  'usertime': 5024904869,\n",
       "  'syscw': 4970189,\n",
       "  'num_procs': 338561,\n",
       "  'cutime': 22393230000,\n",
       "  'inblock': 600305,\n",
       "  'wchar': 570573197072,\n",
       "  'time_oncpu': 6742622251412,\n",
       "  'cancelled_write_bytes': 6078464,\n",
       "  'processor': 0,\n",
       "  'cmajflt': 11927,\n",
       "  'cpu_time': 6737386439.0,\n",
       "  'syscr': 13439102,\n",
       "  'read_bytes': 307417600,\n",
       "  'num_threads': 0,\n",
       "  'invol_ctxsw': 872610,\n",
       "  'numtids': 392879,\n",
       "  'systemtime': 1712481570,\n",
       "  'cstime': 6413810000,\n",
       "  'duration': 79087149976.0,\n",
       "  'outblock': 1114402944,\n",
       "  'guest_time': 0,\n",
       "  'rchar': 81644231642})"
      ]
     },
     "execution_count": 16,
     "metadata": {},
     "output_type": "execute_result"
    }
   ],
   "source": [
    "# you could also select a more granular operation with a more\n",
    "# specific, tag, such as {'op': 'hsmget', 'op_instance': 10, 'op_sequence': 25}\n",
    "# to keep this quick, we'll limit it to 100 jobs worth of hsmget calls from the job's we grabbed earlier\n",
    "jobs = eq.get_jobs(jobs=jobs, limit=100,fmt='terse')\n",
    "op = eq.Operation(jobs, {'op': 'hsmget'})\n",
    "(op.tags, op.processes.count(), op.proc_sums)"
   ]
  },
  {
   "cell_type": "markdown",
   "metadata": {},
   "source": [
    "### <a name='get-ops'>`get_ops` API call</a>\n",
    "We also have an API call `get_ops` (much like `get_jobs` and `get_procs`) that supports querying for a collection of operations, and multiple output formats, selected using the option -- `fmt`."
   ]
  },
  {
   "cell_type": "code",
   "execution_count": 17,
   "metadata": {},
   "outputs": [
    {
     "data": {
      "text/html": [
       "<div>\n",
       "<style scoped>\n",
       "    .dataframe tbody tr th:only-of-type {\n",
       "        vertical-align: middle;\n",
       "    }\n",
       "\n",
       "    .dataframe tbody tr th {\n",
       "        vertical-align: top;\n",
       "    }\n",
       "\n",
       "    .dataframe thead th {\n",
       "        text-align: right;\n",
       "    }\n",
       "</style>\n",
       "<table border=\"1\" class=\"dataframe\">\n",
       "  <thead>\n",
       "    <tr style=\"text-align: right;\">\n",
       "      <th></th>\n",
       "      <th>tags</th>\n",
       "      <th>proc_sums</th>\n",
       "      <th>start</th>\n",
       "      <th>finish</th>\n",
       "      <th>duration</th>\n",
       "    </tr>\n",
       "  </thead>\n",
       "  <tbody>\n",
       "    <tr>\n",
       "      <td>0</td>\n",
       "      <td>{'op': 'hsmget'}</td>\n",
       "      <td>{'rssmax': 1981459228, 'write_bytes': 570574307328, 'starttime': 704029036421120000, 'majflt': 7085, 'delayacct_blkio_time': 0, 'minflt': 36831240...</td>\n",
       "      <td>2023-05-04 18:04:09.447189</td>\n",
       "      <td>2023-05-04 19:36:16.113445</td>\n",
       "      <td>7.908715e+10</td>\n",
       "    </tr>\n",
       "    <tr>\n",
       "      <td>1</td>\n",
       "      <td>{'op': 'dmput'}</td>\n",
       "      <td>{'rssmax': 11875508, 'write_bytes': 8380416, 'starttime': 3580894371840000, 'majflt': 282, 'delayacct_blkio_time': 0, 'minflt': 2710251, 'cminflt'...</td>\n",
       "      <td>2023-05-04 18:24:53.372775</td>\n",
       "      <td>2023-05-04 23:00:13.658708</td>\n",
       "      <td>2.029277e+09</td>\n",
       "    </tr>\n",
       "    <tr>\n",
       "      <td>2</td>\n",
       "      <td>{'op': 'cp'}</td>\n",
       "      <td>{'rssmax': 856933868, 'write_bytes': 47677440, 'starttime': 31201979269120000, 'majflt': 1217, 'delayacct_blkio_time': 0, 'minflt': 77669011, 'cmi...</td>\n",
       "      <td>2023-05-04 18:25:24.831008</td>\n",
       "      <td>2023-05-04 22:18:51.204836</td>\n",
       "      <td>1.183710e+10</td>\n",
       "    </tr>\n",
       "    <tr>\n",
       "      <td>3</td>\n",
       "      <td>{'op': 'rm'}</td>\n",
       "      <td>{'rssmax': 41718968, 'write_bytes': 60526592, 'starttime': 18341500846080000, 'majflt': 31, 'delayacct_blkio_time': 0, 'minflt': 15404733, 'cminfl...</td>\n",
       "      <td>2023-05-04 18:24:02.796579</td>\n",
       "      <td>2023-05-04 23:00:13.069348</td>\n",
       "      <td>3.937963e+08</td>\n",
       "    </tr>\n",
       "    <tr>\n",
       "      <td>4</td>\n",
       "      <td>{'op': 'mv'}</td>\n",
       "      <td>{'rssmax': 3509233024, 'write_bytes': 227479552, 'starttime': 137561903226880000, 'majflt': 6106, 'delayacct_blkio_time': 0, 'minflt': 325742351, ...</td>\n",
       "      <td>2023-05-04 18:24:06.843994</td>\n",
       "      <td>2023-05-04 23:00:13.049869</td>\n",
       "      <td>4.796458e+10</td>\n",
       "    </tr>\n",
       "    <tr>\n",
       "      <td>5</td>\n",
       "      <td>{'op': 'untar'}</td>\n",
       "      <td>{'rssmax': 581572, 'write_bytes': 37847965696, 'starttime': 220967280640000, 'majflt': 33, 'delayacct_blkio_time': 0, 'minflt': 196177, 'cminflt':...</td>\n",
       "      <td>2023-05-04 18:25:23.216403</td>\n",
       "      <td>2023-05-04 22:18:46.916176</td>\n",
       "      <td>1.717135e+08</td>\n",
       "    </tr>\n",
       "  </tbody>\n",
       "</table>\n",
       "</div>"
      ],
      "text/plain": [
       "               tags  \\\n",
       "0  {'op': 'hsmget'}   \n",
       "1   {'op': 'dmput'}   \n",
       "2      {'op': 'cp'}   \n",
       "3      {'op': 'rm'}   \n",
       "4      {'op': 'mv'}   \n",
       "5   {'op': 'untar'}   \n",
       "\n",
       "                                                                                                                                               proc_sums  \\\n",
       "0  {'rssmax': 1981459228, 'write_bytes': 570574307328, 'starttime': 704029036421120000, 'majflt': 7085, 'delayacct_blkio_time': 0, 'minflt': 36831240...   \n",
       "1  {'rssmax': 11875508, 'write_bytes': 8380416, 'starttime': 3580894371840000, 'majflt': 282, 'delayacct_blkio_time': 0, 'minflt': 2710251, 'cminflt'...   \n",
       "2  {'rssmax': 856933868, 'write_bytes': 47677440, 'starttime': 31201979269120000, 'majflt': 1217, 'delayacct_blkio_time': 0, 'minflt': 77669011, 'cmi...   \n",
       "3  {'rssmax': 41718968, 'write_bytes': 60526592, 'starttime': 18341500846080000, 'majflt': 31, 'delayacct_blkio_time': 0, 'minflt': 15404733, 'cminfl...   \n",
       "4  {'rssmax': 3509233024, 'write_bytes': 227479552, 'starttime': 137561903226880000, 'majflt': 6106, 'delayacct_blkio_time': 0, 'minflt': 325742351, ...   \n",
       "5  {'rssmax': 581572, 'write_bytes': 37847965696, 'starttime': 220967280640000, 'majflt': 33, 'delayacct_blkio_time': 0, 'minflt': 196177, 'cminflt':...   \n",
       "\n",
       "                       start                     finish      duration  \n",
       "0 2023-05-04 18:04:09.447189 2023-05-04 19:36:16.113445  7.908715e+10  \n",
       "1 2023-05-04 18:24:53.372775 2023-05-04 23:00:13.658708  2.029277e+09  \n",
       "2 2023-05-04 18:25:24.831008 2023-05-04 22:18:51.204836  1.183710e+10  \n",
       "3 2023-05-04 18:24:02.796579 2023-05-04 23:00:13.069348  3.937963e+08  \n",
       "4 2023-05-04 18:24:06.843994 2023-05-04 23:00:13.049869  4.796458e+10  \n",
       "5 2023-05-04 18:25:23.216403 2023-05-04 22:18:46.916176  1.717135e+08  "
      ]
     },
     "execution_count": 17,
     "metadata": {},
     "output_type": "execute_result"
    }
   ],
   "source": [
    "dm_ops = eq.get_ops(jobs, tags = ['op:hsmget', 'op:dmput', 'op:cp', 'op:rm', 'op:mv', 'op:untar'], fmt='pandas')\n",
    "pd.set_option('display.max_colwidth', 150)\n",
    "dm_ops[['tags','proc_sums', 'start', 'finish', 'duration']]"
   ]
  },
  {
   "cell_type": "markdown",
   "metadata": {},
   "source": [
    "The dataframe contains one row per `tag` (or operation). `proc_sums` contains aggregate metrics across the underlying processes constituting the operation.\n",
    "\n",
    "If you think of an operation as a collection of processes sharing a tag, you will realize that an operation\n",
    "need not have a single `start` and `finish`. Instead, an operation may have many `start` and `finish`, each constituting an `interval`. By default, `get_ops`, to reduce computational complexity, does not determine\n",
    "all the intervals of an operation. However, if you pass an option, `full = True`, `get_ops` will return\n",
    "additional fields such as `intervals`, that will be a list of tuples, with each tuple representing a single\n",
    "interval in the form (`start_time`, `finish_time`). The set of intervals of operation determines all the\n",
    "periods of execution of the operation. In any operation, a boolean field -- `contiguous` -- indicates whether the\n",
    "job executed over multiple intervals or a single interval."
   ]
  },
  {
   "cell_type": "code",
   "execution_count": 18,
   "metadata": {},
   "outputs": [
    {
     "data": {
      "text/html": [
       "<div>\n",
       "<style scoped>\n",
       "    .dataframe tbody tr th:only-of-type {\n",
       "        vertical-align: middle;\n",
       "    }\n",
       "\n",
       "    .dataframe tbody tr th {\n",
       "        vertical-align: top;\n",
       "    }\n",
       "\n",
       "    .dataframe thead th {\n",
       "        text-align: right;\n",
       "    }\n",
       "</style>\n",
       "<table border=\"1\" class=\"dataframe\">\n",
       "  <thead>\n",
       "    <tr style=\"text-align: right;\">\n",
       "      <th></th>\n",
       "      <th>jobs</th>\n",
       "      <th>tags</th>\n",
       "      <th>intervals</th>\n",
       "      <th>start</th>\n",
       "      <th>finish</th>\n",
       "      <th>contiguous</th>\n",
       "      <th>duration</th>\n",
       "      <th>proc_sums</th>\n",
       "      <th>num_runs</th>\n",
       "      <th>processes</th>\n",
       "    </tr>\n",
       "  </thead>\n",
       "  <tbody>\n",
       "    <tr>\n",
       "      <td>0</td>\n",
       "      <td>[30459261, 30459289, 30459292, 30459326, 30459335, 30459336, 30459337, 30459338, 30459339, 30459340, 30459341, 30459342, 30459343, 30459344, 30459...</td>\n",
       "      <td>{'op': 'hsmget'}</td>\n",
       "      <td>((2023-05-04 18:04:09.447189, 2023-05-04 18:04:53.561729), (2023-05-04 18:08:15.297657, 2023-05-04 18:20:16.259824), (2023-05-04 18:20:31.605689, ...</td>\n",
       "      <td>2023-05-04 18:04:09.447189</td>\n",
       "      <td>2023-05-04 19:36:16.113445</td>\n",
       "      <td>False</td>\n",
       "      <td>7.908715e+10</td>\n",
       "      <td>{'rssmax': 1981459228, 'write_bytes': 570574307328, 'starttime': 704029036421120000, 'majflt': 7085, 'delayacct_blkio_time': 0, 'minflt': 36831240...</td>\n",
       "      <td>17</td>\n",
       "      <td>[{'info_dict': None, 'tags': {'op': 'hsmget', 'op_instance': '1'}, 'path': '/home/fms/local/perlbrew/perls/perl-5.36.0/bin/perl', 'exitcode': 0, '...</td>\n",
       "    </tr>\n",
       "  </tbody>\n",
       "</table>\n",
       "</div>"
      ],
      "text/plain": [
       "                                                                                                                                                    jobs  \\\n",
       "0  [30459261, 30459289, 30459292, 30459326, 30459335, 30459336, 30459337, 30459338, 30459339, 30459340, 30459341, 30459342, 30459343, 30459344, 30459...   \n",
       "\n",
       "               tags  \\\n",
       "0  {'op': 'hsmget'}   \n",
       "\n",
       "                                                                                                                                               intervals  \\\n",
       "0  ((2023-05-04 18:04:09.447189, 2023-05-04 18:04:53.561729), (2023-05-04 18:08:15.297657, 2023-05-04 18:20:16.259824), (2023-05-04 18:20:31.605689, ...   \n",
       "\n",
       "                       start                     finish  contiguous  \\\n",
       "0 2023-05-04 18:04:09.447189 2023-05-04 19:36:16.113445       False   \n",
       "\n",
       "       duration  \\\n",
       "0  7.908715e+10   \n",
       "\n",
       "                                                                                                                                               proc_sums  \\\n",
       "0  {'rssmax': 1981459228, 'write_bytes': 570574307328, 'starttime': 704029036421120000, 'majflt': 7085, 'delayacct_blkio_time': 0, 'minflt': 36831240...   \n",
       "\n",
       "   num_runs  \\\n",
       "0        17   \n",
       "\n",
       "                                                                                                                                               processes  \n",
       "0  [{'info_dict': None, 'tags': {'op': 'hsmget', 'op_instance': '1'}, 'path': '/home/fms/local/perlbrew/perls/perl-5.36.0/bin/perl', 'exitcode': 0, '...  "
      ]
     },
     "execution_count": 18,
     "metadata": {},
     "output_type": "execute_result"
    }
   ],
   "source": [
    "ops = eq.get_ops(jobs, tags = ['op:hsmget'], full=True, fmt='pandas')\n",
    "ops[['jobs', 'tags', 'intervals', 'start', 'finish', 'contiguous', 'duration', 'proc_sums', 'num_runs', 'processes']]"
   ]
  },
  {
   "cell_type": "markdown",
   "metadata": {},
   "source": [
    "As you can see the `hsmget` operation contains `1337` distinct intervals of execution, with no overlapping. This means between `hsmget` operation invocations, other processes (with different tags) executed."
   ]
  },
  {
   "cell_type": "markdown",
   "metadata": {},
   "source": [
    "### <a name=\"op-metrics\">Aggregating operation metrics</a>\n",
    "\n",
    "The `Operation` primitive provides an easy way to obtain aggregates on metrics across\n",
    "processes in an operation. Before `Operation`, the way to obtain metrics was to\n",
    "use the `get_op_metrics` API call:"
   ]
  },
  {
   "cell_type": "code",
   "execution_count": 19,
   "metadata": {},
   "outputs": [
    {
     "name": "stdout",
     "output_type": "stream",
     "text": [
      "rssmax                   94\n",
      "write_bytes              94\n",
      "starttime                94\n",
      "majflt                   94\n",
      "delayacct_blkio_time     94\n",
      "minflt                   94\n",
      "cminflt                  94\n",
      "vol_ctxsw                94\n",
      "timeslices               94\n",
      "time_waiting             94\n",
      "usertime                 94\n",
      "syscw                    94\n",
      "cutime                   94\n",
      "inblock                  94\n",
      "wchar                    94\n",
      "time_oncpu               94\n",
      "cancelled_write_bytes    94\n",
      "processor                94\n",
      "cmajflt                  94\n",
      "syscr                    94\n",
      "read_bytes               94\n",
      "num_threads              94\n",
      "invol_ctxsw              94\n",
      "systemtime               94\n",
      "cstime                   94\n",
      "outblock                 94\n",
      "guest_time               94\n",
      "rchar                    94\n",
      "job                      94\n",
      "jobid                    94\n",
      "tags                     94\n",
      "num_procs                94\n",
      "numtids                  94\n",
      "cpu_time                 94\n",
      "duration                 94\n",
      "dtype: int64\n"
     ]
    },
    {
     "data": {
      "text/html": [
       "<div>\n",
       "<style scoped>\n",
       "    .dataframe tbody tr th:only-of-type {\n",
       "        vertical-align: middle;\n",
       "    }\n",
       "\n",
       "    .dataframe tbody tr th {\n",
       "        vertical-align: top;\n",
       "    }\n",
       "\n",
       "    .dataframe thead th {\n",
       "        text-align: right;\n",
       "    }\n",
       "</style>\n",
       "<table border=\"1\" class=\"dataframe\">\n",
       "  <thead>\n",
       "    <tr style=\"text-align: right;\">\n",
       "      <th></th>\n",
       "      <th>jobid</th>\n",
       "      <th>tags</th>\n",
       "      <th>duration</th>\n",
       "      <th>cpu_time</th>\n",
       "    </tr>\n",
       "  </thead>\n",
       "  <tbody>\n",
       "    <tr>\n",
       "      <td>82</td>\n",
       "      <td>30329216</td>\n",
       "      <td>{'op': 'timavg', 'op_instance': '1'}</td>\n",
       "      <td>1.284515e+10</td>\n",
       "      <td>3.629804e+09</td>\n",
       "    </tr>\n",
       "    <tr>\n",
       "      <td>5</td>\n",
       "      <td>30329216</td>\n",
       "      <td>{'op': 'hsmget', 'op_instance': '1'}</td>\n",
       "      <td>1.919200e+10</td>\n",
       "      <td>2.382821e+09</td>\n",
       "    </tr>\n",
       "    <tr>\n",
       "      <td>17</td>\n",
       "      <td>30329216</td>\n",
       "      <td>{'op': 'mv', 'op_instance': '21'}</td>\n",
       "      <td>1.268509e+10</td>\n",
       "      <td>1.958200e+09</td>\n",
       "    </tr>\n",
       "    <tr>\n",
       "      <td>52</td>\n",
       "      <td>30329216</td>\n",
       "      <td>{'op': 'ncrcat', 'op_instance': '15'}</td>\n",
       "      <td>2.454646e+09</td>\n",
       "      <td>1.670048e+09</td>\n",
       "    </tr>\n",
       "    <tr>\n",
       "      <td>81</td>\n",
       "      <td>30329216</td>\n",
       "      <td>{'op': 'splitvars', 'op_instance': '2'}</td>\n",
       "      <td>4.327979e+09</td>\n",
       "      <td>1.507980e+09</td>\n",
       "    </tr>\n",
       "    <tr>\n",
       "      <td>54</td>\n",
       "      <td>30329216</td>\n",
       "      <td>{'op': 'ncrcat', 'op_instance': '2'}</td>\n",
       "      <td>1.893357e+09</td>\n",
       "      <td>1.410476e+09</td>\n",
       "    </tr>\n",
       "    <tr>\n",
       "      <td>0</td>\n",
       "      <td>30329216</td>\n",
       "      <td>{'op': 'cp', 'op_instance': '3'}</td>\n",
       "      <td>6.228548e+09</td>\n",
       "      <td>7.350061e+08</td>\n",
       "    </tr>\n",
       "    <tr>\n",
       "      <td>93</td>\n",
       "      <td>30329216</td>\n",
       "      <td>{'op': 'timavg', 'op_instance': '9'}</td>\n",
       "      <td>1.728144e+09</td>\n",
       "      <td>6.432792e+08</td>\n",
       "    </tr>\n",
       "    <tr>\n",
       "      <td>90</td>\n",
       "      <td>30329216</td>\n",
       "      <td>{'op': 'timavg', 'op_instance': '3'}</td>\n",
       "      <td>1.463522e+09</td>\n",
       "      <td>6.328117e+08</td>\n",
       "    </tr>\n",
       "    <tr>\n",
       "      <td>92</td>\n",
       "      <td>30329216</td>\n",
       "      <td>{'op': 'timavg', 'op_instance': '7'}</td>\n",
       "      <td>1.425365e+09</td>\n",
       "      <td>6.261418e+08</td>\n",
       "    </tr>\n",
       "  </tbody>\n",
       "</table>\n",
       "</div>"
      ],
      "text/plain": [
       "       jobid                                     tags      duration  \\\n",
       "82  30329216     {'op': 'timavg', 'op_instance': '1'}  1.284515e+10   \n",
       "5   30329216     {'op': 'hsmget', 'op_instance': '1'}  1.919200e+10   \n",
       "17  30329216        {'op': 'mv', 'op_instance': '21'}  1.268509e+10   \n",
       "52  30329216    {'op': 'ncrcat', 'op_instance': '15'}  2.454646e+09   \n",
       "81  30329216  {'op': 'splitvars', 'op_instance': '2'}  4.327979e+09   \n",
       "54  30329216     {'op': 'ncrcat', 'op_instance': '2'}  1.893357e+09   \n",
       "0   30329216         {'op': 'cp', 'op_instance': '3'}  6.228548e+09   \n",
       "93  30329216     {'op': 'timavg', 'op_instance': '9'}  1.728144e+09   \n",
       "90  30329216     {'op': 'timavg', 'op_instance': '3'}  1.463522e+09   \n",
       "92  30329216     {'op': 'timavg', 'op_instance': '7'}  1.425365e+09   \n",
       "\n",
       "        cpu_time  \n",
       "82  3.629804e+09  \n",
       "5   2.382821e+09  \n",
       "17  1.958200e+09  \n",
       "52  1.670048e+09  \n",
       "81  1.507980e+09  \n",
       "54  1.410476e+09  \n",
       "0   7.350061e+08  \n",
       "93  6.432792e+08  \n",
       "90  6.328117e+08  \n",
       "92  6.261418e+08  "
      ]
     },
     "execution_count": 19,
     "metadata": {},
     "output_type": "execute_result"
    }
   ],
   "source": [
    "# widen width of column display width to show full tag\n",
    "pd.set_option('display.max_colwidth', 200)\n",
    "\n",
    "# get the operations with the top cpu_time summed across all processes. \n",
    "# Note, cpu_time is better measure of time spent in an operation than \n",
    "# 'duration', which might end up double-counting as in a \n",
    "# parent-child process scenario, where the parent waits on the time child.\n",
    "jobid_choice_1='30329216'\n",
    "jobid_choice_2='30330030'\n",
    "jobid_choice_3='30330333'\n",
    "ops_df = eq.get_op_metrics([jobid_choice_1, jobid_choice_2], fmt='pandas').sort_values(by='cpu_time', ascending=False)\n",
    "print(ops_df.count())\n",
    "ops_df[['jobid', 'tags', 'duration', 'cpu_time']][:10]\n"
   ]
  },
  {
   "cell_type": "markdown",
   "metadata": {},
   "source": [
    "#### <a name=\"dm-ops\">Data movement operations</a>\n",
    "The above call was slow to execute and resulted in a lot of operations. The `get_op_metrics` call can take a \n",
    "list of tags if one knows the operations one cares about. The pruning using the `tags` argument speeds up\n",
    "the operation significantly. Let's figure out the time spent\n",
    "in data movement operations</a> v. useful work.\n",
    "In the call to `get_op_metrics` below, we pass in the *list of tags* that\n",
    "represent the data-movement operations. As it's a list of tags, it's like\n",
    "an OR-operation with the tags."
   ]
  },
  {
   "cell_type": "code",
   "execution_count": 20,
   "metadata": {},
   "outputs": [
    {
     "data": {
      "text/html": [
       "<div>\n",
       "<style scoped>\n",
       "    .dataframe tbody tr th:only-of-type {\n",
       "        vertical-align: middle;\n",
       "    }\n",
       "\n",
       "    .dataframe tbody tr th {\n",
       "        vertical-align: top;\n",
       "    }\n",
       "\n",
       "    .dataframe thead th {\n",
       "        text-align: right;\n",
       "    }\n",
       "</style>\n",
       "<table border=\"1\" class=\"dataframe\">\n",
       "  <thead>\n",
       "    <tr style=\"text-align: right;\">\n",
       "      <th></th>\n",
       "      <th>jobid</th>\n",
       "      <th>tags</th>\n",
       "      <th>cpu_time</th>\n",
       "      <th>duration</th>\n",
       "      <th>num_procs</th>\n",
       "    </tr>\n",
       "  </thead>\n",
       "  <tbody>\n",
       "    <tr>\n",
       "      <td>0</td>\n",
       "      <td>30459261</td>\n",
       "      <td>{'op': 'hsmget'}</td>\n",
       "      <td>25252328.0</td>\n",
       "      <td>1.518371e+08</td>\n",
       "      <td>2584</td>\n",
       "    </tr>\n",
       "    <tr>\n",
       "      <td>1</td>\n",
       "      <td>30459289</td>\n",
       "      <td>{'op': 'hsmget'}</td>\n",
       "      <td>245633566.0</td>\n",
       "      <td>4.167971e+09</td>\n",
       "      <td>6474</td>\n",
       "    </tr>\n",
       "    <tr>\n",
       "      <td>2</td>\n",
       "      <td>30459292</td>\n",
       "      <td>{'op': 'hsmget'}</td>\n",
       "      <td>25479575.0</td>\n",
       "      <td>1.548095e+08</td>\n",
       "      <td>2584</td>\n",
       "    </tr>\n",
       "    <tr>\n",
       "      <td>3</td>\n",
       "      <td>30459326</td>\n",
       "      <td>{'op': 'hsmget'}</td>\n",
       "      <td>29203049.0</td>\n",
       "      <td>2.193382e+08</td>\n",
       "      <td>2909</td>\n",
       "    </tr>\n",
       "    <tr>\n",
       "      <td>4</td>\n",
       "      <td>30459335</td>\n",
       "      <td>{'op': 'hsmget'}</td>\n",
       "      <td>41197640.0</td>\n",
       "      <td>3.613801e+08</td>\n",
       "      <td>3680</td>\n",
       "    </tr>\n",
       "    <tr>\n",
       "      <td>5</td>\n",
       "      <td>30459336</td>\n",
       "      <td>{'op': 'hsmget'}</td>\n",
       "      <td>122173336.0</td>\n",
       "      <td>1.137542e+09</td>\n",
       "      <td>9250</td>\n",
       "    </tr>\n",
       "    <tr>\n",
       "      <td>6</td>\n",
       "      <td>30459337</td>\n",
       "      <td>{'op': 'hsmget'}</td>\n",
       "      <td>10365006.0</td>\n",
       "      <td>7.806651e+07</td>\n",
       "      <td>920</td>\n",
       "    </tr>\n",
       "    <tr>\n",
       "      <td>7</td>\n",
       "      <td>30459338</td>\n",
       "      <td>{'op': 'hsmget'}</td>\n",
       "      <td>10507524.0</td>\n",
       "      <td>8.732325e+07</td>\n",
       "      <td>920</td>\n",
       "    </tr>\n",
       "    <tr>\n",
       "      <td>8</td>\n",
       "      <td>30459339</td>\n",
       "      <td>{'op': 'hsmget'}</td>\n",
       "      <td>10336843.0</td>\n",
       "      <td>1.025831e+08</td>\n",
       "      <td>920</td>\n",
       "    </tr>\n",
       "    <tr>\n",
       "      <td>9</td>\n",
       "      <td>30459340</td>\n",
       "      <td>{'op': 'hsmget'}</td>\n",
       "      <td>4131200.0</td>\n",
       "      <td>2.732670e+07</td>\n",
       "      <td>295</td>\n",
       "    </tr>\n",
       "    <tr>\n",
       "      <td>10</td>\n",
       "      <td>30459341</td>\n",
       "      <td>{'op': 'hsmget'}</td>\n",
       "      <td>62113573.0</td>\n",
       "      <td>6.065305e+08</td>\n",
       "      <td>4790</td>\n",
       "    </tr>\n",
       "    <tr>\n",
       "      <td>11</td>\n",
       "      <td>30459342</td>\n",
       "      <td>{'op': 'hsmget'}</td>\n",
       "      <td>159652207.0</td>\n",
       "      <td>1.569276e+09</td>\n",
       "      <td>12210</td>\n",
       "    </tr>\n",
       "    <tr>\n",
       "      <td>12</td>\n",
       "      <td>30459343</td>\n",
       "      <td>{'op': 'hsmget'}</td>\n",
       "      <td>70198919.0</td>\n",
       "      <td>8.805011e+08</td>\n",
       "      <td>9250</td>\n",
       "    </tr>\n",
       "    <tr>\n",
       "      <td>13</td>\n",
       "      <td>30459344</td>\n",
       "      <td>{'op': 'hsmget'}</td>\n",
       "      <td>33433138.0</td>\n",
       "      <td>4.549353e+08</td>\n",
       "      <td>4790</td>\n",
       "    </tr>\n",
       "    <tr>\n",
       "      <td>14</td>\n",
       "      <td>30459345</td>\n",
       "      <td>{'op': 'hsmget'}</td>\n",
       "      <td>59445689.0</td>\n",
       "      <td>8.544419e+08</td>\n",
       "      <td>9250</td>\n",
       "    </tr>\n",
       "  </tbody>\n",
       "</table>\n",
       "</div>"
      ],
      "text/plain": [
       "       jobid              tags     cpu_time      duration  num_procs\n",
       "0   30459261  {'op': 'hsmget'}   25252328.0  1.518371e+08       2584\n",
       "1   30459289  {'op': 'hsmget'}  245633566.0  4.167971e+09       6474\n",
       "2   30459292  {'op': 'hsmget'}   25479575.0  1.548095e+08       2584\n",
       "3   30459326  {'op': 'hsmget'}   29203049.0  2.193382e+08       2909\n",
       "4   30459335  {'op': 'hsmget'}   41197640.0  3.613801e+08       3680\n",
       "5   30459336  {'op': 'hsmget'}  122173336.0  1.137542e+09       9250\n",
       "6   30459337  {'op': 'hsmget'}   10365006.0  7.806651e+07        920\n",
       "7   30459338  {'op': 'hsmget'}   10507524.0  8.732325e+07        920\n",
       "8   30459339  {'op': 'hsmget'}   10336843.0  1.025831e+08        920\n",
       "9   30459340  {'op': 'hsmget'}    4131200.0  2.732670e+07        295\n",
       "10  30459341  {'op': 'hsmget'}   62113573.0  6.065305e+08       4790\n",
       "11  30459342  {'op': 'hsmget'}  159652207.0  1.569276e+09      12210\n",
       "12  30459343  {'op': 'hsmget'}   70198919.0  8.805011e+08       9250\n",
       "13  30459344  {'op': 'hsmget'}   33433138.0  4.549353e+08       4790\n",
       "14  30459345  {'op': 'hsmget'}   59445689.0  8.544419e+08       9250"
      ]
     },
     "execution_count": 20,
     "metadata": {},
     "output_type": "execute_result"
    }
   ],
   "source": [
    "dm_tags = ['op:hsmget', 'op:cp', 'op:dmget', 'op:gcp', 'op:mv', 'op:untar', 'op:tar', 'op:rm']\n",
    "dm_ops_df = eq.get_op_metrics(jobs, tags = dm_tags)\n",
    "# only showing the first 15 rows\n",
    "dm_ops_df[['jobid', 'tags', 'cpu_time', 'duration', 'num_procs']][:15]"
   ]
  },
  {
   "cell_type": "markdown",
   "metadata": {},
   "source": [
    "While the query above helps, we would like it to aggregate across jobs by tag. This\n",
    "is easily accomplished by passing the <a name=\"group-by-tag\">`group_by_tag`</a> \n",
    "argument to `get_op_metrics`:"
   ]
  },
  {
   "cell_type": "code",
   "execution_count": 21,
   "metadata": {},
   "outputs": [
    {
     "data": {
      "text/html": [
       "<div>\n",
       "<style scoped>\n",
       "    .dataframe tbody tr th:only-of-type {\n",
       "        vertical-align: middle;\n",
       "    }\n",
       "\n",
       "    .dataframe tbody tr th {\n",
       "        vertical-align: top;\n",
       "    }\n",
       "\n",
       "    .dataframe thead th {\n",
       "        text-align: right;\n",
       "    }\n",
       "</style>\n",
       "<table border=\"1\" class=\"dataframe\">\n",
       "  <thead>\n",
       "    <tr style=\"text-align: right;\">\n",
       "      <th></th>\n",
       "      <th>tags</th>\n",
       "      <th>cpu_time</th>\n",
       "      <th>duration</th>\n",
       "      <th>num_procs</th>\n",
       "    </tr>\n",
       "  </thead>\n",
       "  <tbody>\n",
       "    <tr>\n",
       "      <td>0</td>\n",
       "      <td>{'op': 'cp'}</td>\n",
       "      <td>1.862087e+09</td>\n",
       "      <td>1.183710e+10</td>\n",
       "      <td>36032</td>\n",
       "    </tr>\n",
       "    <tr>\n",
       "      <td>1</td>\n",
       "      <td>{'op': 'hsmget'}</td>\n",
       "      <td>6.737386e+09</td>\n",
       "      <td>7.908715e+10</td>\n",
       "      <td>338561</td>\n",
       "    </tr>\n",
       "    <tr>\n",
       "      <td>2</td>\n",
       "      <td>{'op': 'mv'}</td>\n",
       "      <td>6.899574e+09</td>\n",
       "      <td>4.796458e+10</td>\n",
       "      <td>154407</td>\n",
       "    </tr>\n",
       "    <tr>\n",
       "      <td>3</td>\n",
       "      <td>{'op': 'rm'}</td>\n",
       "      <td>2.781723e+08</td>\n",
       "      <td>3.937963e+08</td>\n",
       "      <td>14442</td>\n",
       "    </tr>\n",
       "    <tr>\n",
       "      <td>4</td>\n",
       "      <td>{'op': 'untar'}</td>\n",
       "      <td>5.478483e+07</td>\n",
       "      <td>1.717135e+08</td>\n",
       "      <td>160</td>\n",
       "    </tr>\n",
       "  </tbody>\n",
       "</table>\n",
       "</div>"
      ],
      "text/plain": [
       "               tags      cpu_time      duration  num_procs\n",
       "0      {'op': 'cp'}  1.862087e+09  1.183710e+10      36032\n",
       "1  {'op': 'hsmget'}  6.737386e+09  7.908715e+10     338561\n",
       "2      {'op': 'mv'}  6.899574e+09  4.796458e+10     154407\n",
       "3      {'op': 'rm'}  2.781723e+08  3.937963e+08      14442\n",
       "4   {'op': 'untar'}  5.478483e+07  1.717135e+08        160"
      ]
     },
     "execution_count": 21,
     "metadata": {},
     "output_type": "execute_result"
    }
   ],
   "source": [
    "dm_ops_df_grouped = eq.get_op_metrics(jobs, tags = dm_tags, group_by_tag = True)\n",
    "dm_ops_df_grouped[['tags', 'cpu_time', 'duration', 'num_procs']]"
   ]
  },
  {
   "cell_type": "markdown",
   "metadata": {},
   "source": [
    "So, the total cpu time spent in all data-movement operations can be calculated easily."
   ]
  },
  {
   "cell_type": "code",
   "execution_count": 22,
   "metadata": {},
   "outputs": [
    {
     "data": {
      "text/plain": [
       "15832.005057"
      ]
     },
     "execution_count": 22,
     "metadata": {},
     "output_type": "execute_result"
    }
   ],
   "source": [
    "dm_ops_df_grouped['cpu_time'].sum()/1e6"
   ]
  },
  {
   "cell_type": "code",
   "execution_count": 23,
   "metadata": {},
   "outputs": [
    {
     "data": {
      "text/plain": [
       "601031.409144"
      ]
     },
     "execution_count": 23,
     "metadata": {},
     "output_type": "execute_result"
    }
   ],
   "source": [
    "# total cpu time spent in the jobs\n",
    "# here we want to get the total cpu time of the job without any operation filtering\n",
    "s = 0\n",
    "for j in jobs_orm: s += j.cpu_time\n",
    "s/1e6"
   ]
  },
  {
   "cell_type": "code",
   "execution_count": 24,
   "metadata": {},
   "outputs": [
    {
     "data": {
      "text/plain": [
       "2.63"
      ]
     },
     "execution_count": 24,
     "metadata": {},
     "output_type": "execute_result"
    }
   ],
   "source": [
    "round((100*__/_), 2)"
   ]
  },
  {
   "cell_type": "markdown",
   "metadata": {},
   "source": [
    "#### <a name=\"cpu-time-v-duration\">cpu time v. duration</a>\n",
    "So, the data-movement operations take about `26%` of the total cpu time across our jobs.\n",
    "There is a reason we did not use `duration` for our calculation, and instead we used\n",
    "`cpu_time` (a.k.a exclusive cpu time). The reason is that while we have an accurate \n",
    "value for `duration` for a job (wall-clock time of the job script), when we attempt to\n",
    "determine the `duration` of an operation, we run the risk of double-counting `duration`.\n",
    "\n",
    "How can that happen? \n",
    "\n",
    "If a process forks and waits for a child to terminate. The `duration` or `wall-clock` \n",
    "time will end up getting calculated both for the parent process and the child process. \n",
    "Since the `get_op_metrics` call selects processes using tags, it will select the parent and\n",
    "child processes for the operation and sum their durations, not realizing that in some\n",
    "cases the parent may have been background waiting for the child to complete (for example\n",
    "in case of a shell waiting for a spawned process to complete before resuming execution).\n",
    "`cpu_time` on the other hand is the actual time spent by a process on the cpu, and \n",
    "cannot be counted twice in such a scenario.\n",
    "\n",
    "As an exercise, let's do the above computation with `duration`."
   ]
  },
  {
   "cell_type": "code",
   "execution_count": 25,
   "metadata": {},
   "outputs": [
    {
     "data": {
      "text/plain": [
       "139454.340006"
      ]
     },
     "execution_count": 25,
     "metadata": {},
     "output_type": "execute_result"
    }
   ],
   "source": [
    "dm_ops_df_grouped['duration'].sum()/1e6"
   ]
  },
  {
   "cell_type": "code",
   "execution_count": 26,
   "metadata": {},
   "outputs": [
    {
     "name": "stdout",
     "output_type": "stream",
     "text": [
      "jobs_duration=1183071.344615\n"
     ]
    },
    {
     "data": {
      "text/plain": [
       "True"
      ]
     },
     "execution_count": 26,
     "metadata": {},
     "output_type": "execute_result"
    }
   ],
   "source": [
    "jobs_duration = 0\n",
    "for j in jobs_orm: jobs_duration += j.duration\n",
    "print(f'jobs_duration={jobs_duration/1e6}')\n",
    "jobs_duration/1e6 > dm_ops_df_grouped['cpu_time'].sum()/1e6"
   ]
  },
  {
   "cell_type": "markdown",
   "metadata": {},
   "source": [
    "If the above evaluates to `True`, the duration of data-movement operations is less than that of the job duration itself, which is a desirable outcome for a scientific workflow.\n",
    "\n",
    "If the above evaluates to `False`, the cumulative duration of the data-movement operations is showing up to be higher than the job duration. That's ridiculous! It might happen because we double-counted the `duration` of background-waiting processes. \n",
    "\n",
    "Regardless of outcome, avoiding this double-counting is easy with the API's `get_op_metrics` support function, `op_duration_method`. The trade-off is a slower function call, and so this option is disabled by defualt. To prevent double-counting of duration, we pass the `op_duration_method` argument to `get_op_metrics`."
   ]
  },
  {
   "cell_type": "code",
   "execution_count": 27,
   "metadata": {},
   "outputs": [
    {
     "data": {
      "text/html": [
       "<div>\n",
       "<style scoped>\n",
       "    .dataframe tbody tr th:only-of-type {\n",
       "        vertical-align: middle;\n",
       "    }\n",
       "\n",
       "    .dataframe tbody tr th {\n",
       "        vertical-align: top;\n",
       "    }\n",
       "\n",
       "    .dataframe thead th {\n",
       "        text-align: right;\n",
       "    }\n",
       "</style>\n",
       "<table border=\"1\" class=\"dataframe\">\n",
       "  <thead>\n",
       "    <tr style=\"text-align: right;\">\n",
       "      <th></th>\n",
       "      <th>tags</th>\n",
       "      <th>cpu_time</th>\n",
       "      <th>duration</th>\n",
       "      <th>num_procs</th>\n",
       "    </tr>\n",
       "  </thead>\n",
       "  <tbody>\n",
       "    <tr>\n",
       "      <td>0</td>\n",
       "      <td>{'op': 'cp'}</td>\n",
       "      <td>1.862087e+09</td>\n",
       "      <td>5.747539e+09</td>\n",
       "      <td>36032</td>\n",
       "    </tr>\n",
       "    <tr>\n",
       "      <td>1</td>\n",
       "      <td>{'op': 'hsmget'}</td>\n",
       "      <td>6.737386e+09</td>\n",
       "      <td>1.345340e+10</td>\n",
       "      <td>338561</td>\n",
       "    </tr>\n",
       "    <tr>\n",
       "      <td>2</td>\n",
       "      <td>{'op': 'mv'}</td>\n",
       "      <td>6.899574e+09</td>\n",
       "      <td>2.293479e+10</td>\n",
       "      <td>154407</td>\n",
       "    </tr>\n",
       "    <tr>\n",
       "      <td>3</td>\n",
       "      <td>{'op': 'rm'}</td>\n",
       "      <td>2.781723e+08</td>\n",
       "      <td>3.937963e+08</td>\n",
       "      <td>14442</td>\n",
       "    </tr>\n",
       "    <tr>\n",
       "      <td>4</td>\n",
       "      <td>{'op': 'untar'}</td>\n",
       "      <td>5.478483e+07</td>\n",
       "      <td>1.717135e+08</td>\n",
       "      <td>160</td>\n",
       "    </tr>\n",
       "  </tbody>\n",
       "</table>\n",
       "</div>"
      ],
      "text/plain": [
       "               tags      cpu_time      duration  num_procs\n",
       "0      {'op': 'cp'}  1.862087e+09  5.747539e+09      36032\n",
       "1  {'op': 'hsmget'}  6.737386e+09  1.345340e+10     338561\n",
       "2      {'op': 'mv'}  6.899574e+09  2.293479e+10     154407\n",
       "3      {'op': 'rm'}  2.781723e+08  3.937963e+08      14442\n",
       "4   {'op': 'untar'}  5.478483e+07  1.717135e+08        160"
      ]
     },
     "execution_count": 27,
     "metadata": {},
     "output_type": "execute_result"
    }
   ],
   "source": [
    "dm_ops_df_grouped = eq.get_op_metrics(jobs, tags = dm_tags, group_by_tag = True, op_duration_method = 'sum-minus-overlap')\n",
    "dm_ops_df_grouped[['tags', 'cpu_time', 'duration', 'num_procs']]"
   ]
  },
  {
   "cell_type": "code",
   "execution_count": 28,
   "metadata": {},
   "outputs": [
    {
     "name": "stdout",
     "output_type": "stream",
     "text": [
      "dm_ops_df_grouped sum = 42701.236509, jobs_duration = 1183071.344615\n"
     ]
    },
    {
     "data": {
      "text/plain": [
       "True"
      ]
     },
     "execution_count": 28,
     "metadata": {},
     "output_type": "execute_result"
    }
   ],
   "source": [
    "print(f'dm_ops_df_grouped sum = {dm_ops_df_grouped[\"duration\"].sum()/1e6}, jobs_duration = {jobs_duration/1e6}')\n",
    "jobs_duration/1e6 > dm_ops_df_grouped['duration'].sum()/1e6"
   ]
  },
  {
   "cell_type": "markdown",
   "metadata": {},
   "source": [
    "If your outcome before was `False`, hopefully you now see that `duration` is less than the old, and your final outcome is `True`- tell someone on the EPMT team if it's not!\n",
    "\n",
    "If your outcome before was `True`, you may see the exact same numbers and outcome. Which is not a bad thing!"
   ]
  },
  {
   "cell_type": "markdown",
   "metadata": {},
   "source": [
    "### <a name=\"ops-costs\">Operation metrics as a fraction of cumulative job metrics</a>\n",
    "\n",
    "You might be wondering if there's a quicker way to determine the above data movement computation, and there is! \n",
    "\n",
    "We have an API call `ops_costs` to determine the value of a metric for operation as fraction of the value of the metric for the entire job. The metric can be `cpu_time` or `duration`. The call automatically ensures that `duration` of overlapping processes is not double-counted."
   ]
  },
  {
   "cell_type": "code",
   "execution_count": 29,
   "metadata": {},
   "outputs": [
    {
     "ename": "KeyError",
     "evalue": "'cpu_time'",
     "output_type": "error",
     "traceback": [
      "\u001b[0;31m---------------------------------------------------------------------------\u001b[0m",
      "\u001b[0;31mKeyError\u001b[0m                                  Traceback (most recent call last)",
      "\u001b[0;32m/home/fms/local/epmt/4.9.2-centos-7/epmt-install/epmt/pandas/core/indexes/base.pyc\u001b[0m in \u001b[0;36mget_loc\u001b[0;34m(self, key, method, tolerance)\u001b[0m\n",
      "\u001b[0;32mpandas/_libs/index.pyx\u001b[0m in \u001b[0;36mpandas._libs.index.IndexEngine.get_loc\u001b[0;34m()\u001b[0m\n",
      "\u001b[0;32mpandas/_libs/index.pyx\u001b[0m in \u001b[0;36mpandas._libs.index.IndexEngine.get_loc\u001b[0;34m()\u001b[0m\n",
      "\u001b[0;32mpandas/_libs/hashtable_class_helper.pxi\u001b[0m in \u001b[0;36mpandas._libs.hashtable.PyObjectHashTable.get_item\u001b[0;34m()\u001b[0m\n",
      "\u001b[0;32mpandas/_libs/hashtable_class_helper.pxi\u001b[0m in \u001b[0;36mpandas._libs.hashtable.PyObjectHashTable.get_item\u001b[0;34m()\u001b[0m\n",
      "\u001b[0;31mKeyError\u001b[0m: 'cpu_time'",
      "\nDuring handling of the above exception, another exception occurred:\n",
      "\u001b[0;31mKeyError\u001b[0m                                  Traceback (most recent call last)",
      "\u001b[0;32m<ipython-input-29-c73d809f9950>\u001b[0m in \u001b[0;36m<module>\u001b[0;34m\u001b[0m\n\u001b[1;32m      1\u001b[0m \u001b[0;31m# features be `duration` and/or `cpu_time`. Here we use cpu_time\u001b[0m\u001b[0;34m\u001b[0m\u001b[0;34m\u001b[0m\u001b[0;34m\u001b[0m\u001b[0m\n\u001b[0;32m----> 2\u001b[0;31m \u001b[0;34m(\u001b[0m\u001b[0mdm_percent\u001b[0m\u001b[0;34m,\u001b[0m \u001b[0mdm_ops_df\u001b[0m\u001b[0;34m,\u001b[0m \u001b[0mjobs_cpu_time\u001b[0m\u001b[0;34m,\u001b[0m \u001b[0mdm_agg_df_by_job\u001b[0m\u001b[0;34m)\u001b[0m \u001b[0;34m=\u001b[0m \u001b[0meq\u001b[0m\u001b[0;34m.\u001b[0m\u001b[0mops_costs\u001b[0m\u001b[0;34m(\u001b[0m\u001b[0mjobs\u001b[0m\u001b[0;34m,\u001b[0m \u001b[0mtags\u001b[0m \u001b[0;34m=\u001b[0m \u001b[0mdm_tags\u001b[0m\u001b[0;34m,\u001b[0m \u001b[0mmetric\u001b[0m \u001b[0;34m=\u001b[0m \u001b[0;34m'cpu_time'\u001b[0m\u001b[0;34m)\u001b[0m\u001b[0;34m\u001b[0m\u001b[0;34m\u001b[0m\u001b[0m\n\u001b[0m\u001b[1;32m      3\u001b[0m \u001b[0mdm_percent\u001b[0m\u001b[0;34m\u001b[0m\u001b[0;34m\u001b[0m\u001b[0m\n",
      "\u001b[0;32m/home/fms/local/epmt/4.9.2-centos-7/epmt-install/epmt/orm/sqlalchemy/general.pyc\u001b[0m in \u001b[0;36mwrapper\u001b[0;34m(*args, **kwargs)\u001b[0m\n",
      "\u001b[0;32m/home/fms/local/epmt/4.9.2-centos-7/epmt-install/epmt/epmt_query.pyc\u001b[0m in \u001b[0;36mops_costs\u001b[0;34m(jobs, tags, metric)\u001b[0m\n",
      "\u001b[0;32m/home/fms/local/epmt/4.9.2-centos-7/epmt-install/epmt/pandas/core/frame.pyc\u001b[0m in \u001b[0;36m__getitem__\u001b[0;34m(self, key)\u001b[0m\n",
      "\u001b[0;32m/home/fms/local/epmt/4.9.2-centos-7/epmt-install/epmt/pandas/core/indexes/base.pyc\u001b[0m in \u001b[0;36mget_loc\u001b[0;34m(self, key, method, tolerance)\u001b[0m\n",
      "\u001b[0;32mpandas/_libs/index.pyx\u001b[0m in \u001b[0;36mpandas._libs.index.IndexEngine.get_loc\u001b[0;34m()\u001b[0m\n",
      "\u001b[0;32mpandas/_libs/index.pyx\u001b[0m in \u001b[0;36mpandas._libs.index.IndexEngine.get_loc\u001b[0;34m()\u001b[0m\n",
      "\u001b[0;32mpandas/_libs/hashtable_class_helper.pxi\u001b[0m in \u001b[0;36mpandas._libs.hashtable.PyObjectHashTable.get_item\u001b[0;34m()\u001b[0m\n",
      "\u001b[0;32mpandas/_libs/hashtable_class_helper.pxi\u001b[0m in \u001b[0;36mpandas._libs.hashtable.PyObjectHashTable.get_item\u001b[0;34m()\u001b[0m\n",
      "\u001b[0;31mKeyError\u001b[0m: 'cpu_time'"
     ]
    }
   ],
   "source": [
    "# features be `duration` and/or `cpu_time`. Here we use cpu_time\n",
    "(dm_percent, dm_ops_df, jobs_cpu_time, dm_agg_df_by_job) = eq.ops_costs(jobs, tags = dm_tags, metric = 'cpu_time')\n",
    "dm_percent"
   ]
  },
  {
   "cell_type": "code",
   "execution_count": null,
   "metadata": {},
   "outputs": [],
   "source": [
    "# only showing the first 15 rows\n",
    "dm_ops_df[['jobid', 'tags', 'num_procs', 'cpu_time']][:15]"
   ]
  },
  {
   "cell_type": "code",
   "execution_count": null,
   "metadata": {},
   "outputs": [],
   "source": [
    "# this shows the costs aggregated by jobs (across tags)\n",
    "dm_agg_df_by_job"
   ]
  },
  {
   "cell_type": "markdown",
   "metadata": {},
   "source": [
    "The table above shows the percentage of `cpu_time` spent in data-movement operations by job. While, most of the jobs are in the `30-40%` range, the first job is an outlier. This might be because, being the first in the series, it might need it's data to be fetched from long-term storage. While, the jobs following it, would find their data in the cache."
   ]
  },
  {
   "cell_type": "markdown",
   "metadata": {},
   "source": [
    "### <a name=\"op-roots\">Operation Root(s) (ADVANCED TOPIC)</a>\n",
    "\n",
    "Sometimes we are interested in knowing the root process(es) that spawned the processes\n",
    "constituting an operation, or more simply \"which processes started an operation\". `op_roots` takes\n",
    "a job (or collection of jobs) and an operation tag is parameters, and returns a collection\n",
    "of processes that are the root process(es) for the operation."
   ]
  },
  {
   "cell_type": "code",
   "execution_count": null,
   "metadata": {},
   "outputs": [],
   "source": [
    "# we could also give a list of jobs \n",
    "\n",
    "op_roots = eq.op_roots([jobid_choice_2], 'op:hsmget', fmt='pandas')\n",
    "op_roots.sort_values('duration', ascending=False)[['tags', 'exename', 'args', 'pid', 'ppid', 'duration']]\n"
   ]
  },
  {
   "cell_type": "markdown",
   "metadata": {},
   "source": [
    "As you can see that a number of root processes for the `hsmget` operation were identified. \n",
    "Here, a root process of an operation is defined as process, whose parent does not share\n",
    "the same operation `tag`. So in other words the processes list above had parents which\n",
    "were not tagged with the `hsmget` tag. "
   ]
  },
  {
   "cell_type": "markdown",
   "metadata": {},
   "source": [
    "## <a name=\"process-query\">Process Queries</a>\n",
    "\n",
    "A process query returns a collection of one or more processes. The query is\n",
    "passed a `jobs` parameter to restrict the process set to those that belong to a\n",
    "specified set of `jobs`. \n",
    "\n",
    "Like the job query, the process query can take `tag`, `fmt`, \n",
    "`fltr`, `order` and `limit` to filter and format the output. `order` and `limit` become\n",
    "particularly important in process queries as each job can have thousands of processes,\n",
    "and that takes time to load from the database. In the same vein, using `fmt=orm` is a good\n",
    "idea, in process queries as that minimizes the database overhead in certain cases.\n",
    "\n",
    "By default, with `order` unset the ordering of processes in the returned collection\n",
    "is ORM and database dependent."
   ]
  },
  {
   "cell_type": "code",
   "execution_count": null,
   "metadata": {},
   "outputs": [],
   "source": [
    "# If you want to get the processes belonging to a job\n",
    "# here each row in the pandas dataframe contains one job process\n",
    "# again, you can use the 'terse' fmt option to get just the list of database ids of the processes\n",
    "procs = eq.get_procs([jobid_choice_2], fmt='pandas')\n",
    "display(sorted(procs.columns.values))\n",
    "# remove columns with only None values and see the first 10 rows\n",
    "procs.replace(to_replace=[None], value=np.nan).dropna(axis=1,how=\"all\")[:10]"
   ]
  },
  {
   "cell_type": "markdown",
   "metadata": {},
   "source": [
    "You could also pass in more than one job, in which case the returned processes\n",
    "would be a superset of those across the jobs list. Here we use the `orm` format\n",
    "to speed the query since we just want a `count` of processes."
   ]
  },
  {
   "cell_type": "code",
   "execution_count": null,
   "metadata": {},
   "outputs": [],
   "source": [
    "procs = eq.get_procs([jobid_choice_1, jobid_choice_2], fmt='orm')\n",
    "procs.count()\n",
    "#procs = eq.get_procs([jobid_choice_1, jobid_choice_2], fmt='pandas')\n",
    "#procs"
   ]
  },
  {
   "cell_type": "markdown",
   "metadata": {},
   "source": [
    "### <a name=\"process-tags\">Process Tags</a>\n",
    "\n",
    "Each process saves a dictionary of key/value pairs, such as:\n",
    "`{'op': \"ncatted\", 'op_instance': 12, 'op_sequence': 159}`\n",
    "\n",
    "As mentioned before, the process tag is commonly used to filter processes that constitute an **operation** using the `tag` option."
   ]
  },
  {
   "cell_type": "code",
   "execution_count": null,
   "metadata": {},
   "outputs": [],
   "source": [
    "# below we get the processes in an operation that is identified by 'op:cp;op_instance:36'\n",
    "op = eq.get_procs(jobs, tags='op:cp;op_instance:36', fmt='pandas')\n",
    "\n",
    "# how many procs did we grab? \n",
    "print(len(op))\n",
    "\n",
    "# print out the process at the top of the pandas df\n",
    "op.iloc[0]"
   ]
  },
  {
   "cell_type": "markdown",
   "metadata": {},
   "source": [
    "#### <a name=\"job-proc-tags\">Unique process tags in a job (ADVANCED TOPIC)</a>\n",
    "\n",
    "We can determine the unique set of process tags across all the processes in a job (or collection of jobs) using the\n",
    "`job_proc_tags` API call."
   ]
  },
  {
   "cell_type": "code",
   "execution_count": null,
   "metadata": {
    "scrolled": true
   },
   "outputs": [],
   "source": [
    "# suppose you want to figure out the unique set of operations\n",
    "# across all the jobs of interest. We would pass in our list of jobs\n",
    "# showing the first 15 entries\n",
    "eq.job_proc_tags(jobs_orm)[:15]"
   ]
  },
  {
   "cell_type": "markdown",
   "metadata": {},
   "source": [
    "### <a name=\"filter-processes\">Filtering and Ordering Processes</a>\n",
    "\n",
    "`order`, `limit` and `fltr` should be used where possible to reduce query time."
   ]
  },
  {
   "cell_type": "code",
   "execution_count": null,
   "metadata": {},
   "outputs": [],
   "source": [
    "# now let's say we care about a particular operation. \n",
    "# Let's find the processes in the operation, and\n",
    "# sort them by the cpu_time, and then see the top offenders\n",
    "ncatted_procs = eq.get_procs(jobs_orm, \n",
    "                             tags = {'op': 'ncatted'}, \n",
    "                             order=eq.desc(eq.Process.cpu_time), \n",
    "                             limit=10,\n",
    "                             fmt='pandas')\n",
    "ncatted_procs[['jobid', 'tags', 'exename', 'duration', 'cpu_time']]"
   ]
  },
  {
   "cell_type": "markdown",
   "metadata": {},
   "source": [
    "We could have used a more precise tag, such as `{'op': 'ncatted', 'op_instance': 79}`,\n",
    "for more granular operation selection. And, maybe an exename, such as `ncatted`.\n",
    "Let's sort the returned list by decreasing process duration."
   ]
  },
  {
   "cell_type": "code",
   "execution_count": null,
   "metadata": {},
   "outputs": [],
   "source": [
    "procs = eq.get_procs(jobs_orm, tags='op:ncatted;op_instance:79', \n",
    "                     fltr=(eq.Process.exename == \"ncatted\"), \n",
    "                     order=(eq.desc(eq.Process.duration)), \n",
    "                     fmt='pandas')\n",
    "procs[['jobid', 'tags', 'exename', 'duration', 'cpu_time', 'exitcode']]"
   ]
  },
  {
   "cell_type": "markdown",
   "metadata": {},
   "source": [
    "### <a name=\"thread-metrics-aggregation\">Process contains aggregated thread metrics (ADVANCED TOPIC)</a>\n",
    "\n",
    "The `pandas` (and the `dict`) formats, in addition to having process-level data in each row, also have fields that represent metrics aggregated across the underlying threads of the process, such, as\n",
    "`rssmax`, `cpu_time`, and `rchar`. The ORM `Process` object instead has a `threads_sums` attribute, \n",
    "which is a dictionary containing the above fields."
   ]
  },
  {
   "cell_type": "code",
   "execution_count": null,
   "metadata": {},
   "outputs": [],
   "source": [
    "procs.columns.values"
   ]
  },
  {
   "cell_type": "markdown",
   "metadata": {},
   "source": [
    "### <a name=\"proc-tree\">Process tree and depth (ADVANCED TOPIC)</a>\n",
    "\n",
    "Every process in a job has a `depth` parameter that denotes its depth\n",
    "in the process tree, with the root process having a `depth` of `0`.\n",
    "\n",
    "As the process tree construction is an expensive process, we have disabled\n",
    "automatic creation of the process tree during ingestion by setting `lazy_compute_process_tree`\n",
    "to `True` in `settings.py`. This does mean that the `depth` parameter is\n",
    "ordinarily left unset in the process ORM, dataframe or dictionaries. \n",
    "We automatically compute the process tree if it's needed for example\n",
    "to determine the root process(es), or operation roots, etc.\n",
    "\n",
    "If for any reason you would like to have the `depth` parameter populated,\n",
    "you can call the `compute_process_trees` API call:"
   ]
  },
  {
   "cell_type": "code",
   "execution_count": null,
   "metadata": {},
   "outputs": [],
   "source": [
    "eq.compute_process_trees([jobid_choice_1, jobid_choice_2jobid_choice_1)\n",
    "procs = eq.get_procs(['30327560', '30327581'], fmt='pandas', order=eq.desc(eq.Process.depth))\n",
    "procs[['exename', 'pid', 'depth']][:5]"
   ]
  },
  {
   "cell_type": "markdown",
   "metadata": {},
   "source": [
    "Above we compute the process trees for two jobs, and then select their processes ordered by\n",
    "decreasing depth. As you can see the process trees have a maximum depth of `7`.\n",
    "\n",
    "Let's <a name=\"process-tree-walk\"></a>navigate the process tree!"
   ]
  },
  {
   "cell_type": "code",
   "execution_count": null,
   "metadata": {},
   "outputs": [],
   "source": [
    "# now let's walk through the process tree. To make this easy, we use the 'orm' format\n",
    "# first we compute the process tree as we intend to walk down the tree\n",
    "eq.compute_process_trees([jobid_choice_1])\n",
    "# let's sort the processes by exclusive cpu time\n",
    "# You will get a sorted list of ORM objects, let's see the top 10\n",
    "procs = eq.get_procs('30327560', order = (eq.desc(eq.Process.cpu_time)), fmt='orm')[:10]\n",
    "[p.pid for p in procs]"
   ]
  },
  {
   "cell_type": "code",
   "execution_count": null,
   "metadata": {},
   "outputs": [],
   "source": [
    "# lets pick up the first\n",
    "p = procs[0]"
   ]
  },
  {
   "cell_type": "code",
   "execution_count": null,
   "metadata": {},
   "outputs": [],
   "source": [
    "p.exename"
   ]
  },
  {
   "cell_type": "code",
   "execution_count": null,
   "metadata": {},
   "outputs": [],
   "source": [
    "p.exename, p.args, p.duration, len(p.children), p.numtids"
   ]
  },
  {
   "cell_type": "code",
   "execution_count": null,
   "metadata": {
    "scrolled": true
   },
   "outputs": [],
   "source": [
    "parent = p.parent\n",
    "parent"
   ]
  },
  {
   "cell_type": "code",
   "execution_count": null,
   "metadata": {
    "scrolled": true
   },
   "outputs": [],
   "source": [
    "parent.exename, parent.args, parent.pid, len(parent.children), len(parent.descendants)"
   ]
  },
  {
   "cell_type": "code",
   "execution_count": null,
   "metadata": {
    "scrolled": true
   },
   "outputs": [],
   "source": [
    "# let's see the aggregate thread metrics for this process\n",
    "p.threads_sums"
   ]
  },
  {
   "cell_type": "markdown",
   "metadata": {},
   "source": [
    "### <a name=\"proc-roots\">Process Roots</a>\n",
    "\n",
    "Often we are interested in finding the root process(es) in a **job**. We have two API calls to help facilitate that: `get_roots` and `root`. \n",
    "\n",
    "`get_roots` and `root` are different from `op_roots`, which we discussed earlier as the former find the root process(es) in a **job** or **collection of jobs**, while latter finds the root processes in an **operation**."
   ]
  },
  {
   "cell_type": "code",
   "execution_count": null,
   "metadata": {},
   "outputs": [],
   "source": [
    "root_procs = eq.get_roots([jobid_choice_!], fmt='orm')\n",
    "root_procs.count()"
   ]
  },
  {
   "cell_type": "markdown",
   "metadata": {},
   "source": [
    "As you can see we don't have a process tree rooted in a single process but, rather, a\n",
    "*forest* with multiple root processes. Let's see some details about the root processes: "
   ]
  },
  {
   "cell_type": "code",
   "execution_count": null,
   "metadata": {},
   "outputs": [],
   "source": [
    "# the processes are ordered (by default) in order of start time\n",
    "for r in root_procs: print(r.exename, r.args, r.pid, r.ppid, r.start)"
   ]
  },
  {
   "cell_type": "code",
   "execution_count": null,
   "metadata": {},
   "outputs": [],
   "source": [
    "# eq.root picks up the very first process by start time\n",
    "first_root = eq.root([jobid_choice_1], fmt='orm')\n",
    "first_root.exename, first_root.args, first_root.pid, first_root.ppid, first_root.start"
   ]
  },
  {
   "cell_type": "markdown",
   "metadata": {},
   "source": [
    "Looking at the `ppid` field we can see that the root processes returned by `get_roots` are actually siblings\n",
    "spawned by a single process. The `pid` of the parent is shown as `1`. You can [read here more about why the parent process becomes init for orphan processes](https://unix.stackexchange.com/questions/476191/processes-ppid-changed-to-1-after-closing-parent-shell). `eq.root` on the other just returns the first process from the sibling set. \n",
    "\n",
    "We recommend you use `get_roots` for completeness. However, in certain situations `root` suffices."
   ]
  },
  {
   "cell_type": "markdown",
   "metadata": {},
   "source": [
    "### <a name=\"procs-histogram\">Process Histogram</a>\n",
    "\n",
    "Often we want determine a histogram for an attribute in the process model. For instance, in a job or job collection, how often did we use a particular `executable`. Or, how many process were multthreaded?"
   ]
  },
  {
   "cell_type": "code",
   "execution_count": null,
   "metadata": {},
   "outputs": [],
   "source": [
    "# we can give a single job or a list of jobs\n",
    "eq.procs_histogram([jobid_choice_1], attr='exename')"
   ]
  },
  {
   "cell_type": "code",
   "execution_count": null,
   "metadata": {},
   "outputs": [],
   "source": [
    "eq.procs_histogram([jobid_choice_1], attr='numtids')"
   ]
  },
  {
   "cell_type": "markdown",
   "metadata": {},
   "source": [
    "So the job contained `3346` single-thread processes. `7` processes had two threads each, and `59` processes had `4` threads each. \n",
    "\n",
    "You may want to refer to the [model attributes](#useful-attributes) for a listing of the attributes in the\n",
    "`Process` model."
   ]
  },
  {
   "cell_type": "markdown",
   "metadata": {},
   "source": [
    "### <a name=\"timeline\">Timeline</a>\n",
    "Sometimes you want to get a timeline of the processes in the order they were spawned"
   ]
  },
  {
   "cell_type": "code",
   "execution_count": null,
   "metadata": {},
   "outputs": [],
   "source": [
    "procs = eq.timeline(jobs, fmt='pandas', limit=25)\n",
    "procs[['exename', 'tags', 'start', 'duration']]"
   ]
  },
  {
   "cell_type": "markdown",
   "metadata": {},
   "source": [
    "## <a name=\"thread-query\">Thread Query</a>\n",
    "\n",
    "The thread query requires passing one or more *process primary keys* or `Process`\n",
    "objects to `get_thread_metrics`. Let's illustrate this with an example, where\n",
    "we first obtain the <a name=\"root-process\">root process</a> of a job:"
   ]
  },
  {
   "cell_type": "code",
   "execution_count": null,
   "metadata": {},
   "outputs": [],
   "source": [
    "# let's find the root process for a particular job\n",
    "root = eq.root(jobid_choice_1, fmt='orm')\n",
    "root.pid"
   ]
  },
  {
   "cell_type": "code",
   "execution_count": null,
   "metadata": {},
   "outputs": [],
   "source": [
    "root_threads_df = eq.get_thread_metrics(root)\n",
    "display(root_threads_df.columns.values)\n",
    "root_threads_df[['process_pk', 'tid', 'usertime', 'systemtime', 'rssmax']]"
   ]
  },
  {
   "cell_type": "markdown",
   "metadata": {},
   "source": [
    "## <a name=\"useful-attributes\">Useful attributes in Job, Process and Thread objects</a>\n",
    "\n",
    "The following are some useful attributes of the job, process and thread objects.\n",
    "They are accessible when using the `orm` format. They are available in the \n",
    "`pandas` and `dict` formats. There is one important thing to note:\n",
    "\n",
    "`proc_sums` field of the Job object is masked for `pandas` and `dict` formats\n",
    "and the underlying keys of the dictionary are exposed at the top-level.\n",
    "\n",
    "`threads_sums` field of the Process object is masked for `pandas` and `dict` format\n",
    "and the underlying keys of the dictionary are exposed at the top-level.\n",
    "\n",
    "### Attributes of the Job ORM Model\n",
    " - `duration`: this is the wallclock time in microseconds\n",
    " - `cpu_time`: user+system time aggregated across all processes of the job\n",
    " - `start`:    start time in microseconds since epoch\n",
    " - `end`:      end time in microseconds since epoch\n",
    " - `jobid`:    database id for job (unique)\n",
    " - `exitcode`: return code from job\n",
    " - `tags`:     dict of key/value pairs\n",
    " - `processes`:list of processes belonging to job\n",
    " - `proc_sums`: aggregates across processes of a job\n",
    " \n",
    "\n",
    "### Attributes of the Process ORM Model\n",
    " - `duration`: this is the wallclock time in microseconds\n",
    " - `cpu_time`: exclusive user+system time for process (aggregated across it's threads)\n",
    " - `inclusive_cpu_time`: user+system time for the process and *all its descendants*\n",
    " - `start`:    start time in microseconds since epoch\n",
    " - `end`:      end time in microseconds since epoch\n",
    " - `tags`:     dict of key/value pairs\n",
    " - `threads_df`: json serialized dataframe of process threads (ADVANCED)\n",
    " - `threads_sums`: key/value pairs consisting of sums of thread metrics (ADVANCED)\n",
    " - `numtids`:  number of threads\n",
    " - `exename`\n",
    " - `args`\n",
    " - `pid`\n",
    " - `ppid`\n",
    " - `id`:       database ID for process\n",
    " - `exitcode`\n",
    " - `parent`\n",
    " - `children`\n",
    " - `ancestors`\n",
    " - `descendants`\n",
    " \n",
    " \n",
    "### Attributes of the Thread ORM Model\n",
    " - `usertime`\n",
    " - `systemtime`\n",
    " - `user+system`\n",
    " - `rssmax`\n",
    " - `majflt`\n",
    " - `read_bytes`\n",
    " - `write_bytes`"
   ]
  },
  {
   "cell_type": "markdown",
   "metadata": {},
   "source": [
    "## <a name=\"case-study\">Case Study using the API</a>\n",
    "\n",
    "Let's walk through a contrived example that shows how you may use the \n",
    "API at different levels (job, operation and processes)."
   ]
  },
  {
   "cell_type": "code",
   "execution_count": null,
   "metadata": {},
   "outputs": [],
   "source": [
    "# let's pick a job 30327560, and see what the top-level job query yields us.\n",
    "# We will choose the pandas dataframe \n",
    "eq.get_jobs(jobid_choice_1, fmt='pandas')"
   ]
  },
  {
   "cell_type": "code",
   "execution_count": null,
   "metadata": {},
   "outputs": [],
   "source": [
    "# now get the processes that are part of this job, let's sort them by the inclusive time\n",
    "# we need to pass in the job id to restrict the query to a particular job\n",
    "# the inclusive_cpu_time sums all the cpu times of the process and its dependents\n",
    "# in this case you can see that after the top-level shell process shows up at the top\n",
    "procs = eq.get_procs(jobid_choice_1, order = (eq.desc(eq.Process.inclusive_cpu_time)), fmt='pandas', limit=10)\n",
    "procs[['exename', 'duration', 'inclusive_cpu_time', 'cpu_time']]"
   ]
  },
  {
   "cell_type": "code",
   "execution_count": null,
   "metadata": {},
   "outputs": [],
   "source": [
    "# you may also want to see the processes that were the big CPU hogs in the job\n",
    "# so here we order by decreasing cpu time, see the top-10 using limit\n",
    "cpu_hogs = eq.get_procs(jobid_choice_1, order = (eq.desc(eq.Process.cpu_time)), fmt='pandas', limit=10)\n",
    "cpu_hogs[['exename', 'args', 'tags', 'depth', 'cpu_time', 'duration']]"
   ]
  },
  {
   "cell_type": "code",
   "execution_count": null,
   "metadata": {},
   "outputs": [],
   "source": [
    "# the fregrid process took pretty long. Let's see the fregrid operation in more detail\n",
    "# lets see which processes took the top *inclusive* cpu time.\n",
    "# Let's limit the output to the top 10 results\n",
    "# and let's get a pandas dataframe\n",
    "fregrid_op = eq.get_procs([jobid_choice_1], tags = 'op:fregrid', order=eq.desc(eq.Process.inclusive_cpu_time), limit=10, fmt='pandas')\n",
    "fregrid_op"
   ]
  },
  {
   "cell_type": "markdown",
   "metadata": {},
   "source": [
    "So the `fregrid` had multiple invocations of the `fregrid` executable, and that and\n",
    "`mv` took the longest time to complete."
   ]
  },
  {
   "cell_type": "markdown",
   "metadata": {},
   "source": [
    "<a name=\"failed-procs\"></a>Let's see if there are any failed processes in our job selection."
   ]
  },
  {
   "cell_type": "code",
   "execution_count": null,
   "metadata": {},
   "outputs": [],
   "source": [
    "# Let's find the failed processes across our jobs subset\n",
    "failed_procs = eq.get_procs([jobid_choice_1], fltr=(eq.Process.exitcode > 0), fmt='orm')\n",
    "failed_procs.count()"
   ]
  },
  {
   "cell_type": "markdown",
   "metadata": {},
   "source": [
    "That's a large number of failed processes!"
   ]
  },
  {
   "cell_type": "code",
   "execution_count": null,
   "metadata": {},
   "outputs": [],
   "source": [
    "# The orm also gives an easy way to navigate the process hierarchy\n",
    "# Let's use the ORM directly to walk through the job\n",
    "j = eq.get_jobs(jobid_choice_1, fmt='orm').first()\n",
    "j"
   ]
  },
  {
   "cell_type": "code",
   "execution_count": null,
   "metadata": {},
   "outputs": [],
   "source": [
    "# Notice we have a Job object. The processes in the job\n",
    "# are available as j.processes\n",
    "j.duration, j.cpu_time, j.exitcode, j.tags"
   ]
  },
  {
   "cell_type": "code",
   "execution_count": null,
   "metadata": {},
   "outputs": [],
   "source": [
    "# first we ask for the aggregate metrics for single job\n",
    "# Here, we don't specify any tags. For single jobs, when\n",
    "# we don't specify the operation/tags, they are queried from the job\n",
    "op_sums = eq.get_op_metrics(jobs=jobid_choice_1, fmt='pandas')\n",
    "display(op_sums.columns.values)\n",
    "# let's see the first 10 rows\n",
    "op_sums[['jobid', 'tags', 'duration', 'cpu_time']][:10]"
   ]
  },
  {
   "cell_type": "markdown",
   "metadata": {},
   "source": [
    "## <a name=\"modify-job-metadata\">Modifying Job Metadata</a>\n",
    "\n",
    "Every job stores metadata such as job name, `jobid`, `tags`. Most metadata\n",
    "fields are not designed to be mutable. However, there are fields such\n",
    "as `annotations` that are permitted to be modfied using the API.\n",
    "\n",
    "### <a name=\"annotate-jobs\">Annotate Jobs</a>\n",
    "\n",
    "Job annotations allow you to store arbitrary key/value pairs\n",
    "in a persistent manner. They may be retrieved later, modified, and\n",
    "saved again. There is no semantic meaning associated with annotations\n",
    "other than what the user ascribes to them. "
   ]
  },
  {
   "cell_type": "code",
   "execution_count": null,
   "metadata": {},
   "outputs": [],
   "source": [
    "eq.get_job_annotations(jobid_choice_1)"
   ]
  },
  {
   "cell_type": "code",
   "execution_count": null,
   "metadata": {},
   "outputs": [],
   "source": [
    "eq.annotate_job(jobid_choice_1, {'abc': 100})"
   ]
  },
  {
   "cell_type": "code",
   "execution_count": null,
   "metadata": {},
   "outputs": [],
   "source": [
    "eq.get_job_annotations(jobid_choice_1)"
   ]
  },
  {
   "cell_type": "code",
   "execution_count": null,
   "metadata": {},
   "outputs": [],
   "source": [
    "eq.annotate_job(jobid_choice_1, {'def': 200})"
   ]
  },
  {
   "cell_type": "code",
   "execution_count": null,
   "metadata": {},
   "outputs": [],
   "source": [
    "eq.get_job_annotations(jobid_choice_1)"
   ]
  },
  {
   "cell_type": "markdown",
   "metadata": {},
   "source": [
    "You will notice that `annotate_job` *merges* (or *updates*) the dictionary. \n",
    "It doesn't remove existing keys unless you overwrite them with a new key."
   ]
  },
  {
   "cell_type": "code",
   "execution_count": null,
   "metadata": {},
   "outputs": [],
   "source": [
    "eq.annotate_job(jobid_choice_1, {'abc': 500})"
   ]
  },
  {
   "cell_type": "markdown",
   "metadata": {},
   "source": [
    "If you wish to replace the existing annotations completely, you should\n",
    "set the `replace` flag to `annotate_job`."
   ]
  },
  {
   "cell_type": "code",
   "execution_count": null,
   "metadata": {},
   "outputs": [],
   "source": [
    "eq.annotate_job(jobid_choice_1, {'my_key': \"something new\"}, replace = True)"
   ]
  },
  {
   "cell_type": "code",
   "execution_count": null,
   "metadata": {},
   "outputs": [],
   "source": [
    "eq.get_job_annotations(jobid_choice_1)"
   ]
  },
  {
   "cell_type": "markdown",
   "metadata": {},
   "source": [
    "To remove all annotations:"
   ]
  },
  {
   "cell_type": "code",
   "execution_count": null,
   "metadata": {},
   "outputs": [],
   "source": [
    "eq.remove_job_annotations(jobid_choice_1)"
   ]
  },
  {
   "cell_type": "code",
   "execution_count": null,
   "metadata": {},
   "outputs": [],
   "source": [
    "eq.get_job_annotations(jobid_choice_1)"
   ]
  },
  {
   "cell_type": "markdown",
   "metadata": {},
   "source": [
    "### <a name=\"analyze-jobs\">Analyze Jobs</a>"
   ]
  },
  {
   "cell_type": "markdown",
   "metadata": {},
   "source": [
    "We have developed API calls to run simple analyses pipelines, such\n",
    "as outlier detection on jobs. The output from such analyses is \n",
    "persisted a dictionary along with the job in the database, and\n",
    "can be retrieved later. \n",
    "\n",
    "Please note that the current analyses\n",
    "pipeline is simplistic and will be improved. It is meant solely\n",
    "for illustrative purposes and to facilitate feedback to spur\n",
    "subsequent development."
   ]
  },
  {
   "cell_type": "code",
   "execution_count": null,
   "metadata": {},
   "outputs": [],
   "source": [
    "# request list of *all* unanalyzed jobs\n",
    "eq.get_unanalyzed_jobs()"
   ]
  },
  {
   "cell_type": "code",
   "execution_count": null,
   "metadata": {},
   "outputs": [],
   "source": [
    "# usually we care about a subset of recent jobs rather than\n",
    "# querying the whole database\n",
    "eq.get_unanalyzed_jobs(['625172', '627922',jobid_choice_1,'633144'])"
   ]
  },
  {
   "cell_type": "markdown",
   "metadata": {},
   "source": [
    "You may also care about a specific analysis, such as outlier detection\n",
    "in which case you can pass an `analyses_filter` to define what an \n",
    "\"analyzed\" job means. We will cover this later in an example once we\n",
    "have some jobs that we have analyzed.\n",
    "\n",
    "First let's run an analysis pipeline on some jobs:"
   ]
  },
  {
   "cell_type": "code",
   "execution_count": null,
   "metadata": {},
   "outputs": [],
   "source": [
    "# here we pass a list of jobs we want to analyze. If don't pass\n",
    "# an argument (or an empty list) all pending jobs will be analyzed.\n",
    "# That could take very long. So here we retrict the active set..\n",
    "num_filters_executed = eq.analyze_pending_jobs(['625172', '627922', jobid_choice_1, '633144'])"
   ]
  },
  {
   "cell_type": "markdown",
   "metadata": {},
   "source": [
    "`analyze_pending_jobs` returns the number of analysis methods executed on the\n",
    "jobs. At present we only have `outlier_detection` in our pipeline. So the\n",
    "`num_filters_executed` will be `1`. If you run the the same call again, the \n",
    "outlier detection algorithm will not be run again. Now, let's see what \n",
    "results came from our analysis."
   ]
  },
  {
   "cell_type": "code",
   "execution_count": null,
   "metadata": {},
   "outputs": [],
   "source": [
    "eq.get_job_analyses('625172')"
   ]
  },
  {
   "cell_type": "markdown",
   "metadata": {},
   "source": [
    "Since we ran outlier detection on 4 jobs, each of the jobs has the same\n",
    "analyses saved. We queried one of the jobs. We could have queried one\n",
    "of the other jobs and got the same output."
   ]
  },
  {
   "cell_type": "code",
   "execution_count": null,
   "metadata": {},
   "outputs": [],
   "source": [
    "eq.get_job_analyses('627922')"
   ]
  },
  {
   "cell_type": "markdown",
   "metadata": {},
   "source": [
    "The results suggest that based on each of the features -- `num_procs`,\n",
    "`duration`, and `cpu_time` -- job `625172` is an outlier, while\n",
    "the other three jobs `['633144', jobid_choice_1, '627922']` form an \n",
    "equivalent set.\n",
    "\n",
    "Now if we query the list of unanalyzed jobs, these 4 jobs will be\n",
    "absent."
   ]
  },
  {
   "cell_type": "code",
   "execution_count": null,
   "metadata": {},
   "outputs": [],
   "source": [
    "eq.get_unanalyzed_jobs()"
   ]
  },
  {
   "cell_type": "markdown",
   "metadata": {},
   "source": [
    "## <a name=\"delete-jobs\">Deleting Jobs</a>"
   ]
  },
  {
   "cell_type": "code",
   "execution_count": null,
   "metadata": {},
   "outputs": [],
   "source": [
    "len(eq.get_jobs(fmt='terse'))"
   ]
  },
  {
   "cell_type": "code",
   "execution_count": null,
   "metadata": {},
   "outputs": [],
   "source": [
    "# to delete a single job\n",
    "# the function returns the number of jobs deleted\n",
    "eq.delete_jobs('804285')"
   ]
  },
  {
   "cell_type": "code",
   "execution_count": null,
   "metadata": {},
   "outputs": [],
   "source": [
    "# to delete multiple jobs, you need to set a second `force` argument\n",
    "eq.delete_jobs(['693147','696127'], force=True)"
   ]
  },
  {
   "cell_type": "markdown",
   "metadata": {},
   "source": [
    "### <a name=\"delete-jobs-time-based\">Time-based Job Deletion</a>"
   ]
  },
  {
   "cell_type": "code",
   "execution_count": null,
   "metadata": {},
   "outputs": [],
   "source": [
    "# to delete all jobs older than 30 days\n",
    "# Very useful in a cron job!\n",
    "eq.delete_jobs([], force=True, before=-30)"
   ]
  },
  {
   "cell_type": "code",
   "execution_count": null,
   "metadata": {},
   "outputs": [],
   "source": [
    "# to delete jobs that were executed in the last week\n",
    "eq.delete_jobs([], force=True, after=-7)"
   ]
  },
  {
   "cell_type": "code",
   "execution_count": null,
   "metadata": {},
   "outputs": [],
   "source": [
    "# to delete jobs older than a specific date\n",
    "# delete jobs before Jan 21, 2018 09:55\n",
    "eq.delete_jobs([], force=True, before='01/21/2018 09:55')"
   ]
  }
 ],
 "metadata": {
  "kernelspec": {
   "display_name": "Python 3",
   "language": "python",
   "name": "python3"
  },
  "language_info": {
   "codemirror_mode": {
    "name": "ipython",
    "version": 3
   },
   "file_extension": ".py",
   "mimetype": "text/x-python",
   "name": "python",
   "nbconvert_exporter": "python",
   "pygments_lexer": "ipython3",
   "version": "3.7.4"
  }
 },
 "nbformat": 4,
 "nbformat_minor": 2
}
