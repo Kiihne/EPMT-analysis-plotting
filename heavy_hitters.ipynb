{
 "cells": [
  {
   "cell_type": "markdown",
   "metadata": {},
   "source": [
    "# identify the users who run the hardest jobs\n",
    "We want to know who on average runs heavy jobs. We need to take into account that some users do not run many jobs"
   ]
  },
  {
   "cell_type": "code",
   "execution_count": 1,
   "metadata": {},
   "outputs": [
    {
     "name": "stdout",
     "output_type": "stream",
     "text": [
      "importing epmt_query\n",
      "importing pandas\n"
     ]
    }
   ],
   "source": [
    "# import  epmt query \n",
    "print('importing epmt_query')\n",
    "import epmt_query as eq\n",
    "# import matplot for better plotting functions\n",
    "import sys\n",
    "sys.path.insert(0,'/home/Avery.Kiihne/pip_experiment')\n",
    "import matplotlib.pyplot as plt\n",
    "import numpy as np\n",
    "# import pandas. optional but helpful 'display.max_columns' arg shows all DataFrame columns when printing\n",
    "print('importing pandas')\n",
    "import pandas\n",
    "pandas.set_option('display.max_columns', None)"
   ]
  },
  {
   "cell_type": "code",
   "execution_count": 2,
   "metadata": {},
   "outputs": [
    {
     "name": "stdout",
     "output_type": "stream",
     "text": [
      "at  10 % completion. time elapsed: 0.0009807149569193523\n",
      "at  20 % completion. time elapsed: 0.0013513525327046713\n",
      "at  30 % completion. time elapsed: 0.0017491380373636882\n",
      "at  40 % completion. time elapsed: 0.002156047026316325\n",
      "at  50 % completion. time elapsed: 0.0025076746940612795\n",
      "at  60 % completion. time elapsed: 0.002843459447224935\n",
      "at  70 % completion. time elapsed: 0.003200423717498779\n",
      "at  80 % completion. time elapsed: 0.003626588980356852\n",
      "at  90 % completion. time elapsed: 0.004080911477406819\n",
      "at  100 % completion. time elapsed: 0.004501028855641683\n",
      "jobs in this time period:  200\n"
     ]
    }
   ],
   "source": [
    "import time\n",
    "start = time.time()\n",
    "limiter = eq.get_jobs(limit = 200,after=-12, before = -5, fmt = 'orm')\n",
    "job_num = limiter.count()   #number of jobs grabbed\n",
    "jobs_all = []\n",
    "for aa in range(10):\n",
    "    jobs_temp = eq.get_jobs(limit=int(job_num/10), after = -12, before = -5, offset = int(job_num*aa/10), \n",
    "                           fmt='dict')\n",
    "    jobs_all.extend(jobs_temp)\n",
    "    print('at ',(aa+1)*10,'% completion. time elapsed:',(time.time()-start)/60)\n",
    "print('jobs in this time period: ', len(jobs_all))"
   ]
  },
  {
   "cell_type": "code",
   "execution_count": 3,
   "metadata": {},
   "outputs": [],
   "source": [
    "users = []\n",
    "for job in jobs_all:\n",
    "    users.append(job['user'])"
   ]
  },
  {
   "cell_type": "code",
   "execution_count": 4,
   "metadata": {},
   "outputs": [],
   "source": [
    "users = set(users)\n",
    "totals = {}\n",
    "scores = []\n",
    "final_score = {}\n",
    "for person in users:\n",
    "    totals[person] = [0,0,0]   #rssmax, cpu_time, number of jobs\n",
    "    final_score[person] = 0\n",
    "#sort data into each person. we care about rssmax, cpu_time, and total number of jobs\n",
    "for job in jobs_all:\n",
    "    if job.get('rssmax'):\n",
    "        totals[job['user']][0] += job['rssmax']\n",
    "        totals[job['user']][1] += job['cpu_time']\n",
    "        totals[job['user']][2] += 1\n",
    "for person in users:\n",
    "    totals[person][0] = totals[person][0]/totals[person][2]\n",
    "    totals[person][1] = totals[person][1]/totals[person][2]\n",
    "    scores.append([person,totals[person][0],totals[person][1], totals[person][2]])\n",
    "#sort rankings\n",
    "num_jobs_ranking = sorted(scores, key=lambda score: score[3], reverse=True)\n",
    "num_jobs_ranking = num_jobs_ranking[0:int(.7*len(num_jobs_ranking))]   #elimate the bottom 30% based on jobs run\n",
    "rssmax_ranking = sorted(num_jobs_ranking, key=lambda score: score[1], reverse=True)\n",
    "cpu_time_ranking = sorted(num_jobs_ranking, key=lambda score: score[2], reverse=True)"
   ]
  },
  {
   "cell_type": "code",
   "execution_count": 5,
   "metadata": {},
   "outputs": [],
   "source": [
    "#tally final score based on ranking of rssmax and cpu_time averages totalled\n",
    "final_score = {}\n",
    "for aa in range(len(num_jobs_ranking)):   #make keys fro score dictionary\n",
    "    final_score[num_jobs_ranking[aa][0]] = 0\n",
    "for count in range(len(num_jobs_ranking)):   #combine score\n",
    "    final_score[rssmax_ranking[count][0]] += count\n",
    "    final_score[cpu_time_ranking[count][0]] += count\n",
    "#wrap into list because dictionaries do not sort easily\n",
    "final_rank = []\n",
    "for bb in range(len(num_jobs_ranking)):   #make keys fro score dictionary\n",
    "    final_rank.append([final_score[num_jobs_ranking[bb][0]], num_jobs_ranking[bb][0]])\n",
    "final_rank = sorted(final_rank)"
   ]
  },
  {
   "cell_type": "code",
   "execution_count": 17,
   "metadata": {},
   "outputs": [
    {
     "name": "stdout",
     "output_type": "stream",
     "text": [
      "the users with the heaviest average usage are  David.Paynter  and  Raphael.Dussin and  Eric.Stofferahn\n",
      "From  2024-03-03 15:47:40.576806  to  2024-03-20 16:32:31.864116\n"
     ]
    }
   ],
   "source": [
    "print('the users with the heaviest average usage are ',final_rank[0][1] ,' and ' , final_rank[1][1] + ' and ' , final_rank[2][1])\n",
    "print('From ',jobs_all[0]['updated_at'] , ' to ',jobs_all[-1]['updated_at'])"
   ]
  },
  {
   "cell_type": "code",
   "execution_count": 6,
   "metadata": {},
   "outputs": [
    {
     "data": {
      "text/plain": [
       "[[1, 'Eric.Stofferahn'],\n",
       " [1, 'oar.gfdl.am5'],\n",
       " [4, 'John.Krasting'],\n",
       " [6, 'Liwei.Jia'],\n",
       " [8, 'Oar.Gfdl.Nmme'],\n",
       " [10, 'Cole.Harvey']]"
      ]
     },
     "execution_count": 6,
     "metadata": {},
     "output_type": "execute_result"
    }
   ],
   "source": [
    "final_rank"
   ]
  },
  {
   "cell_type": "code",
   "execution_count": 7,
   "metadata": {},
   "outputs": [
    {
     "data": {
      "text/plain": [
       "[['oar.gfdl.am5', 16685321714.75, 1537367085.625, 16],\n",
       " ['Eric.Stofferahn', 266454612.0, 1978626305.0, 1],\n",
       " ['John.Krasting', 44385380.0, 648516717.0, 1],\n",
       " ['Liwei.Jia', 41585998.24, 91848618.06, 50],\n",
       " ['Oar.Gfdl.Nmme', 24977957.37142857, 43610842.01428571, 70],\n",
       " ['Cole.Harvey', 4005768.474576271, 19843880.101694915, 59]]"
      ]
     },
     "execution_count": 7,
     "metadata": {},
     "output_type": "execute_result"
    }
   ],
   "source": [
    "rssmax_ranking"
   ]
  },
  {
   "cell_type": "code",
   "execution_count": 8,
   "metadata": {},
   "outputs": [
    {
     "data": {
      "text/plain": [
       "[['Eric.Stofferahn', 266454612.0, 1978626305.0, 1],\n",
       " ['oar.gfdl.am5', 16685321714.75, 1537367085.625, 16],\n",
       " ['John.Krasting', 44385380.0, 648516717.0, 1],\n",
       " ['Liwei.Jia', 41585998.24, 91848618.06, 50],\n",
       " ['Oar.Gfdl.Nmme', 24977957.37142857, 43610842.01428571, 70],\n",
       " ['Cole.Harvey', 4005768.474576271, 19843880.101694915, 59]]"
      ]
     },
     "execution_count": 8,
     "metadata": {},
     "output_type": "execute_result"
    }
   ],
   "source": [
    "cpu_time_ranking"
   ]
  },
  {
   "cell_type": "code",
   "execution_count": 13,
   "metadata": {},
   "outputs": [
    {
     "data": {
      "text/plain": [
       "['Oar.Gfdl.Nmme', 24977957.37142857, 43610842.01428571, 70]"
      ]
     },
     "execution_count": 13,
     "metadata": {},
     "output_type": "execute_result"
    }
   ],
   "source": [
    "num_jobs_ranking[0]"
   ]
  },
  {
   "cell_type": "code",
   "execution_count": 11,
   "metadata": {},
   "outputs": [
    {
     "ename": "AttributeError",
     "evalue": "'list' object has no attribute 'items'",
     "output_type": "error",
     "traceback": [
      "\u001b[0;31m---------------------------------------------------------------------------\u001b[0m",
      "\u001b[0;31mAttributeError\u001b[0m                            Traceback (most recent call last)",
      "\u001b[0;32m<ipython-input-11-23f0d4b10bc7>\u001b[0m in \u001b[0;36m<module>\u001b[0;34m\u001b[0m\n\u001b[1;32m      1\u001b[0m \u001b[0mlabels\u001b[0m \u001b[0;34m=\u001b[0m \u001b[0;34m[\u001b[0m\u001b[0;34m]\u001b[0m\u001b[0;34m\u001b[0m\u001b[0;34m\u001b[0m\u001b[0m\n\u001b[1;32m      2\u001b[0m \u001b[0msizes\u001b[0m \u001b[0;34m=\u001b[0m \u001b[0;34m[\u001b[0m\u001b[0;34m]\u001b[0m\u001b[0;34m\u001b[0m\u001b[0;34m\u001b[0m\u001b[0m\n\u001b[0;32m----> 3\u001b[0;31m \u001b[0;32mfor\u001b[0m \u001b[0mx\u001b[0m\u001b[0;34m,\u001b[0m \u001b[0my\u001b[0m \u001b[0;32min\u001b[0m \u001b[0mcpu_time_ranking\u001b[0m\u001b[0;34m.\u001b[0m\u001b[0mitems\u001b[0m\u001b[0;34m(\u001b[0m\u001b[0;34m)\u001b[0m\u001b[0;34m:\u001b[0m\u001b[0;34m\u001b[0m\u001b[0;34m\u001b[0m\u001b[0m\n\u001b[0m\u001b[1;32m      4\u001b[0m     \u001b[0mlabels\u001b[0m\u001b[0;34m.\u001b[0m\u001b[0mappend\u001b[0m\u001b[0;34m(\u001b[0m\u001b[0mx\u001b[0m\u001b[0;34m)\u001b[0m\u001b[0;34m\u001b[0m\u001b[0;34m\u001b[0m\u001b[0m\n\u001b[1;32m      5\u001b[0m     \u001b[0msizes\u001b[0m\u001b[0;34m.\u001b[0m\u001b[0mappend\u001b[0m\u001b[0;34m(\u001b[0m\u001b[0my\u001b[0m\u001b[0;34m)\u001b[0m\u001b[0;34m\u001b[0m\u001b[0;34m\u001b[0m\u001b[0m\n",
      "\u001b[0;31mAttributeError\u001b[0m: 'list' object has no attribute 'items'"
     ]
    }
   ],
   "source": [
    "labels = []\n",
    "sizes = []\n",
    "for x, y in cpu_time_ranking.items():\n",
    "    labels.append(x)\n",
    "    sizes.append(y)"
   ]
  },
  {
   "cell_type": "code",
   "execution_count": null,
   "metadata": {},
   "outputs": [],
   "source": []
  }
 ],
 "metadata": {
  "kernelspec": {
   "display_name": "Python 3",
   "language": "python",
   "name": "python3"
  },
  "language_info": {
   "codemirror_mode": {
    "name": "ipython",
    "version": 3
   },
   "file_extension": ".py",
   "mimetype": "text/x-python",
   "name": "python",
   "nbconvert_exporter": "python",
   "pygments_lexer": "ipython3",
   "version": "3.7.4"
  }
 },
 "nbformat": 4,
 "nbformat_minor": 2
}
