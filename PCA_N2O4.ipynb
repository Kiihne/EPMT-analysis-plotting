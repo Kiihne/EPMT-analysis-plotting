{
 "cells": [
  {
   "cell_type": "markdown",
   "metadata": {},
   "source": [
    "# model for idenifying breaking job\n",
    "looking to train a model using Baudilio Tejerina jobs, in order to make a model that idenifies outliers.\n",
    "\n",
    "model jobs have SLURM_JOB_NAME: N2O4"
   ]
  },
  {
   "cell_type": "code",
   "execution_count": 56,
   "metadata": {},
   "outputs": [],
   "source": [
    "# epmt_query contains the EPMT Query API\n",
    "import epmt_query as eq\n",
    "# epmt_outliers contains the EPMT Outlier Detection API\n",
    "import epmt_outliers as eod\n",
    "# epmt_stat contains statistical functions\n",
    "import epmt_stat as es\n",
    "import pandas as pd\n",
    "import numpy as np\n",
    "import time"
   ]
  },
  {
   "cell_type": "code",
   "execution_count": 57,
   "metadata": {},
   "outputs": [
    {
     "name": "stdout",
     "output_type": "stream",
     "text": [
      "number of elements in jobs_all=1756\n"
     ]
    },
    {
     "data": {
      "text/plain": [
       "datetime.datetime(2024, 1, 5, 14, 29, 26, 521879)"
      ]
     },
     "execution_count": 57,
     "metadata": {},
     "output_type": "execute_result"
    }
   ],
   "source": [
    "# potential criteria are before/after job start/end/creation times, \n",
    "# potential tags are exp_component, exp_name, exp_time, exp_platform, and exp_target (i.e. command line args to frepp)\n",
    "# potential output formats are dict, pandas, terse, and orm\n",
    "username = 'Baudilio.Tejerina'\n",
    "jobs_all = eq.get_jobs(fltr=(eq.Job.user_id == username),\n",
    "                       fmt='dict')\n",
    "print(f'number of elements in jobs_all={len(jobs_all)}')\n",
    "jobs_all[0]['start']"
   ]
  },
  {
   "cell_type": "code",
   "execution_count": 58,
   "metadata": {},
   "outputs": [],
   "source": [
    "#sort jobs into desired category\n",
    "N2O4_jobs = []\n",
    "not_N2O4_jobs = []\n",
    "for job_instance in range(len(jobs_all)):\n",
    "    if jobs_all[job_instance]['env_dict']['SLURM_JOB_NAME'][0:4] == 'N2O4':\n",
    "        N2O4_jobs.append(jobs_all[job_instance])\n",
    "    else:\n",
    "        not_N2O4_jobs.append(jobs_all[job_instance])"
   ]
  },
  {
   "cell_type": "code",
   "execution_count": 59,
   "metadata": {},
   "outputs": [],
   "source": [
    "feature_list=['cpu_time','duration','rssmax','num_procs'] #parameters used to identify outliers\n",
    "feature_list_wjobid=['jobid']+feature_list\n",
    "exp_comp_outlier_jobs = eod.detect_outlier_jobs(N2O4_jobs, features=feature_list, sanity_check = False)\n",
    "\n",
    "# the output is a 2-element list: first element is a panda's dataframe, second is a dict\n",
    "# we're only interested in the datafram for now.\n",
    "df=exp_comp_outlier_jobs[0]\n",
    "df['score'] = 0\n",
    "df['score'] = df.sum(axis=1)\n",
    "sorted_df = df.sort_values('score', ascending=False)"
   ]
  },
  {
   "cell_type": "code",
   "execution_count": 60,
   "metadata": {},
   "outputs": [
    {
     "name": "stdout",
     "output_type": "stream",
     "text": [
      "num_inliers=37 out of 61 possible jobs\n"
     ]
    }
   ],
   "source": [
    "#here we sort based on score to find inliers\n",
    "# univariate classifier, default features\n",
    "exp_comp_outlier_jobs = eod.detect_outlier_jobs(N2O4_jobs, sanity_check = False, features = feature_list)\n",
    "df = exp_comp_outlier_jobs[0]\n",
    "\n",
    "# create a df column called `score` to hold the sum\n",
    "df['score'] = 0\n",
    "df['score'] = df.sum(axis=1)\n",
    "\n",
    "# select only jobs whose scores are 0.\n",
    "inliers_df = df[df.score == 0][feature_list_wjobid]\n",
    "\n",
    "# count how many jobs, inliers we have\n",
    "num_inliers = len(inliers_df)\n",
    "model_jobs = list(inliers_df.jobid.values)\n",
    "print(f'num_inliers={num_inliers} out of {len(df)} possible jobs')"
   ]
  },
  {
   "cell_type": "code",
   "execution_count": 61,
   "metadata": {},
   "outputs": [
    {
     "name": "stdout",
     "output_type": "stream",
     "text": [
      "time:  0.003466490904490153  minutes\n"
     ]
    }
   ],
   "source": [
    "#time to make the actual model\n",
    "start = time.time()\n",
    "r = eq.create_refmodel(model_jobs, methods=es.mvod_classifiers(), sanity_check = False) #create trained model\n",
    "print('time: ',(time.time()-start)/60, ' minutes')"
   ]
  },
  {
   "cell_type": "code",
   "execution_count": 63,
   "metadata": {},
   "outputs": [
    {
     "ename": "ValueError",
     "evalue": "dataframe columns (['rchar', 'syscr', 'syscw', 'wchar', 'cstime', 'cutime', 'majflt', 'minflt', 'rssmax', 'cmajflt', 'cminflt', 'inblock', 'outblock', 'usertime', 'processor', 'starttime', 'vol_ctxsw', 'guest_time', 'read_bytes', 'systemtime', 'time_oncpu', 'timeslices', 'invol_ctxsw', 'write_bytes', 'time_waiting', 'delayacct_blkio_time', 'cancelled_write_bytes']) contain atlleast one NaN each",
     "output_type": "error",
     "traceback": [
      "\u001b[0;31m---------------------------------------------------------------------------\u001b[0m",
      "\u001b[0;31mValueError\u001b[0m                                Traceback (most recent call last)",
      "\u001b[0;32m<ipython-input-63-a7b103bd8415>\u001b[0m in \u001b[0;36m<module>\u001b[0;34m\u001b[0m\n\u001b[0;32m----> 1\u001b[0;31m \u001b[0mdf\u001b[0m\u001b[0;34m,\u001b[0m \u001b[0mmodel_scores\u001b[0m \u001b[0;34m=\u001b[0m \u001b[0meod\u001b[0m\u001b[0;34m.\u001b[0m\u001b[0mdetect_outlier_jobs\u001b[0m\u001b[0;34m(\u001b[0m\u001b[0mnot_N2O4_jobs\u001b[0m\u001b[0;34m,\u001b[0m \u001b[0mmethods\u001b[0m\u001b[0;34m=\u001b[0m\u001b[0mes\u001b[0m\u001b[0;34m.\u001b[0m\u001b[0mmvod_classifiers\u001b[0m\u001b[0;34m(\u001b[0m\u001b[0;34m)\u001b[0m\u001b[0;34m,\u001b[0m \u001b[0mtrained_model\u001b[0m\u001b[0;34m=\u001b[0m\u001b[0mr\u001b[0m\u001b[0;34m[\u001b[0m\u001b[0;34m'id'\u001b[0m\u001b[0;34m]\u001b[0m\u001b[0;34m,\u001b[0m \u001b[0msanity_check\u001b[0m \u001b[0;34m=\u001b[0m \u001b[0;32mFalse\u001b[0m\u001b[0;34m)\u001b[0m\u001b[0;34m\u001b[0m\u001b[0;34m\u001b[0m\u001b[0m\n\u001b[0m\u001b[1;32m      2\u001b[0m \u001b[0mdf_sorted\u001b[0m\u001b[0;34m=\u001b[0m\u001b[0mdf\u001b[0m\u001b[0;34m.\u001b[0m\u001b[0msort_values\u001b[0m\u001b[0;34m(\u001b[0m\u001b[0;34m'outlier'\u001b[0m\u001b[0;34m,\u001b[0m \u001b[0mascending\u001b[0m\u001b[0;34m=\u001b[0m\u001b[0;32mFalse\u001b[0m\u001b[0;34m)\u001b[0m\u001b[0;34m\u001b[0m\u001b[0;34m\u001b[0m\u001b[0m\n\u001b[1;32m      3\u001b[0m \u001b[0mdf_sorted\u001b[0m\u001b[0;34m\u001b[0m\u001b[0;34m\u001b[0m\u001b[0m\n",
      "\u001b[0;32m/home/fms/local/epmt/4.9.2-centos-7/epmt-install/epmt/orm/sqlalchemy/general.pyc\u001b[0m in \u001b[0;36mwrapper\u001b[0;34m(*args, **kwargs)\u001b[0m\n",
      "\u001b[0;32m/home/fms/local/epmt/4.9.2-centos-7/epmt-install/epmt/epmt_outliers.pyc\u001b[0m in \u001b[0;36mdetect_outlier_jobs\u001b[0;34m(jobs, trained_model, features, methods, thresholds, sanity_check, pca)\u001b[0m\n",
      "\u001b[0;31mValueError\u001b[0m: dataframe columns (['rchar', 'syscr', 'syscw', 'wchar', 'cstime', 'cutime', 'majflt', 'minflt', 'rssmax', 'cmajflt', 'cminflt', 'inblock', 'outblock', 'usertime', 'processor', 'starttime', 'vol_ctxsw', 'guest_time', 'read_bytes', 'systemtime', 'time_oncpu', 'timeslices', 'invol_ctxsw', 'write_bytes', 'time_waiting', 'delayacct_blkio_time', 'cancelled_write_bytes']) contain atlleast one NaN each"
     ]
    }
   ],
   "source": [
    "df, model_scores = eod.detect_outlier_jobs(not_N2O4_jobs, methods=es.mvod_classifiers(), trained_model=r['id'], sanity_check = False)\n",
    "df_sorted=df.sort_values('outlier', ascending=False)\n",
    "df_sorted\n"
   ]
  },
  {
   "cell_type": "code",
   "execution_count": null,
   "metadata": {},
   "outputs": [],
   "source": []
  }
 ],
 "metadata": {
  "kernelspec": {
   "display_name": "Python 3",
   "language": "python",
   "name": "python3"
  },
  "language_info": {
   "codemirror_mode": {
    "name": "ipython",
    "version": 3
   },
   "file_extension": ".py",
   "mimetype": "text/x-python",
   "name": "python",
   "nbconvert_exporter": "python",
   "pygments_lexer": "ipython3",
   "version": "3.7.4"
  }
 },
 "nbformat": 4,
 "nbformat_minor": 2
}
