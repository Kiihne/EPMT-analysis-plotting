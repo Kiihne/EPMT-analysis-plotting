{
 "cells": [
  {
   "cell_type": "markdown",
   "metadata": {},
   "source": [
    "# outliers normalization model for ocean jobs\n",
    "same setup as the other oceans model, but in this one, we normalize the data before we make the model with it."
   ]
  },
  {
   "cell_type": "code",
   "execution_count": 1,
   "metadata": {},
   "outputs": [],
   "source": [
    "# epmt_query contains the EPMT Query API\n",
    "import epmt_query as eq\n",
    "# epmt_outliers contains the EPMT Outlier Detection API\n",
    "import epmt_outliers as eod\n",
    "# epmt_stat contains statistical functions\n",
    "import epmt_stat as es\n",
    "import pandas as pd\n",
    "import numpy as np\n",
    "# import matplot for better plotting functions\n",
    "import sys\n",
    "sys.path.insert(0,'/home/Ian.Laflotte/ians_py374/pip_experiment')\n",
    "import matplotlib.pyplot as plt\n",
    "import numpy as np\n",
    "import time"
   ]
  },
  {
   "cell_type": "code",
   "execution_count": 2,
   "metadata": {},
   "outputs": [],
   "source": [
    "# retrieve all jobs corresponding to below criteria/tag(s)\n",
    "# computationally heavy, but older jobs get grabbed faster, due to already being post-processed\n",
    "job_num = 3000   #number of jobs grabbed\n",
    "jobs_all = eq.get_jobs(limit=job_num, before=-20, after = -30, \n",
    "                       fmt='dict')\n",
    "#"
   ]
  },
  {
   "cell_type": "code",
   "execution_count": 3,
   "metadata": {},
   "outputs": [
    {
     "name": "stdout",
     "output_type": "stream",
     "text": [
      "ocean jobs found =  780\n"
     ]
    }
   ],
   "source": [
    "#separate jobs with 'ocean' related tags\n",
    "ocean_jobs = []\n",
    "tag_groups =['ocean_scalar', 'ocean_monthly', 'ocean_month', 'ocean_daily', 'ocean_cobalt', 'ocean_annual', 'ocean_other']   #wording must be exact, except for ocean_other\n",
    "#breaks down data into dictonaries\n",
    "for job_instance in range(job_num):\n",
    "    if jobs_all[job_instance].get('rssmax') is None or (\n",
    "        len(jobs_all[job_instance].get('tags')) == 0):\n",
    "        continue\n",
    "            \n",
    "    tags = (jobs_all[job_instance].get('tags')['exp_component']) #every tag, regardless of 'ocean'\n",
    "    for specific_group in tag_groups:      \n",
    "        if tags.find(specific_group) >= 0 or tags.find('ocean') >= 0 and specific_group == 'ocean_other':   #find returns an integer if the exact word is in the string\n",
    "            ocean_jobs.append(jobs_all[job_instance])\n",
    "            break\n",
    "#print checks on data        \n",
    "print('ocean jobs found = ',(len(ocean_jobs)))\n"
   ]
  },
  {
   "cell_type": "code",
   "execution_count": 4,
   "metadata": {},
   "outputs": [
    {
     "name": "stdout",
     "output_type": "stream",
     "text": [
      "num_inliers=507 out of 780 possible jobs\n"
     ]
    },
    {
     "data": {
      "text/html": [
       "<div>\n",
       "<style scoped>\n",
       "    .dataframe tbody tr th:only-of-type {\n",
       "        vertical-align: middle;\n",
       "    }\n",
       "\n",
       "    .dataframe tbody tr th {\n",
       "        vertical-align: top;\n",
       "    }\n",
       "\n",
       "    .dataframe thead th {\n",
       "        text-align: right;\n",
       "    }\n",
       "</style>\n",
       "<table border=\"1\" class=\"dataframe\">\n",
       "  <thead>\n",
       "    <tr style=\"text-align: right;\">\n",
       "      <th></th>\n",
       "      <th>jobid</th>\n",
       "      <th>cpu_time</th>\n",
       "      <th>duration</th>\n",
       "      <th>num_procs</th>\n",
       "      <th>write_bytes</th>\n",
       "      <th>score</th>\n",
       "    </tr>\n",
       "  </thead>\n",
       "  <tbody>\n",
       "    <tr>\n",
       "      <td>661</td>\n",
       "      <td>35327599</td>\n",
       "      <td>3</td>\n",
       "      <td>3</td>\n",
       "      <td>1</td>\n",
       "      <td>3</td>\n",
       "      <td>10</td>\n",
       "    </tr>\n",
       "    <tr>\n",
       "      <td>656</td>\n",
       "      <td>35327594</td>\n",
       "      <td>3</td>\n",
       "      <td>3</td>\n",
       "      <td>0</td>\n",
       "      <td>3</td>\n",
       "      <td>9</td>\n",
       "    </tr>\n",
       "    <tr>\n",
       "      <td>26</td>\n",
       "      <td>35322489</td>\n",
       "      <td>3</td>\n",
       "      <td>3</td>\n",
       "      <td>0</td>\n",
       "      <td>3</td>\n",
       "      <td>9</td>\n",
       "    </tr>\n",
       "    <tr>\n",
       "      <td>636</td>\n",
       "      <td>35327533</td>\n",
       "      <td>3</td>\n",
       "      <td>3</td>\n",
       "      <td>0</td>\n",
       "      <td>3</td>\n",
       "      <td>9</td>\n",
       "    </tr>\n",
       "    <tr>\n",
       "      <td>21</td>\n",
       "      <td>35322484</td>\n",
       "      <td>3</td>\n",
       "      <td>3</td>\n",
       "      <td>0</td>\n",
       "      <td>3</td>\n",
       "      <td>9</td>\n",
       "    </tr>\n",
       "    <tr>\n",
       "      <td>...</td>\n",
       "      <td>...</td>\n",
       "      <td>...</td>\n",
       "      <td>...</td>\n",
       "      <td>...</td>\n",
       "      <td>...</td>\n",
       "      <td>...</td>\n",
       "    </tr>\n",
       "    <tr>\n",
       "      <td>309</td>\n",
       "      <td>35324264</td>\n",
       "      <td>0</td>\n",
       "      <td>0</td>\n",
       "      <td>0</td>\n",
       "      <td>0</td>\n",
       "      <td>0</td>\n",
       "    </tr>\n",
       "    <tr>\n",
       "      <td>310</td>\n",
       "      <td>35324281</td>\n",
       "      <td>0</td>\n",
       "      <td>0</td>\n",
       "      <td>0</td>\n",
       "      <td>0</td>\n",
       "      <td>0</td>\n",
       "    </tr>\n",
       "    <tr>\n",
       "      <td>311</td>\n",
       "      <td>35324282</td>\n",
       "      <td>0</td>\n",
       "      <td>0</td>\n",
       "      <td>0</td>\n",
       "      <td>0</td>\n",
       "      <td>0</td>\n",
       "    </tr>\n",
       "    <tr>\n",
       "      <td>313</td>\n",
       "      <td>35324285</td>\n",
       "      <td>0</td>\n",
       "      <td>0</td>\n",
       "      <td>0</td>\n",
       "      <td>0</td>\n",
       "      <td>0</td>\n",
       "    </tr>\n",
       "    <tr>\n",
       "      <td>779</td>\n",
       "      <td>35328373</td>\n",
       "      <td>0</td>\n",
       "      <td>0</td>\n",
       "      <td>0</td>\n",
       "      <td>0</td>\n",
       "      <td>0</td>\n",
       "    </tr>\n",
       "  </tbody>\n",
       "</table>\n",
       "<p>780 rows × 6 columns</p>\n",
       "</div>"
      ],
      "text/plain": [
       "        jobid  cpu_time  duration  num_procs  write_bytes  score\n",
       "661  35327599         3         3          1            3     10\n",
       "656  35327594         3         3          0            3      9\n",
       "26   35322489         3         3          0            3      9\n",
       "636  35327533         3         3          0            3      9\n",
       "21   35322484         3         3          0            3      9\n",
       "..        ...       ...       ...        ...          ...    ...\n",
       "309  35324264         0         0          0            0      0\n",
       "310  35324281         0         0          0            0      0\n",
       "311  35324282         0         0          0            0      0\n",
       "313  35324285         0         0          0            0      0\n",
       "779  35328373         0         0          0            0      0\n",
       "\n",
       "[780 rows x 6 columns]"
      ]
     },
     "execution_count": 4,
     "metadata": {},
     "output_type": "execute_result"
    }
   ],
   "source": [
    "#create a list of features to make the model from \n",
    "feature_list=['cpu_time','duration','num_procs','write_bytes']\n",
    "feature_list_wjobid=['jobid']+feature_list\n",
    "\n",
    "#normalize ocean jobs\n",
    "ocean_df = eq.get_jobs(ocean_jobs, fmt = 'pandas')\n",
    "st_ocean_jobs = ocean_df[feature_list_wjobid].copy()\n",
    "st_ocean_jobs[feature_list] = es.standardize(ocean_df[feature_list].to_numpy())\n",
    "\n",
    "exp_comp_outlier_jobs = eod.detect_outlier_jobs(st_ocean_jobs, features=feature_list, sanity_check = False)\n",
    "\n",
    "# the output is a 2-element list: first element is a panda's dataframe, second is a dict\n",
    "# we're only interested in the datafram for now.\n",
    "df=exp_comp_outlier_jobs[0]\n",
    "df['score'] = 0\n",
    "df['score'] = df.sum(axis=1)\n",
    "sorted_df = df.sort_values('score', ascending=False)\n",
    "\n",
    "# univariate classifier, default features\n",
    "exp_comp_outlier_jobs = eod.detect_outlier_jobs(st_ocean_jobs, sanity_check = False, features = feature_list)\n",
    "df = exp_comp_outlier_jobs[0]\n",
    "\n",
    "# create a df column called `score` to hold the sum\n",
    "df['score'] = 0\n",
    "df['score'] = df.sum(axis=1)\n",
    "\n",
    "# select only jobs whose scores are 0.\n",
    "inliers_df = df[df.score == 0][feature_list_wjobid]\n",
    "\n",
    "# count how many jobs, inliers we have\n",
    "num_inliers = len(inliers_df)\n",
    "print(f'num_inliers={num_inliers} out of {len(df)} possible jobs')\n",
    "\n",
    "sorted_df[feature_list_wjobid+['score']]"
   ]
  },
  {
   "cell_type": "code",
   "execution_count": 5,
   "metadata": {},
   "outputs": [
    {
     "name": "stdout",
     "output_type": "stream",
     "text": [
      "30\n",
      "time:  31.951032968362174  minutes\n"
     ]
    }
   ],
   "source": [
    "#create model. computationally heavy\n",
    "start = time.time()\n",
    "model_jobs = list(inliers_df.jobid.values)\n",
    "r = eq.create_refmodel(model_jobs, methods=es.mvod_classifiers(), sanity_check = False) #create trained model\n",
    "df, model_scores = eod.detect_outlier_jobs(ocean_jobs, methods=es.mvod_classifiers(), trained_model=r['id'],sanity_check = False) #check data against model\n",
    "df_sorted=df.sort_values('outlier', ascending=False)\n",
    "df_sorted\n",
    "print(r['id'])\n",
    "print('time: ',(time.time()-start)/60, ' minutes')"
   ]
  },
  {
   "cell_type": "markdown",
   "metadata": {},
   "source": [
    "# histogram analysis\n",
    "We will make two hisotgrams, one with the unfiltered data, one with all the outliers removed"
   ]
  },
  {
   "cell_type": "code",
   "execution_count": 56,
   "metadata": {},
   "outputs": [
    {
     "name": "stdout",
     "output_type": "stream",
     "text": [
      "time:  0.5248188018798828\n"
     ]
    }
   ],
   "source": [
    "#we apply the model to a separate data set to test it.\n",
    "start = time.time()\n",
    "job_num = 25000   #number of jobs grabbed\n",
    "jobs_all = eq.get_jobs(limit=job_num, after = -14, before = -7, \n",
    "                       fmt='dict')\n",
    "print('time: ',(time.time()-start)/60)"
   ]
  },
  {
   "cell_type": "code",
   "execution_count": 57,
   "metadata": {},
   "outputs": [
    {
     "name": "stdout",
     "output_type": "stream",
     "text": [
      "ocean jobs found =  4438\n",
      "time:  3.1195969661076863\n"
     ]
    }
   ],
   "source": [
    "#applying a model to a new data set can be computationally heavy, depending on the size of the data and model\n",
    "start = time.time()\n",
    "ocean_jobs_recent = []\n",
    "#breaks down data into dictonaries\n",
    "for job_instance in range(len(jobs_all)):\n",
    "    if jobs_all[job_instance].get('rssmax') is None or (\n",
    "        len(jobs_all[job_instance].get('tags')) == 0):\n",
    "        continue\n",
    "            \n",
    "    tags = (jobs_all[job_instance].get('tags')['exp_component']) #every tag, regardless of 'ocean'\n",
    "    for specific_group in tag_groups:      \n",
    "        if tags.find(specific_group) >= 0 or tags.find('ocean') >= 0 and specific_group == 'ocean_other':   #find returns an integer if the exact word is in the string\n",
    "            ocean_jobs_recent.append(jobs_all[job_instance])\n",
    "            break\n",
    "#print checks on data        \n",
    "print('ocean jobs found = ',(len(ocean_jobs_recent)))\n",
    "#normalization\n",
    "ocean_df_recent = eq.get_jobs(ocean_jobs_recent, fmt = 'pandas')\n",
    "st_ocean_jobs_recent = ocean_df_recent[feature_list_wjobid].copy()\n",
    "st_ocean_jobs_recent[feature_list] = es.standardize(ocean_df_recent[feature_list].to_numpy())\n",
    "#applying model\n",
    "df, model_scores = eod.detect_outlier_jobs(ocean_jobs_recent, methods=es.mvod_classifiers(), trained_model=18,sanity_check = False) #check data against model\n",
    "df_sorted=df.sort_values('outlier', ascending=False)\n",
    "\n",
    "print('time: ',(time.time()-start)/60)\n"
   ]
  },
  {
   "cell_type": "code",
   "execution_count": 58,
   "metadata": {},
   "outputs": [],
   "source": [
    "#sort the jobs that where not part of the model, so we can see how the model has changed the data set\n",
    "df_sorted['jobid']\n",
    "outliers_id = []\n",
    "inliers_id = []\n",
    "all_id = []\n",
    "outliers_rssmax = []\n",
    "inliers_rssmax = []\n",
    "all_rssmax = []\n",
    "#sort id values into outliers and non outliers\n",
    "for job_instance in range(len(df_sorted['jobid'])):\n",
    "    all_id.append(df_sorted['jobid'][job_instance])\n",
    "    if df_sorted['outlier'][job_instance] > 1:\n",
    "        outliers_id.append(df_sorted['jobid'][job_instance])\n",
    "    else:\n",
    "        inliers_id.append(df_sorted['jobid'][job_instance])\n",
    "#make unordered rssmax lists     \n",
    "for job_instance in range(len(ocean_jobs_recent)):\n",
    "    all_rssmax.append(ocean_jobs_recent[job_instance]['rssmax'])\n",
    "    if ocean_jobs_recent[job_instance]['jobid'] in outliers_id:\n",
    "        outliers_rssmax.append(ocean_jobs_recent[job_instance]['rssmax'])\n",
    "    else:\n",
    "        inliers_rssmax.append(ocean_jobs_recent[job_instance]['rssmax'])"
   ]
  },
  {
   "cell_type": "code",
   "execution_count": 59,
   "metadata": {},
   "outputs": [
    {
     "data": {
      "text/plain": [
       "<function matplotlib.pyplot.show(close=None, block=None)>"
      ]
     },
     "execution_count": 59,
     "metadata": {},
     "output_type": "execute_result"
    },
    {
     "data": {
      "image/png": "[encoded data removed]",
      "text/plain": [
       "<Figure size 1500x500 with 3 Axes>"
      ]
     },
     "metadata": {},
     "output_type": "display_data"
    }
   ],
   "source": [
    "#plot histtograms\n",
    "#setup\n",
    "plt.style.use('default')\n",
    "fig, ax = plt.subplots(nrows=1,ncols=3,figsize=(15,5), sharex = 'all', sharey = 'all', gridspec_kw={'hspace': .11,'wspace':.05})\n",
    "ax =ax.ravel()\n",
    "#plot\n",
    "ax[0].hist(all_rssmax, bins = np.logspace(np.log10(1e5),np.log10(1e10), 50), log = True)\n",
    "ax[1].hist(inliers_rssmax, bins = np.logspace(np.log10(1e5),np.log10(1e10), 50), log = True, label = (45, 'inlier jobs'))\n",
    "ax[2].hist(outliers_rssmax, bins = np.logspace(np.log10(1e5),np.log10(1e10), 50), log = True)\n",
    "#markdown\n",
    "plt.suptitle('rssmax for ocean jobs with reference model', y = .9, size =26, verticalalignment = 'bottom')\n",
    "ax[0].annotate('all ocean jobs', xy=(0.4, 0.9), xycoords=\"axes fraction\",color = 'black', fontsize =15, weight = 'bold',horizontalalignment='left',verticalalignment='center', bbox=dict(facecolor='white', alpha=0.8))\n",
    "ax[1].annotate('inlier ocean jobs', xy=(0.4, 0.9), xycoords=\"axes fraction\",color = 'black', fontsize =15, weight = 'bold',horizontalalignment='left',verticalalignment='center', bbox=dict(facecolor='white', alpha=0.8))\n",
    "ax[2].annotate('outlier ocean jobs', xy=(0.4, 0.9), xycoords=\"axes fraction\",color = 'black', fontsize =15, weight = 'bold',horizontalalignment='left',verticalalignment='center', bbox=dict(facecolor='white', alpha=0.8))\n",
    "ax[0].set_ylabel('counts', fontsize = 12)\n",
    "for aa in range(3):\n",
    "    ax[aa].set_xlabel('rssmax')\n",
    "    ax[aa].set_xscale('log')\n",
    "    ax[aa].set_yscale('log')\n",
    "\n",
    "plt.savefig('analysis_plots/training_model_normalized.pdf', format = 'pdf', bbox_inches='tight')\n",
    "plt.show"
   ]
  },
  {
   "cell_type": "code",
   "execution_count": null,
   "metadata": {},
   "outputs": [],
   "source": []
  },
  {
   "cell_type": "code",
   "execution_count": null,
   "metadata": {},
   "outputs": [],
   "source": []
  }
 ],
 "metadata": {
  "kernelspec": {
   "display_name": "Python 3",
   "language": "python",
   "name": "python3"
  },
  "language_info": {
   "codemirror_mode": {
    "name": "ipython",
    "version": 3
   },
   "file_extension": ".py",
   "mimetype": "text/x-python",
   "name": "python",
   "nbconvert_exporter": "python",
   "pygments_lexer": "ipython3",
   "version": "3.7.4"
  }
 },
 "nbformat": 4,
 "nbformat_minor": 2
}
